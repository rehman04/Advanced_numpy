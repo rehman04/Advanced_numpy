{
  "nbformat": 4,
  "nbformat_minor": 0,
  "metadata": {
    "colab": {
      "name": "numpy advanced",
      "version": "0.3.2",
      "provenance": [],
      "collapsed_sections": []
    },
    "kernelspec": {
      "display_name": "Python 3",
      "name": "python3"
    }
  },
  "cells": [
    {
      "cell_type": "code",
      "metadata": {
        "id": "vbKWbckVt1S0",
        "colab_type": "code",
        "colab": {}
      },
      "source": [
        "import numpy as np"
      ],
      "execution_count": 0,
      "outputs": []
    },
    {
      "cell_type": "code",
      "metadata": {
        "id": "_zthn9uJuNiM",
        "colab_type": "code",
        "outputId": "b12f277c-21b3-4695-827c-ccf32cf209ef",
        "colab": {
          "base_uri": "https://localhost:8080/",
          "height": 85
        }
      },
      "source": [
        "my_arr=np.arange(1000)\n",
        "my_list=list(range(1000))\n",
        "\n",
        "%time for i in range(20):my_arr2=my_arr*2\n",
        "\n",
        "%time for i in range(20):my_list2=[x*2 for x in my_list]"
      ],
      "execution_count": 0,
      "outputs": [
        {
          "output_type": "stream",
          "text": [
            "CPU times: user 130 µs, sys: 25 µs, total: 155 µs\n",
            "Wall time: 889 µs\n",
            "CPU times: user 1.12 ms, sys: 668 µs, total: 1.79 ms\n",
            "Wall time: 5.49 ms\n"
          ],
          "name": "stdout"
        }
      ]
    },
    {
      "cell_type": "code",
      "metadata": {
        "id": "vOKuVtZpwKXx",
        "colab_type": "code",
        "outputId": "af8ccdee-5651-4bf0-ebaa-c72622d388e9",
        "colab": {
          "base_uri": "https://localhost:8080/",
          "height": 85
        }
      },
      "source": [
        "my_arr=np.arange(10)\n",
        "my_list=list(range(10))\n",
        "print(my_arr*2)\n",
        "print('\\n')\n",
        "print([x*2 for x in my_list])\n"
      ],
      "execution_count": 0,
      "outputs": [
        {
          "output_type": "stream",
          "text": [
            "[ 0  2  4  6  8 10 12 14 16 18]\n",
            "\n",
            "\n",
            "[0, 2, 4, 6, 8, 10, 12, 14, 16, 18]\n"
          ],
          "name": "stdout"
        }
      ]
    },
    {
      "cell_type": "code",
      "metadata": {
        "id": "mLUl8lUjw0VR",
        "colab_type": "code",
        "outputId": "f5bea09d-0510-419e-e5bb-d0eba499dc80",
        "colab": {
          "base_uri": "https://localhost:8080/",
          "height": 51
        }
      },
      "source": [
        "data=np.random.randn(2,3)\n",
        "data"
      ],
      "execution_count": 0,
      "outputs": [
        {
          "output_type": "execute_result",
          "data": {
            "text/plain": [
              "array([[ 0.25949289,  1.43682371,  0.9289229 ],\n",
              "       [ 0.11418114,  0.14687793, -0.6571913 ]])"
            ]
          },
          "metadata": {
            "tags": []
          },
          "execution_count": 5
        }
      ]
    },
    {
      "cell_type": "code",
      "metadata": {
        "id": "p5S6CLs0w0ZY",
        "colab_type": "code",
        "outputId": "47937683-b971-4c24-b834-2bb657e79704",
        "colab": {
          "base_uri": "https://localhost:8080/",
          "height": 51
        }
      },
      "source": [
        "data*2"
      ],
      "execution_count": 0,
      "outputs": [
        {
          "output_type": "execute_result",
          "data": {
            "text/plain": [
              "array([[ 0.51898578,  2.87364742,  1.8578458 ],\n",
              "       [ 0.22836228,  0.29375587, -1.3143826 ]])"
            ]
          },
          "metadata": {
            "tags": []
          },
          "execution_count": 6
        }
      ]
    },
    {
      "cell_type": "code",
      "metadata": {
        "id": "0wzJAozC3YBH",
        "colab_type": "code",
        "outputId": "1561e9dd-41a6-44fe-c36e-f7bdd01dc71e",
        "colab": {
          "base_uri": "https://localhost:8080/",
          "height": 51
        }
      },
      "source": [
        "data+data"
      ],
      "execution_count": 0,
      "outputs": [
        {
          "output_type": "execute_result",
          "data": {
            "text/plain": [
              "array([[ 0.51898578,  2.87364742,  1.8578458 ],\n",
              "       [ 0.22836228,  0.29375587, -1.3143826 ]])"
            ]
          },
          "metadata": {
            "tags": []
          },
          "execution_count": 7
        }
      ]
    },
    {
      "cell_type": "code",
      "metadata": {
        "id": "wuLdD_dr38jS",
        "colab_type": "code",
        "outputId": "cd9f6067-42e8-4863-b777-ffd439bbb844",
        "colab": {
          "base_uri": "https://localhost:8080/",
          "height": 34
        }
      },
      "source": [
        "data.shape"
      ],
      "execution_count": 0,
      "outputs": [
        {
          "output_type": "execute_result",
          "data": {
            "text/plain": [
              "(2, 3)"
            ]
          },
          "metadata": {
            "tags": []
          },
          "execution_count": 8
        }
      ]
    },
    {
      "cell_type": "code",
      "metadata": {
        "id": "dc2ucXPA4eaX",
        "colab_type": "code",
        "outputId": "4ea64c50-8dba-4130-ad73-73917bfec29e",
        "colab": {
          "base_uri": "https://localhost:8080/",
          "height": 34
        }
      },
      "source": [
        "data.dtype"
      ],
      "execution_count": 0,
      "outputs": [
        {
          "output_type": "execute_result",
          "data": {
            "text/plain": [
              "dtype('float64')"
            ]
          },
          "metadata": {
            "tags": []
          },
          "execution_count": 9
        }
      ]
    },
    {
      "cell_type": "code",
      "metadata": {
        "id": "NfgpxadiDH3T",
        "colab_type": "code",
        "outputId": "501accb9-28a6-476f-e7ac-d60e33f56f15",
        "colab": {
          "base_uri": "https://localhost:8080/",
          "height": 34
        }
      },
      "source": [
        "data1=[6,7.5,0,1]\n",
        "arr1=np.array(data1)\n",
        "arr1"
      ],
      "execution_count": 0,
      "outputs": [
        {
          "output_type": "execute_result",
          "data": {
            "text/plain": [
              "array([6. , 7.5, 0. , 1. ])"
            ]
          },
          "metadata": {
            "tags": []
          },
          "execution_count": 10
        }
      ]
    },
    {
      "cell_type": "code",
      "metadata": {
        "id": "tmkUD96RESP4",
        "colab_type": "code",
        "outputId": "aef94645-4c5c-4e53-d86f-974dc0ff7c1d",
        "colab": {
          "base_uri": "https://localhost:8080/",
          "height": 54
        }
      },
      "source": [
        "data2=[[1,2,3],[4,5,6]]\n",
        "arr2=np.array(data2)\n",
        "arr2"
      ],
      "execution_count": 0,
      "outputs": [
        {
          "output_type": "execute_result",
          "data": {
            "text/plain": [
              "array([[1, 2, 3],\n",
              "       [4, 5, 6]])"
            ]
          },
          "metadata": {
            "tags": []
          },
          "execution_count": 11
        }
      ]
    },
    {
      "cell_type": "code",
      "metadata": {
        "id": "IHrcKAXBGzBs",
        "colab_type": "code",
        "outputId": "8876bd7c-e279-4a54-c3ed-8a0f927c52fa",
        "colab": {
          "base_uri": "https://localhost:8080/",
          "height": 35
        }
      },
      "source": [
        "arr2.ndim"
      ],
      "execution_count": 0,
      "outputs": [
        {
          "output_type": "execute_result",
          "data": {
            "text/plain": [
              "2"
            ]
          },
          "metadata": {
            "tags": []
          },
          "execution_count": 12
        }
      ]
    },
    {
      "cell_type": "code",
      "metadata": {
        "id": "FGVomKSnSwfz",
        "colab_type": "code",
        "outputId": "3f084c06-7369-4f63-b965-aca554ee4ae9",
        "colab": {
          "base_uri": "https://localhost:8080/",
          "height": 35
        }
      },
      "source": [
        "arr2.shape"
      ],
      "execution_count": 0,
      "outputs": [
        {
          "output_type": "execute_result",
          "data": {
            "text/plain": [
              "(2, 3)"
            ]
          },
          "metadata": {
            "tags": []
          },
          "execution_count": 13
        }
      ]
    },
    {
      "cell_type": "code",
      "metadata": {
        "id": "XgYCcXEgT6Wq",
        "colab_type": "code",
        "outputId": "ceb63f84-fefc-4a66-cc8d-e96ff4a886f1",
        "colab": {
          "base_uri": "https://localhost:8080/",
          "height": 35
        }
      },
      "source": [
        "arr1.dtype\n"
      ],
      "execution_count": 0,
      "outputs": [
        {
          "output_type": "execute_result",
          "data": {
            "text/plain": [
              "dtype('float64')"
            ]
          },
          "metadata": {
            "tags": []
          },
          "execution_count": 14
        }
      ]
    },
    {
      "cell_type": "code",
      "metadata": {
        "id": "BbvCoLC6T8Oh",
        "colab_type": "code",
        "outputId": "2a37cebc-201c-4f56-a00d-e0354d329578",
        "colab": {
          "base_uri": "https://localhost:8080/",
          "height": 35
        }
      },
      "source": [
        "arr2.dtype"
      ],
      "execution_count": 0,
      "outputs": [
        {
          "output_type": "execute_result",
          "data": {
            "text/plain": [
              "dtype('int64')"
            ]
          },
          "metadata": {
            "tags": []
          },
          "execution_count": 15
        }
      ]
    },
    {
      "cell_type": "code",
      "metadata": {
        "id": "geDd7n3IUOHy",
        "colab_type": "code",
        "outputId": "275918ac-5a26-4b94-e2e1-3cf0c723068b",
        "colab": {
          "base_uri": "https://localhost:8080/",
          "height": 35
        }
      },
      "source": [
        "np.zeros(10)"
      ],
      "execution_count": 0,
      "outputs": [
        {
          "output_type": "execute_result",
          "data": {
            "text/plain": [
              "array([0., 0., 0., 0., 0., 0., 0., 0., 0., 0.])"
            ]
          },
          "metadata": {
            "tags": []
          },
          "execution_count": 16
        }
      ]
    },
    {
      "cell_type": "code",
      "metadata": {
        "id": "mC0WWCiDUTHi",
        "colab_type": "code",
        "outputId": "9a11234e-f4b1-41db-9be6-0bfeb58c4d61",
        "colab": {
          "base_uri": "https://localhost:8080/",
          "height": 72
        }
      },
      "source": [
        "np.zeros((3,6))"
      ],
      "execution_count": 0,
      "outputs": [
        {
          "output_type": "execute_result",
          "data": {
            "text/plain": [
              "array([[0., 0., 0., 0., 0., 0.],\n",
              "       [0., 0., 0., 0., 0., 0.],\n",
              "       [0., 0., 0., 0., 0., 0.]])"
            ]
          },
          "metadata": {
            "tags": []
          },
          "execution_count": 17
        }
      ]
    },
    {
      "cell_type": "code",
      "metadata": {
        "id": "CqdzhHgnUbBQ",
        "colab_type": "code",
        "outputId": "85624c38-96a2-4d66-9f39-dc5c03999467",
        "colab": {
          "base_uri": "https://localhost:8080/",
          "height": 145
        }
      },
      "source": [
        "np.empty((2,3,2))"
      ],
      "execution_count": 0,
      "outputs": [
        {
          "output_type": "execute_result",
          "data": {
            "text/plain": [
              "array([[[3.64933645e-316, 1.29441743e-312],\n",
              "        [2.37663529e-312, 2.58883487e-312],\n",
              "        [2.41907520e-312, 2.44029516e-312]],\n",
              "\n",
              "       [[8.48798317e-313, 9.33678148e-313],\n",
              "        [8.70018275e-313, 2.02566915e-322],\n",
              "        [3.73677421e-316, 0.00000000e+000]]])"
            ]
          },
          "metadata": {
            "tags": []
          },
          "execution_count": 18
        }
      ]
    },
    {
      "cell_type": "code",
      "metadata": {
        "id": "ftFqr8_hUvnE",
        "colab_type": "code",
        "outputId": "b6d90bdb-2ec4-4f1d-c44d-1a5a13a2e456",
        "colab": {
          "base_uri": "https://localhost:8080/",
          "height": 35
        }
      },
      "source": [
        "np.arange(10)"
      ],
      "execution_count": 0,
      "outputs": [
        {
          "output_type": "execute_result",
          "data": {
            "text/plain": [
              "array([0, 1, 2, 3, 4, 5, 6, 7, 8, 9])"
            ]
          },
          "metadata": {
            "tags": []
          },
          "execution_count": 19
        }
      ]
    },
    {
      "cell_type": "code",
      "metadata": {
        "id": "sPAC9XiBVDa8",
        "colab_type": "code",
        "outputId": "9aaaebcd-dab7-4c05-80e7-7d552c5bac78",
        "colab": {
          "base_uri": "https://localhost:8080/",
          "height": 35
        }
      },
      "source": [
        "arr3=(1,2,3,4)\n",
        "np.array(arr3)"
      ],
      "execution_count": 0,
      "outputs": [
        {
          "output_type": "execute_result",
          "data": {
            "text/plain": [
              "array([1, 2, 3, 4])"
            ]
          },
          "metadata": {
            "tags": []
          },
          "execution_count": 20
        }
      ]
    },
    {
      "cell_type": "code",
      "metadata": {
        "id": "yRaKqROOVONC",
        "colab_type": "code",
        "outputId": "0cdfa9cd-e7ad-4383-af47-00465d35283e",
        "colab": {
          "base_uri": "https://localhost:8080/",
          "height": 54
        }
      },
      "source": [
        "arr4=((1,2,3,4),(1,2,3,4))\n",
        "np.array(arr4)"
      ],
      "execution_count": 0,
      "outputs": [
        {
          "output_type": "execute_result",
          "data": {
            "text/plain": [
              "array([[1, 2, 3, 4],\n",
              "       [1, 2, 3, 4]])"
            ]
          },
          "metadata": {
            "tags": []
          },
          "execution_count": 21
        }
      ]
    },
    {
      "cell_type": "code",
      "metadata": {
        "id": "XXJTEnG0VwNn",
        "colab_type": "code",
        "outputId": "500aa39c-65ed-4faf-8c53-60524f2bdcaf",
        "colab": {
          "base_uri": "https://localhost:8080/",
          "height": 54
        }
      },
      "source": [
        "np.asarray([[1,2,3,4],[5,6,7,8]])"
      ],
      "execution_count": 0,
      "outputs": [
        {
          "output_type": "execute_result",
          "data": {
            "text/plain": [
              "array([[1, 2, 3, 4],\n",
              "       [5, 6, 7, 8]])"
            ]
          },
          "metadata": {
            "tags": []
          },
          "execution_count": 22
        }
      ]
    },
    {
      "cell_type": "code",
      "metadata": {
        "id": "vL3vxCsKWOjd",
        "colab_type": "code",
        "outputId": "5135b2b4-e5df-43fe-bf62-080f03b7e69d",
        "colab": {
          "base_uri": "https://localhost:8080/",
          "height": 35
        }
      },
      "source": [
        "np.ones(10)"
      ],
      "execution_count": 0,
      "outputs": [
        {
          "output_type": "execute_result",
          "data": {
            "text/plain": [
              "array([1., 1., 1., 1., 1., 1., 1., 1., 1., 1.])"
            ]
          },
          "metadata": {
            "tags": []
          },
          "execution_count": 23
        }
      ]
    },
    {
      "cell_type": "code",
      "metadata": {
        "id": "FLjHWiqiWURU",
        "colab_type": "code",
        "outputId": "845371be-a010-4d83-dd92-9c9ce908f112",
        "colab": {
          "base_uri": "https://localhost:8080/",
          "height": 54
        }
      },
      "source": [
        "np.ones_like(arr4)"
      ],
      "execution_count": 0,
      "outputs": [
        {
          "output_type": "execute_result",
          "data": {
            "text/plain": [
              "array([[1, 1, 1, 1],\n",
              "       [1, 1, 1, 1]])"
            ]
          },
          "metadata": {
            "tags": []
          },
          "execution_count": 24
        }
      ]
    },
    {
      "cell_type": "code",
      "metadata": {
        "id": "oW-f1AepWkMz",
        "colab_type": "code",
        "outputId": "4a6d6da5-f4dd-4373-ed40-04b23fcdcfe5",
        "colab": {
          "base_uri": "https://localhost:8080/",
          "height": 54
        }
      },
      "source": [
        "np.zeros_like(arr4)"
      ],
      "execution_count": 0,
      "outputs": [
        {
          "output_type": "execute_result",
          "data": {
            "text/plain": [
              "array([[0, 0, 0, 0],\n",
              "       [0, 0, 0, 0]])"
            ]
          },
          "metadata": {
            "tags": []
          },
          "execution_count": 25
        }
      ]
    },
    {
      "cell_type": "code",
      "metadata": {
        "id": "CzUiSdcFfAIw",
        "colab_type": "code",
        "outputId": "885c0c93-f8a5-4474-9fad-9c618e03fa0c",
        "colab": {
          "base_uri": "https://localhost:8080/",
          "height": 72
        }
      },
      "source": [
        "np.empty((3,3))"
      ],
      "execution_count": 0,
      "outputs": [
        {
          "output_type": "execute_result",
          "data": {
            "text/plain": [
              "array([[3.40527909e-316, 2.35541533e-312, 2.14321575e-312],\n",
              "       [2.01589600e-312, 2.22809558e-312, 2.14321575e-312],\n",
              "       [2.05833592e-312, 2.41907520e-312, 8.70018275e-313]])"
            ]
          },
          "metadata": {
            "tags": []
          },
          "execution_count": 26
        }
      ]
    },
    {
      "cell_type": "code",
      "metadata": {
        "id": "gePW_RSTWngy",
        "colab_type": "code",
        "outputId": "294b2162-b3cf-4a9f-d56b-22808d4fbe31",
        "colab": {
          "base_uri": "https://localhost:8080/",
          "height": 90
        }
      },
      "source": [
        "np.empty_like(arr4)"
      ],
      "execution_count": 0,
      "outputs": [
        {
          "output_type": "execute_result",
          "data": {
            "text/plain": [
              "array([[           66308224,                  32,     731669153710079,\n",
              "        3835206741602362420],\n",
              "       [3630236874907673139, 7364011237886484792, 4048791463195129145,\n",
              "          31084746152960768]])"
            ]
          },
          "metadata": {
            "tags": []
          },
          "execution_count": 27
        }
      ]
    },
    {
      "cell_type": "code",
      "metadata": {
        "id": "SIsSSemYXJGr",
        "colab_type": "code",
        "outputId": "0fd14890-8caa-4f84-9619-c84ac498655e",
        "colab": {
          "base_uri": "https://localhost:8080/",
          "height": 54
        }
      },
      "source": [
        "arr5=np.full((2,3),2)\n",
        "arr5\n"
      ],
      "execution_count": 0,
      "outputs": [
        {
          "output_type": "execute_result",
          "data": {
            "text/plain": [
              "array([[2, 2, 2],\n",
              "       [2, 2, 2]])"
            ]
          },
          "metadata": {
            "tags": []
          },
          "execution_count": 28
        }
      ]
    },
    {
      "cell_type": "code",
      "metadata": {
        "id": "aj5TFYDxW50p",
        "colab_type": "code",
        "outputId": "bb0258f7-fc2b-4e8f-d5d5-408a616abdfb",
        "colab": {
          "base_uri": "https://localhost:8080/",
          "height": 54
        }
      },
      "source": [
        "np.full_like(arr4,2)"
      ],
      "execution_count": 0,
      "outputs": [
        {
          "output_type": "execute_result",
          "data": {
            "text/plain": [
              "array([[2, 2, 2, 2],\n",
              "       [2, 2, 2, 2]])"
            ]
          },
          "metadata": {
            "tags": []
          },
          "execution_count": 29
        }
      ]
    },
    {
      "cell_type": "code",
      "metadata": {
        "id": "kTDtoZz5tiiz",
        "colab_type": "code",
        "outputId": "6b63b788-0d43-4600-8cb1-291e1c74b8a3",
        "colab": {
          "base_uri": "https://localhost:8080/",
          "height": 72
        }
      },
      "source": [
        "np.eye(3,3)"
      ],
      "execution_count": 0,
      "outputs": [
        {
          "output_type": "execute_result",
          "data": {
            "text/plain": [
              "array([[1., 0., 0.],\n",
              "       [0., 1., 0.],\n",
              "       [0., 0., 1.]])"
            ]
          },
          "metadata": {
            "tags": []
          },
          "execution_count": 30
        }
      ]
    },
    {
      "cell_type": "code",
      "metadata": {
        "id": "rblTP2te5Wje",
        "colab_type": "code",
        "outputId": "80b62240-7627-48ee-9874-af99f7378378",
        "colab": {
          "base_uri": "https://localhost:8080/",
          "height": 72
        }
      },
      "source": [
        "np.identity(3)"
      ],
      "execution_count": 0,
      "outputs": [
        {
          "output_type": "execute_result",
          "data": {
            "text/plain": [
              "array([[1., 0., 0.],\n",
              "       [0., 1., 0.],\n",
              "       [0., 0., 1.]])"
            ]
          },
          "metadata": {
            "tags": []
          },
          "execution_count": 31
        }
      ]
    },
    {
      "cell_type": "code",
      "metadata": {
        "id": "oyq5Pjj2vCpF",
        "colab_type": "code",
        "colab": {}
      },
      "source": [
        "arr1=np.array([1,2,3],dtype=np.float64)\n",
        "arr2=np.array([1,2,3],dtype=np.int32)"
      ],
      "execution_count": 0,
      "outputs": []
    },
    {
      "cell_type": "code",
      "metadata": {
        "id": "DXDAtBdIwC7y",
        "colab_type": "code",
        "outputId": "1c7cc7e7-27bf-4dab-bd3c-306d7676a965",
        "colab": {
          "base_uri": "https://localhost:8080/",
          "height": 54
        }
      },
      "source": [
        "print(arr1.dtype)\n",
        "arr2.dtype"
      ],
      "execution_count": 0,
      "outputs": [
        {
          "output_type": "stream",
          "text": [
            "float64\n"
          ],
          "name": "stdout"
        },
        {
          "output_type": "execute_result",
          "data": {
            "text/plain": [
              "dtype('int32')"
            ]
          },
          "metadata": {
            "tags": []
          },
          "execution_count": 33
        }
      ]
    },
    {
      "cell_type": "code",
      "metadata": {
        "id": "WOsQXP0VZAX0",
        "colab_type": "code",
        "colab": {}
      },
      "source": [
        "arr=np.array([1,2,3,4,5])"
      ],
      "execution_count": 0,
      "outputs": []
    },
    {
      "cell_type": "code",
      "metadata": {
        "id": "brR4H3LJZ-s7",
        "colab_type": "code",
        "outputId": "36a2c18b-aba9-4ebf-bd4f-2edc4138784b",
        "colab": {
          "base_uri": "https://localhost:8080/",
          "height": 35
        }
      },
      "source": [
        "arr.dtype"
      ],
      "execution_count": 0,
      "outputs": [
        {
          "output_type": "execute_result",
          "data": {
            "text/plain": [
              "dtype('int64')"
            ]
          },
          "metadata": {
            "tags": []
          },
          "execution_count": 35
        }
      ]
    },
    {
      "cell_type": "code",
      "metadata": {
        "id": "rdsInfbVaC9U",
        "colab_type": "code",
        "colab": {}
      },
      "source": [
        "float_arr=arr.astype(np.float64)"
      ],
      "execution_count": 0,
      "outputs": []
    },
    {
      "cell_type": "code",
      "metadata": {
        "id": "Obr0T4hdaLsY",
        "colab_type": "code",
        "outputId": "d584f3d8-9c4a-438d-8acf-98a25e8265cd",
        "colab": {
          "base_uri": "https://localhost:8080/",
          "height": 35
        }
      },
      "source": [
        "float_arr.dtype"
      ],
      "execution_count": 0,
      "outputs": [
        {
          "output_type": "execute_result",
          "data": {
            "text/plain": [
              "dtype('float64')"
            ]
          },
          "metadata": {
            "tags": []
          },
          "execution_count": 37
        }
      ]
    },
    {
      "cell_type": "code",
      "metadata": {
        "id": "PJiTrIcvaxtr",
        "colab_type": "code",
        "colab": {}
      },
      "source": [
        "arr = np.array([3.7, -1.2, -2.6, 0.5, 12.9, 10.1])"
      ],
      "execution_count": 0,
      "outputs": []
    },
    {
      "cell_type": "code",
      "metadata": {
        "id": "HA3zvjiua_-I",
        "colab_type": "code",
        "outputId": "3c57d56a-3133-4a01-9b30-29799ec78683",
        "colab": {
          "base_uri": "https://localhost:8080/",
          "height": 35
        }
      },
      "source": [
        "arr.astype(np.int32)"
      ],
      "execution_count": 0,
      "outputs": [
        {
          "output_type": "execute_result",
          "data": {
            "text/plain": [
              "array([ 3, -1, -2,  0, 12, 10], dtype=int32)"
            ]
          },
          "metadata": {
            "tags": []
          },
          "execution_count": 39
        }
      ]
    },
    {
      "cell_type": "code",
      "metadata": {
        "id": "fBtsTIOEb62r",
        "colab_type": "code",
        "outputId": "90a2e587-5ee3-42a0-f944-2125a122240b",
        "colab": {
          "base_uri": "https://localhost:8080/",
          "height": 35
        }
      },
      "source": [
        "numeric_strings = np.array(['1.25', '-9.6', '42'],dtype=np.string_)\n",
        "numeric_strings.dtype\n",
        "                           "
      ],
      "execution_count": 0,
      "outputs": [
        {
          "output_type": "execute_result",
          "data": {
            "text/plain": [
              "dtype('S4')"
            ]
          },
          "metadata": {
            "tags": []
          },
          "execution_count": 40
        }
      ]
    },
    {
      "cell_type": "code",
      "metadata": {
        "id": "8nG6TCi4cOHm",
        "colab_type": "code",
        "colab": {}
      },
      "source": [
        "numeric_float=numeric_strings.astype(float)"
      ],
      "execution_count": 0,
      "outputs": []
    },
    {
      "cell_type": "code",
      "metadata": {
        "id": "aUZShlfwcZqz",
        "colab_type": "code",
        "outputId": "c993bd48-dd0b-4c65-f15f-7c6120d71efe",
        "colab": {
          "base_uri": "https://localhost:8080/",
          "height": 35
        }
      },
      "source": [
        "numeric_float.dtype"
      ],
      "execution_count": 0,
      "outputs": [
        {
          "output_type": "execute_result",
          "data": {
            "text/plain": [
              "dtype('float64')"
            ]
          },
          "metadata": {
            "tags": []
          },
          "execution_count": 42
        }
      ]
    },
    {
      "cell_type": "code",
      "metadata": {
        "id": "uMaX7tswdADj",
        "colab_type": "code",
        "outputId": "c3cf21ad-0b66-4519-ec49-d40ae68cf296",
        "colab": {
          "base_uri": "https://localhost:8080/",
          "height": 35
        }
      },
      "source": [
        "int_array = np.arange(10)\n",
        "int_array"
      ],
      "execution_count": 0,
      "outputs": [
        {
          "output_type": "execute_result",
          "data": {
            "text/plain": [
              "array([0, 1, 2, 3, 4, 5, 6, 7, 8, 9])"
            ]
          },
          "metadata": {
            "tags": []
          },
          "execution_count": 43
        }
      ]
    },
    {
      "cell_type": "code",
      "metadata": {
        "id": "6ld8R3M2dIt6",
        "colab_type": "code",
        "colab": {}
      },
      "source": [
        "calibers=np.array([.22, .270, .357, .380, .44, .50],dtype=np.float64)"
      ],
      "execution_count": 0,
      "outputs": []
    },
    {
      "cell_type": "code",
      "metadata": {
        "id": "bKmf0IUFdY12",
        "colab_type": "code",
        "outputId": "7c6590d7-07d1-4fd6-831e-2c19ab630f6e",
        "colab": {
          "base_uri": "https://localhost:8080/",
          "height": 35
        }
      },
      "source": [
        "int_array.astype(calibers.dtype)"
      ],
      "execution_count": 0,
      "outputs": [
        {
          "output_type": "execute_result",
          "data": {
            "text/plain": [
              "array([0., 1., 2., 3., 4., 5., 6., 7., 8., 9.])"
            ]
          },
          "metadata": {
            "tags": []
          },
          "execution_count": 45
        }
      ]
    },
    {
      "cell_type": "code",
      "metadata": {
        "id": "qenQbT12eRjI",
        "colab_type": "code",
        "outputId": "c1aa217a-dd52-41de-dfa4-91a12b16dab2",
        "colab": {
          "base_uri": "https://localhost:8080/",
          "height": 54
        }
      },
      "source": [
        "empty_uint32=np.empty(8,dtype='u4')\n",
        "empty_uint32"
      ],
      "execution_count": 0,
      "outputs": [
        {
          "output_type": "execute_result",
          "data": {
            "text/plain": [
              "array([  56002688,          0,          0,          0, 4294967294,\n",
              "            32747, 1701603686,  322371584], dtype=uint32)"
            ]
          },
          "metadata": {
            "tags": []
          },
          "execution_count": 46
        }
      ]
    },
    {
      "cell_type": "code",
      "metadata": {
        "id": "qNUrLwGlfbW9",
        "colab_type": "code",
        "outputId": "93837069-54b3-4049-ac4a-7be5bf787d09",
        "colab": {
          "base_uri": "https://localhost:8080/",
          "height": 54
        }
      },
      "source": [
        "arr=np.array([[1,2,3],[3,4,5]])\n",
        "arr"
      ],
      "execution_count": 0,
      "outputs": [
        {
          "output_type": "execute_result",
          "data": {
            "text/plain": [
              "array([[1, 2, 3],\n",
              "       [3, 4, 5]])"
            ]
          },
          "metadata": {
            "tags": []
          },
          "execution_count": 47
        }
      ]
    },
    {
      "cell_type": "code",
      "metadata": {
        "id": "kLXoVEFagHiK",
        "colab_type": "code",
        "outputId": "00abbb37-c04a-4c2d-fce3-0681917d1340",
        "colab": {
          "base_uri": "https://localhost:8080/",
          "height": 54
        }
      },
      "source": [
        "arr*arr"
      ],
      "execution_count": 0,
      "outputs": [
        {
          "output_type": "execute_result",
          "data": {
            "text/plain": [
              "array([[ 1,  4,  9],\n",
              "       [ 9, 16, 25]])"
            ]
          },
          "metadata": {
            "tags": []
          },
          "execution_count": 48
        }
      ]
    },
    {
      "cell_type": "code",
      "metadata": {
        "id": "CVl7Xai2gN5b",
        "colab_type": "code",
        "outputId": "16dbddc0-9acc-419d-e8a5-0f9c1c8c2781",
        "colab": {
          "base_uri": "https://localhost:8080/",
          "height": 54
        }
      },
      "source": [
        "arr-arr"
      ],
      "execution_count": 0,
      "outputs": [
        {
          "output_type": "execute_result",
          "data": {
            "text/plain": [
              "array([[0, 0, 0],\n",
              "       [0, 0, 0]])"
            ]
          },
          "metadata": {
            "tags": []
          },
          "execution_count": 49
        }
      ]
    },
    {
      "cell_type": "code",
      "metadata": {
        "id": "8MGJp0oUgN8B",
        "colab_type": "code",
        "outputId": "ceee4571-fc96-4f12-86a4-9cb5d8a61690",
        "colab": {
          "base_uri": "https://localhost:8080/",
          "height": 54
        }
      },
      "source": [
        "arr+arr"
      ],
      "execution_count": 0,
      "outputs": [
        {
          "output_type": "execute_result",
          "data": {
            "text/plain": [
              "array([[ 2,  4,  6],\n",
              "       [ 6,  8, 10]])"
            ]
          },
          "metadata": {
            "tags": []
          },
          "execution_count": 50
        }
      ]
    },
    {
      "cell_type": "code",
      "metadata": {
        "id": "0iduI8KsgU7_",
        "colab_type": "code",
        "outputId": "25c6e9fe-e3c8-4024-c3bc-36dd522bee01",
        "colab": {
          "base_uri": "https://localhost:8080/",
          "height": 54
        }
      },
      "source": [
        "1/arr"
      ],
      "execution_count": 0,
      "outputs": [
        {
          "output_type": "execute_result",
          "data": {
            "text/plain": [
              "array([[1.        , 0.5       , 0.33333333],\n",
              "       [0.33333333, 0.25      , 0.2       ]])"
            ]
          },
          "metadata": {
            "tags": []
          },
          "execution_count": 51
        }
      ]
    },
    {
      "cell_type": "code",
      "metadata": {
        "id": "rJBwhAG4gXVF",
        "colab_type": "code",
        "outputId": "7f66fa38-45f8-4ee5-cb14-213ea5059a5d",
        "colab": {
          "base_uri": "https://localhost:8080/",
          "height": 54
        }
      },
      "source": [
        "arr**0.5"
      ],
      "execution_count": 0,
      "outputs": [
        {
          "output_type": "execute_result",
          "data": {
            "text/plain": [
              "array([[1.        , 1.41421356, 1.73205081],\n",
              "       [1.73205081, 2.        , 2.23606798]])"
            ]
          },
          "metadata": {
            "tags": []
          },
          "execution_count": 52
        }
      ]
    },
    {
      "cell_type": "code",
      "metadata": {
        "id": "M4KoytKhg4Mg",
        "colab_type": "code",
        "outputId": "497c02a6-a7e2-4b08-f601-4bcd305e0db5",
        "colab": {
          "base_uri": "https://localhost:8080/",
          "height": 54
        }
      },
      "source": [
        "arr2 = np.array([[0., 4., 1.], [7., 2., 12.]])\n",
        "arr2"
      ],
      "execution_count": 0,
      "outputs": [
        {
          "output_type": "execute_result",
          "data": {
            "text/plain": [
              "array([[ 0.,  4.,  1.],\n",
              "       [ 7.,  2., 12.]])"
            ]
          },
          "metadata": {
            "tags": []
          },
          "execution_count": 53
        }
      ]
    },
    {
      "cell_type": "code",
      "metadata": {
        "id": "50NDQHjxg7NK",
        "colab_type": "code",
        "outputId": "f3b50f02-d987-4897-fef6-1554a23a6a6b",
        "colab": {
          "base_uri": "https://localhost:8080/",
          "height": 54
        }
      },
      "source": [
        "arr2>arr"
      ],
      "execution_count": 0,
      "outputs": [
        {
          "output_type": "execute_result",
          "data": {
            "text/plain": [
              "array([[False,  True, False],\n",
              "       [ True, False,  True]])"
            ]
          },
          "metadata": {
            "tags": []
          },
          "execution_count": 54
        }
      ]
    },
    {
      "cell_type": "code",
      "metadata": {
        "id": "VtFBAaf_hbk4",
        "colab_type": "code",
        "outputId": "9663b599-5b5c-4315-d241-9acbbbe23b8b",
        "colab": {
          "base_uri": "https://localhost:8080/",
          "height": 35
        }
      },
      "source": [
        "arr=np.arange(10)\n",
        "arr"
      ],
      "execution_count": 0,
      "outputs": [
        {
          "output_type": "execute_result",
          "data": {
            "text/plain": [
              "array([0, 1, 2, 3, 4, 5, 6, 7, 8, 9])"
            ]
          },
          "metadata": {
            "tags": []
          },
          "execution_count": 55
        }
      ]
    },
    {
      "cell_type": "code",
      "metadata": {
        "id": "iVKOGpLvhhh8",
        "colab_type": "code",
        "outputId": "b1e625f2-04a5-456f-bd27-6d8787f4eec7",
        "colab": {
          "base_uri": "https://localhost:8080/",
          "height": 35
        }
      },
      "source": [
        "arr[5]"
      ],
      "execution_count": 0,
      "outputs": [
        {
          "output_type": "execute_result",
          "data": {
            "text/plain": [
              "5"
            ]
          },
          "metadata": {
            "tags": []
          },
          "execution_count": 56
        }
      ]
    },
    {
      "cell_type": "code",
      "metadata": {
        "id": "5cNfTAERhjGv",
        "colab_type": "code",
        "outputId": "01f0776e-2711-45ae-daeb-5644e8c6b942",
        "colab": {
          "base_uri": "https://localhost:8080/",
          "height": 35
        }
      },
      "source": [
        "arr[5:8]"
      ],
      "execution_count": 0,
      "outputs": [
        {
          "output_type": "execute_result",
          "data": {
            "text/plain": [
              "array([5, 6, 7])"
            ]
          },
          "metadata": {
            "tags": []
          },
          "execution_count": 57
        }
      ]
    },
    {
      "cell_type": "code",
      "metadata": {
        "id": "tiGe8ZWRhlxJ",
        "colab_type": "code",
        "outputId": "3f11f21b-1aa7-4d67-e401-c1a9cddfb10c",
        "colab": {
          "base_uri": "https://localhost:8080/",
          "height": 35
        }
      },
      "source": [
        "arr[5:8]=12\n",
        "arr"
      ],
      "execution_count": 0,
      "outputs": [
        {
          "output_type": "execute_result",
          "data": {
            "text/plain": [
              "array([ 0,  1,  2,  3,  4, 12, 12, 12,  8,  9])"
            ]
          },
          "metadata": {
            "tags": []
          },
          "execution_count": 58
        }
      ]
    },
    {
      "cell_type": "code",
      "metadata": {
        "id": "JjFazHq-hsWp",
        "colab_type": "code",
        "outputId": "cd8a8ddd-9c50-4ade-8953-805a546ac57d",
        "colab": {
          "base_uri": "https://localhost:8080/",
          "height": 35
        }
      },
      "source": [
        "arr_slice=arr[5:8]\n",
        "arr_slice"
      ],
      "execution_count": 0,
      "outputs": [
        {
          "output_type": "execute_result",
          "data": {
            "text/plain": [
              "array([12, 12, 12])"
            ]
          },
          "metadata": {
            "tags": []
          },
          "execution_count": 59
        }
      ]
    },
    {
      "cell_type": "code",
      "metadata": {
        "id": "iOMAmB2NiZWd",
        "colab_type": "code",
        "colab": {}
      },
      "source": [
        "arr_slice[1]=12345"
      ],
      "execution_count": 0,
      "outputs": []
    },
    {
      "cell_type": "code",
      "metadata": {
        "id": "msGLOZ2Cid7E",
        "colab_type": "code",
        "outputId": "18831933-da24-4c76-ac38-2983f6a5da19",
        "colab": {
          "base_uri": "https://localhost:8080/",
          "height": 54
        }
      },
      "source": [
        "arr"
      ],
      "execution_count": 0,
      "outputs": [
        {
          "output_type": "execute_result",
          "data": {
            "text/plain": [
              "array([    0,     1,     2,     3,     4,    12, 12345,    12,     8,\n",
              "           9])"
            ]
          },
          "metadata": {
            "tags": []
          },
          "execution_count": 61
        }
      ]
    },
    {
      "cell_type": "code",
      "metadata": {
        "id": "ARs5cIkFjCu7",
        "colab_type": "code",
        "outputId": "722548dd-839c-4b9f-e6a5-7ec33ea35c71",
        "colab": {
          "base_uri": "https://localhost:8080/",
          "height": 35
        }
      },
      "source": [
        "arr_slice[:]=64\n",
        "arr"
      ],
      "execution_count": 0,
      "outputs": [
        {
          "output_type": "execute_result",
          "data": {
            "text/plain": [
              "array([ 0,  1,  2,  3,  4, 64, 64, 64,  8,  9])"
            ]
          },
          "metadata": {
            "tags": []
          },
          "execution_count": 62
        }
      ]
    },
    {
      "cell_type": "code",
      "metadata": {
        "id": "Oh7G0LQUjXG6",
        "colab_type": "code",
        "outputId": "6b303dec-a1bf-4540-f87f-c22e6d1bad1c",
        "colab": {
          "base_uri": "https://localhost:8080/",
          "height": 54
        }
      },
      "source": [
        "arr_slice=arr[5:8].copy()\n",
        "arr_slice[:]=2\n",
        "print(arr_slice)\n",
        "arr"
      ],
      "execution_count": 0,
      "outputs": [
        {
          "output_type": "stream",
          "text": [
            "[2 2 2]\n"
          ],
          "name": "stdout"
        },
        {
          "output_type": "execute_result",
          "data": {
            "text/plain": [
              "array([ 0,  1,  2,  3,  4, 64, 64, 64,  8,  9])"
            ]
          },
          "metadata": {
            "tags": []
          },
          "execution_count": 63
        }
      ]
    },
    {
      "cell_type": "code",
      "metadata": {
        "id": "NyQRqgRGkvyq",
        "colab_type": "code",
        "outputId": "8af04fca-c0e0-4d6c-f2d6-e04984df6e02",
        "colab": {
          "base_uri": "https://localhost:8080/",
          "height": 35
        }
      },
      "source": [
        "arr2d = np.array([[1, 2, 3], [4, 5, 6], [7, 8, 9]])\n",
        "arr2d[2]"
      ],
      "execution_count": 0,
      "outputs": [
        {
          "output_type": "execute_result",
          "data": {
            "text/plain": [
              "array([7, 8, 9])"
            ]
          },
          "metadata": {
            "tags": []
          },
          "execution_count": 64
        }
      ]
    },
    {
      "cell_type": "code",
      "metadata": {
        "id": "YRbti5Z2k-rZ",
        "colab_type": "code",
        "outputId": "92d7a590-08bc-4752-9fa3-fb6e205aa510",
        "colab": {
          "base_uri": "https://localhost:8080/",
          "height": 35
        }
      },
      "source": [
        "arr2d[0][2]"
      ],
      "execution_count": 0,
      "outputs": [
        {
          "output_type": "execute_result",
          "data": {
            "text/plain": [
              "3"
            ]
          },
          "metadata": {
            "tags": []
          },
          "execution_count": 65
        }
      ]
    },
    {
      "cell_type": "code",
      "metadata": {
        "id": "vegQbp9klHRD",
        "colab_type": "code",
        "outputId": "19fe8ce1-55e7-4a62-a359-f861e0886838",
        "colab": {
          "base_uri": "https://localhost:8080/",
          "height": 35
        }
      },
      "source": [
        "arr2d[0,2]"
      ],
      "execution_count": 0,
      "outputs": [
        {
          "output_type": "execute_result",
          "data": {
            "text/plain": [
              "3"
            ]
          },
          "metadata": {
            "tags": []
          },
          "execution_count": 66
        }
      ]
    },
    {
      "cell_type": "code",
      "metadata": {
        "id": "dbH8kar4lzDH",
        "colab_type": "code",
        "colab": {}
      },
      "source": [
        "arr3d = np.array([[[1, 2, 3], [4, 5, 6]], [[7, 8, 9], [10, 11, 12]]])"
      ],
      "execution_count": 0,
      "outputs": []
    },
    {
      "cell_type": "code",
      "metadata": {
        "id": "feQQc6Q2l5p1",
        "colab_type": "code",
        "outputId": "5db67f57-8e90-4539-917f-483d656bcca3",
        "colab": {
          "base_uri": "https://localhost:8080/",
          "height": 108
        }
      },
      "source": [
        "arr3d"
      ],
      "execution_count": 0,
      "outputs": [
        {
          "output_type": "execute_result",
          "data": {
            "text/plain": [
              "array([[[ 1,  2,  3],\n",
              "        [ 4,  5,  6]],\n",
              "\n",
              "       [[ 7,  8,  9],\n",
              "        [10, 11, 12]]])"
            ]
          },
          "metadata": {
            "tags": []
          },
          "execution_count": 68
        }
      ]
    },
    {
      "cell_type": "code",
      "metadata": {
        "id": "OFbGSAXHmIGp",
        "colab_type": "code",
        "outputId": "fdf911aa-3360-438a-d1b1-eb76a6b093b4",
        "colab": {
          "base_uri": "https://localhost:8080/",
          "height": 54
        }
      },
      "source": [
        "arr3d[0]"
      ],
      "execution_count": 0,
      "outputs": [
        {
          "output_type": "execute_result",
          "data": {
            "text/plain": [
              "array([[1, 2, 3],\n",
              "       [4, 5, 6]])"
            ]
          },
          "metadata": {
            "tags": []
          },
          "execution_count": 69
        }
      ]
    },
    {
      "cell_type": "code",
      "metadata": {
        "id": "jIlBqt37mKqD",
        "colab_type": "code",
        "outputId": "4ca850d2-2813-4c69-d30e-0cdfabf1fde9",
        "colab": {
          "base_uri": "https://localhost:8080/",
          "height": 54
        }
      },
      "source": [
        "old_values=arr3d[0].copy()\n",
        "old_values"
      ],
      "execution_count": 0,
      "outputs": [
        {
          "output_type": "execute_result",
          "data": {
            "text/plain": [
              "array([[1, 2, 3],\n",
              "       [4, 5, 6]])"
            ]
          },
          "metadata": {
            "tags": []
          },
          "execution_count": 70
        }
      ]
    },
    {
      "cell_type": "code",
      "metadata": {
        "id": "ZEov78Vdma4o",
        "colab_type": "code",
        "outputId": "8b502425-6f0e-48e6-e184-5f3eef700a2a",
        "colab": {
          "base_uri": "https://localhost:8080/",
          "height": 108
        }
      },
      "source": [
        "arr3d[0]=24\n",
        "arr3d"
      ],
      "execution_count": 0,
      "outputs": [
        {
          "output_type": "execute_result",
          "data": {
            "text/plain": [
              "array([[[24, 24, 24],\n",
              "        [24, 24, 24]],\n",
              "\n",
              "       [[ 7,  8,  9],\n",
              "        [10, 11, 12]]])"
            ]
          },
          "metadata": {
            "tags": []
          },
          "execution_count": 71
        }
      ]
    },
    {
      "cell_type": "code",
      "metadata": {
        "id": "NwV62wD5mh6t",
        "colab_type": "code",
        "outputId": "5a558caf-4409-484f-a772-12010efac2eb",
        "colab": {
          "base_uri": "https://localhost:8080/",
          "height": 108
        }
      },
      "source": [
        "arr3d[0]=old_values\n",
        "arr3d"
      ],
      "execution_count": 0,
      "outputs": [
        {
          "output_type": "execute_result",
          "data": {
            "text/plain": [
              "array([[[ 1,  2,  3],\n",
              "        [ 4,  5,  6]],\n",
              "\n",
              "       [[ 7,  8,  9],\n",
              "        [10, 11, 12]]])"
            ]
          },
          "metadata": {
            "tags": []
          },
          "execution_count": 72
        }
      ]
    },
    {
      "cell_type": "code",
      "metadata": {
        "id": "rMLYax0pnHoN",
        "colab_type": "code",
        "outputId": "720b9093-0b07-42ff-fe13-c1deeaa7759e",
        "colab": {
          "base_uri": "https://localhost:8080/",
          "height": 35
        }
      },
      "source": [
        "arr3d[1,0]#stack at 1 and at stack 1 row 0"
      ],
      "execution_count": 0,
      "outputs": [
        {
          "output_type": "execute_result",
          "data": {
            "text/plain": [
              "array([7, 8, 9])"
            ]
          },
          "metadata": {
            "tags": []
          },
          "execution_count": 73
        }
      ]
    },
    {
      "cell_type": "code",
      "metadata": {
        "id": "sgvMk-sonY09",
        "colab_type": "code",
        "outputId": "7399500a-1901-4c8a-ea14-7c2f5fa68cbe",
        "colab": {
          "base_uri": "https://localhost:8080/",
          "height": 54
        }
      },
      "source": [
        "x=arr3d[1]\n",
        "x"
      ],
      "execution_count": 0,
      "outputs": [
        {
          "output_type": "execute_result",
          "data": {
            "text/plain": [
              "array([[ 7,  8,  9],\n",
              "       [10, 11, 12]])"
            ]
          },
          "metadata": {
            "tags": []
          },
          "execution_count": 74
        }
      ]
    },
    {
      "cell_type": "code",
      "metadata": {
        "id": "KJ_0rvvNn1R0",
        "colab_type": "code",
        "outputId": "39fb7c7f-ef36-4f8e-ed3c-d4cc5a9fdafd",
        "colab": {
          "base_uri": "https://localhost:8080/",
          "height": 35
        }
      },
      "source": [
        "arr\n",
        "arr[1:6]\n"
      ],
      "execution_count": 0,
      "outputs": [
        {
          "output_type": "execute_result",
          "data": {
            "text/plain": [
              "array([ 1,  2,  3,  4, 64])"
            ]
          },
          "metadata": {
            "tags": []
          },
          "execution_count": 75
        }
      ]
    },
    {
      "cell_type": "code",
      "metadata": {
        "id": "6ArrXA4OoSNM",
        "colab_type": "code",
        "outputId": "20c75906-5d39-47be-d1b2-c07647e80a9e",
        "colab": {
          "base_uri": "https://localhost:8080/",
          "height": 72
        }
      },
      "source": [
        "arr2d"
      ],
      "execution_count": 0,
      "outputs": [
        {
          "output_type": "execute_result",
          "data": {
            "text/plain": [
              "array([[1, 2, 3],\n",
              "       [4, 5, 6],\n",
              "       [7, 8, 9]])"
            ]
          },
          "metadata": {
            "tags": []
          },
          "execution_count": 76
        }
      ]
    },
    {
      "cell_type": "code",
      "metadata": {
        "id": "Ejpi6BE7oUJ1",
        "colab_type": "code",
        "outputId": "5fd3bfca-0a4c-4458-b27b-afccbf04ba17",
        "colab": {
          "base_uri": "https://localhost:8080/",
          "height": 54
        }
      },
      "source": [
        "arr2d[:2]"
      ],
      "execution_count": 0,
      "outputs": [
        {
          "output_type": "execute_result",
          "data": {
            "text/plain": [
              "array([[1, 2, 3],\n",
              "       [4, 5, 6]])"
            ]
          },
          "metadata": {
            "tags": []
          },
          "execution_count": 77
        }
      ]
    },
    {
      "cell_type": "code",
      "metadata": {
        "id": "vPH1cu68okAT",
        "colab_type": "code",
        "outputId": "42c4de9c-6699-43bc-f9fe-616e73768107",
        "colab": {
          "base_uri": "https://localhost:8080/",
          "height": 54
        }
      },
      "source": [
        "arr2d[:2,:1]"
      ],
      "execution_count": 0,
      "outputs": [
        {
          "output_type": "execute_result",
          "data": {
            "text/plain": [
              "array([[1],\n",
              "       [4]])"
            ]
          },
          "metadata": {
            "tags": []
          },
          "execution_count": 78
        }
      ]
    },
    {
      "cell_type": "code",
      "metadata": {
        "id": "L9pIkgAyor0i",
        "colab_type": "code",
        "outputId": "dab81bb7-1855-43aa-ab84-7ea75680606a",
        "colab": {
          "base_uri": "https://localhost:8080/",
          "height": 54
        }
      },
      "source": [
        "arr2d[:2,1:]"
      ],
      "execution_count": 0,
      "outputs": [
        {
          "output_type": "execute_result",
          "data": {
            "text/plain": [
              "array([[2, 3],\n",
              "       [5, 6]])"
            ]
          },
          "metadata": {
            "tags": []
          },
          "execution_count": 79
        }
      ]
    },
    {
      "cell_type": "code",
      "metadata": {
        "id": "tMCRR0eoo6jB",
        "colab_type": "code",
        "outputId": "b36092fc-c65e-4257-df7c-039461381173",
        "colab": {
          "base_uri": "https://localhost:8080/",
          "height": 35
        }
      },
      "source": [
        "arr2d[1,:2]#1st row 2 columns"
      ],
      "execution_count": 0,
      "outputs": [
        {
          "output_type": "execute_result",
          "data": {
            "text/plain": [
              "array([4, 5])"
            ]
          },
          "metadata": {
            "tags": []
          },
          "execution_count": 80
        }
      ]
    },
    {
      "cell_type": "code",
      "metadata": {
        "id": "G7S1BBO4pI8Z",
        "colab_type": "code",
        "outputId": "a3b82fbb-5360-4c1a-c71b-6f200b5ada3e",
        "colab": {
          "base_uri": "https://localhost:8080/",
          "height": 35
        }
      },
      "source": [
        "arr2d[:2,1]# 2 rows 1st column similarly above cell"
      ],
      "execution_count": 0,
      "outputs": [
        {
          "output_type": "execute_result",
          "data": {
            "text/plain": [
              "array([2, 5])"
            ]
          },
          "metadata": {
            "tags": []
          },
          "execution_count": 81
        }
      ]
    },
    {
      "cell_type": "code",
      "metadata": {
        "id": "i3dinT2ypljI",
        "colab_type": "code",
        "outputId": "a02da95d-0b8b-40ef-db92-4c1389f59763",
        "colab": {
          "base_uri": "https://localhost:8080/",
          "height": 35
        }
      },
      "source": [
        "arr2d[:2,2]#first 2 rows and 2nd column"
      ],
      "execution_count": 0,
      "outputs": [
        {
          "output_type": "execute_result",
          "data": {
            "text/plain": [
              "array([3, 6])"
            ]
          },
          "metadata": {
            "tags": []
          },
          "execution_count": 82
        }
      ]
    },
    {
      "cell_type": "code",
      "metadata": {
        "id": "e5rNaLH2p-wd",
        "colab_type": "code",
        "outputId": "57944c86-95a3-4b57-bd05-fb26ef05cc6a",
        "colab": {
          "base_uri": "https://localhost:8080/",
          "height": 72
        }
      },
      "source": [
        "arr2d[:,:1]#all rows 0th column"
      ],
      "execution_count": 0,
      "outputs": [
        {
          "output_type": "execute_result",
          "data": {
            "text/plain": [
              "array([[1],\n",
              "       [4],\n",
              "       [7]])"
            ]
          },
          "metadata": {
            "tags": []
          },
          "execution_count": 83
        }
      ]
    },
    {
      "cell_type": "code",
      "metadata": {
        "id": "MK-dI06CqQyS",
        "colab_type": "code",
        "outputId": "a3d2890a-d786-4076-9363-fb579d301586",
        "colab": {
          "base_uri": "https://localhost:8080/",
          "height": 72
        }
      },
      "source": [
        "arr2d[:2,1:]=0\n",
        "arr2d"
      ],
      "execution_count": 0,
      "outputs": [
        {
          "output_type": "execute_result",
          "data": {
            "text/plain": [
              "array([[1, 0, 0],\n",
              "       [4, 0, 0],\n",
              "       [7, 8, 9]])"
            ]
          },
          "metadata": {
            "tags": []
          },
          "execution_count": 84
        }
      ]
    },
    {
      "cell_type": "code",
      "metadata": {
        "id": "vHRsMDgoGteT",
        "colab_type": "code",
        "outputId": "a5682c6f-0d05-4252-f3d3-da05f7fb147f",
        "colab": {
          "base_uri": "https://localhost:8080/",
          "height": 35
        }
      },
      "source": [
        "names = np.array(['Bob', 'Joe', 'Will', 'Bob', 'Will', 'Joe', 'Joe'])\n",
        "names"
      ],
      "execution_count": 0,
      "outputs": [
        {
          "output_type": "execute_result",
          "data": {
            "text/plain": [
              "array(['Bob', 'Joe', 'Will', 'Bob', 'Will', 'Joe', 'Joe'], dtype='<U4')"
            ]
          },
          "metadata": {
            "tags": []
          },
          "execution_count": 85
        }
      ]
    },
    {
      "cell_type": "code",
      "metadata": {
        "id": "4GP-EvbVGzXp",
        "colab_type": "code",
        "outputId": "62b885c0-0baf-4bd1-e871-80c4a138b1e5",
        "colab": {
          "base_uri": "https://localhost:8080/",
          "height": 145
        }
      },
      "source": [
        "data=np.random.rand(7,4)\n",
        "data"
      ],
      "execution_count": 0,
      "outputs": [
        {
          "output_type": "execute_result",
          "data": {
            "text/plain": [
              "array([[0.75118777, 0.86758197, 0.15791057, 0.72619638],\n",
              "       [0.10121148, 0.01716074, 0.02551526, 0.1687502 ],\n",
              "       [0.1178832 , 0.20813964, 0.34362653, 0.29192889],\n",
              "       [0.66800516, 0.17161375, 0.28665056, 0.0629187 ],\n",
              "       [0.58715066, 0.99769884, 0.15351372, 0.741817  ],\n",
              "       [0.83765042, 0.91896491, 0.58165581, 0.29967444],\n",
              "       [0.25293912, 0.08215639, 0.54540088, 0.75752216]])"
            ]
          },
          "metadata": {
            "tags": []
          },
          "execution_count": 86
        }
      ]
    },
    {
      "cell_type": "code",
      "metadata": {
        "id": "iPfvIwQZHH24",
        "colab_type": "code",
        "outputId": "ddbeecb7-1c52-4b00-c2a6-e8dd52b331f9",
        "colab": {
          "base_uri": "https://localhost:8080/",
          "height": 35
        }
      },
      "source": [
        "names=='Bob'"
      ],
      "execution_count": 0,
      "outputs": [
        {
          "output_type": "execute_result",
          "data": {
            "text/plain": [
              "array([ True, False, False,  True, False, False, False])"
            ]
          },
          "metadata": {
            "tags": []
          },
          "execution_count": 87
        }
      ]
    },
    {
      "cell_type": "code",
      "metadata": {
        "id": "mOHKWZSWHNrE",
        "colab_type": "code",
        "outputId": "d6cf9da9-f307-496d-fb64-8ec193c8a60c",
        "colab": {
          "base_uri": "https://localhost:8080/",
          "height": 54
        }
      },
      "source": [
        "data[names=='Bob']"
      ],
      "execution_count": 0,
      "outputs": [
        {
          "output_type": "execute_result",
          "data": {
            "text/plain": [
              "array([[0.75118777, 0.86758197, 0.15791057, 0.72619638],\n",
              "       [0.66800516, 0.17161375, 0.28665056, 0.0629187 ]])"
            ]
          },
          "metadata": {
            "tags": []
          },
          "execution_count": 88
        }
      ]
    },
    {
      "cell_type": "code",
      "metadata": {
        "id": "uHPOqvueHywy",
        "colab_type": "code",
        "outputId": "b022d00c-b847-4f92-dea6-d90d6ae7ef6d",
        "colab": {
          "base_uri": "https://localhost:8080/",
          "height": 54
        }
      },
      "source": [
        "data[names=='Bob',2:]"
      ],
      "execution_count": 0,
      "outputs": [
        {
          "output_type": "execute_result",
          "data": {
            "text/plain": [
              "array([[0.15791057, 0.72619638],\n",
              "       [0.28665056, 0.0629187 ]])"
            ]
          },
          "metadata": {
            "tags": []
          },
          "execution_count": 89
        }
      ]
    },
    {
      "cell_type": "code",
      "metadata": {
        "id": "M-RfvV_sIJLb",
        "colab_type": "code",
        "outputId": "8352130b-d4de-4237-85f5-09ca521d9915",
        "colab": {
          "base_uri": "https://localhost:8080/",
          "height": 35
        }
      },
      "source": [
        "names!='Bob'"
      ],
      "execution_count": 0,
      "outputs": [
        {
          "output_type": "execute_result",
          "data": {
            "text/plain": [
              "array([False,  True,  True, False,  True,  True,  True])"
            ]
          },
          "metadata": {
            "tags": []
          },
          "execution_count": 90
        }
      ]
    },
    {
      "cell_type": "code",
      "metadata": {
        "id": "6-US8u7QIPXp",
        "colab_type": "code",
        "outputId": "a171f861-71b5-4f73-fa5b-eb4c348d03c2",
        "colab": {
          "base_uri": "https://localhost:8080/",
          "height": 54
        }
      },
      "source": [
        "data[~(names!='Bob')]"
      ],
      "execution_count": 0,
      "outputs": [
        {
          "output_type": "execute_result",
          "data": {
            "text/plain": [
              "array([[0.75118777, 0.86758197, 0.15791057, 0.72619638],\n",
              "       [0.66800516, 0.17161375, 0.28665056, 0.0629187 ]])"
            ]
          },
          "metadata": {
            "tags": []
          },
          "execution_count": 91
        }
      ]
    },
    {
      "cell_type": "code",
      "metadata": {
        "id": "i8M_lyHuIiA2",
        "colab_type": "code",
        "outputId": "6f89f945-3b26-497b-cb98-1a10250a9c7c",
        "colab": {
          "base_uri": "https://localhost:8080/",
          "height": 108
        }
      },
      "source": [
        "data[~(names=='Bob')]"
      ],
      "execution_count": 0,
      "outputs": [
        {
          "output_type": "execute_result",
          "data": {
            "text/plain": [
              "array([[0.10121148, 0.01716074, 0.02551526, 0.1687502 ],\n",
              "       [0.1178832 , 0.20813964, 0.34362653, 0.29192889],\n",
              "       [0.58715066, 0.99769884, 0.15351372, 0.741817  ],\n",
              "       [0.83765042, 0.91896491, 0.58165581, 0.29967444],\n",
              "       [0.25293912, 0.08215639, 0.54540088, 0.75752216]])"
            ]
          },
          "metadata": {
            "tags": []
          },
          "execution_count": 92
        }
      ]
    },
    {
      "cell_type": "code",
      "metadata": {
        "id": "U9i_2Js2Imwh",
        "colab_type": "code",
        "outputId": "d7500710-d62e-4a2e-ed4e-a7d6b69a137b",
        "colab": {
          "base_uri": "https://localhost:8080/",
          "height": 108
        }
      },
      "source": [
        "cond=names=='Bob'\n",
        "data[~cond]"
      ],
      "execution_count": 0,
      "outputs": [
        {
          "output_type": "execute_result",
          "data": {
            "text/plain": [
              "array([[0.10121148, 0.01716074, 0.02551526, 0.1687502 ],\n",
              "       [0.1178832 , 0.20813964, 0.34362653, 0.29192889],\n",
              "       [0.58715066, 0.99769884, 0.15351372, 0.741817  ],\n",
              "       [0.83765042, 0.91896491, 0.58165581, 0.29967444],\n",
              "       [0.25293912, 0.08215639, 0.54540088, 0.75752216]])"
            ]
          },
          "metadata": {
            "tags": []
          },
          "execution_count": 93
        }
      ]
    },
    {
      "cell_type": "code",
      "metadata": {
        "id": "Hyz22329JcEE",
        "colab_type": "code",
        "outputId": "e9d6445f-9fe4-4659-f6de-8a4107c9e60a",
        "colab": {
          "base_uri": "https://localhost:8080/",
          "height": 35
        }
      },
      "source": [
        "mask=(names=='Bob') | (names=='Will')\n",
        "mask"
      ],
      "execution_count": 0,
      "outputs": [
        {
          "output_type": "execute_result",
          "data": {
            "text/plain": [
              "array([ True, False,  True,  True,  True, False, False])"
            ]
          },
          "metadata": {
            "tags": []
          },
          "execution_count": 94
        }
      ]
    },
    {
      "cell_type": "code",
      "metadata": {
        "id": "OM3NRG4XJmjg",
        "colab_type": "code",
        "outputId": "3b6a8bc6-3cd7-4db5-afba-ea6929cf1d39",
        "colab": {
          "base_uri": "https://localhost:8080/",
          "height": 90
        }
      },
      "source": [
        "data[mask]"
      ],
      "execution_count": 0,
      "outputs": [
        {
          "output_type": "execute_result",
          "data": {
            "text/plain": [
              "array([[0.75118777, 0.86758197, 0.15791057, 0.72619638],\n",
              "       [0.1178832 , 0.20813964, 0.34362653, 0.29192889],\n",
              "       [0.66800516, 0.17161375, 0.28665056, 0.0629187 ],\n",
              "       [0.58715066, 0.99769884, 0.15351372, 0.741817  ]])"
            ]
          },
          "metadata": {
            "tags": []
          },
          "execution_count": 95
        }
      ]
    },
    {
      "cell_type": "code",
      "metadata": {
        "id": "WI3F64paJ9aQ",
        "colab_type": "code",
        "colab": {}
      },
      "source": [
        "data[data<0]=0"
      ],
      "execution_count": 0,
      "outputs": []
    },
    {
      "cell_type": "code",
      "metadata": {
        "id": "odace2ETKCC6",
        "colab_type": "code",
        "outputId": "496c2add-1ec5-4a4e-b00a-6896191501af",
        "colab": {
          "base_uri": "https://localhost:8080/",
          "height": 145
        }
      },
      "source": [
        "data"
      ],
      "execution_count": 0,
      "outputs": [
        {
          "output_type": "execute_result",
          "data": {
            "text/plain": [
              "array([[0.75118777, 0.86758197, 0.15791057, 0.72619638],\n",
              "       [0.10121148, 0.01716074, 0.02551526, 0.1687502 ],\n",
              "       [0.1178832 , 0.20813964, 0.34362653, 0.29192889],\n",
              "       [0.66800516, 0.17161375, 0.28665056, 0.0629187 ],\n",
              "       [0.58715066, 0.99769884, 0.15351372, 0.741817  ],\n",
              "       [0.83765042, 0.91896491, 0.58165581, 0.29967444],\n",
              "       [0.25293912, 0.08215639, 0.54540088, 0.75752216]])"
            ]
          },
          "metadata": {
            "tags": []
          },
          "execution_count": 97
        }
      ]
    },
    {
      "cell_type": "code",
      "metadata": {
        "id": "qAHw5N1FKLrt",
        "colab_type": "code",
        "outputId": "84880db9-f716-4efb-a066-f761ebed502f",
        "colab": {
          "base_uri": "https://localhost:8080/",
          "height": 145
        }
      },
      "source": [
        "data[names!='Joe']=7\n",
        "data"
      ],
      "execution_count": 0,
      "outputs": [
        {
          "output_type": "execute_result",
          "data": {
            "text/plain": [
              "array([[7.        , 7.        , 7.        , 7.        ],\n",
              "       [0.10121148, 0.01716074, 0.02551526, 0.1687502 ],\n",
              "       [7.        , 7.        , 7.        , 7.        ],\n",
              "       [7.        , 7.        , 7.        , 7.        ],\n",
              "       [7.        , 7.        , 7.        , 7.        ],\n",
              "       [0.83765042, 0.91896491, 0.58165581, 0.29967444],\n",
              "       [0.25293912, 0.08215639, 0.54540088, 0.75752216]])"
            ]
          },
          "metadata": {
            "tags": []
          },
          "execution_count": 98
        }
      ]
    },
    {
      "cell_type": "code",
      "metadata": {
        "id": "9GDo1lSCWmiA",
        "colab_type": "code",
        "outputId": "d53cd84f-8fd0-4c06-fafa-c5956b3d9a74",
        "colab": {
          "base_uri": "https://localhost:8080/",
          "height": 308
        }
      },
      "source": [
        "arr=np.empty((8,4))\n",
        "arr"
      ],
      "execution_count": 0,
      "outputs": [
        {
          "output_type": "execute_result",
          "data": {
            "text/plain": [
              "array([[2.71670651e-316, 1.06099790e-312, 6.79038654e-313,\n",
              "        6.79038653e-313],\n",
              "       [2.37663529e-312, 2.05833592e-312, 2.41907520e-312,\n",
              "        2.56761491e-312],\n",
              "       [1.93101617e-312, 1.03977794e-312, 6.79038653e-313,\n",
              "        9.33678148e-313],\n",
              "       [1.08221785e-312, 9.33678148e-313, 1.93101617e-312,\n",
              "        9.33678148e-313],\n",
              "       [1.12465777e-312, 6.79038653e-313, 1.97345609e-312,\n",
              "        6.79038653e-313],\n",
              "       [1.16709769e-312, 6.79038653e-313, 9.33678148e-313,\n",
              "        1.20953760e-312],\n",
              "       [1.97345609e-312, 2.12199579e-313, 2.41907520e-312,\n",
              "        1.06099790e-312],\n",
              "       [1.93101617e-312, 1.97345609e-312, 5.63234836e-322,\n",
              "        0.00000000e+000]])"
            ]
          },
          "metadata": {
            "tags": []
          },
          "execution_count": 99
        }
      ]
    },
    {
      "cell_type": "code",
      "metadata": {
        "id": "kHzXeSBkWy7D",
        "colab_type": "code",
        "outputId": "b5c4dac1-08ab-4c18-d8e1-4933570366bb",
        "colab": {
          "base_uri": "https://localhost:8080/",
          "height": 163
        }
      },
      "source": [
        "for i in range(8):\n",
        "  arr[i]=i\n",
        "arr"
      ],
      "execution_count": 0,
      "outputs": [
        {
          "output_type": "execute_result",
          "data": {
            "text/plain": [
              "array([[0., 0., 0., 0.],\n",
              "       [1., 1., 1., 1.],\n",
              "       [2., 2., 2., 2.],\n",
              "       [3., 3., 3., 3.],\n",
              "       [4., 4., 4., 4.],\n",
              "       [5., 5., 5., 5.],\n",
              "       [6., 6., 6., 6.],\n",
              "       [7., 7., 7., 7.]])"
            ]
          },
          "metadata": {
            "tags": []
          },
          "execution_count": 100
        }
      ]
    },
    {
      "cell_type": "code",
      "metadata": {
        "id": "1g2G0ZiCXO8u",
        "colab_type": "code",
        "outputId": "17eead82-f395-4a96-d283-dde55f007e1e",
        "colab": {
          "base_uri": "https://localhost:8080/",
          "height": 90
        }
      },
      "source": [
        "arr[[4,3,0,6]]#subsets of rows by passing list"
      ],
      "execution_count": 0,
      "outputs": [
        {
          "output_type": "execute_result",
          "data": {
            "text/plain": [
              "array([[4., 4., 4., 4.],\n",
              "       [3., 3., 3., 3.],\n",
              "       [0., 0., 0., 0.],\n",
              "       [6., 6., 6., 6.]])"
            ]
          },
          "metadata": {
            "tags": []
          },
          "execution_count": 101
        }
      ]
    },
    {
      "cell_type": "code",
      "metadata": {
        "id": "aQq2R6bMX1Rj",
        "colab_type": "code",
        "outputId": "b9bcac09-c40f-458c-b9d0-1ec15595ec8a",
        "colab": {
          "base_uri": "https://localhost:8080/",
          "height": 72
        }
      },
      "source": [
        "arr[[-3,-5,-7]]"
      ],
      "execution_count": 0,
      "outputs": [
        {
          "output_type": "execute_result",
          "data": {
            "text/plain": [
              "array([[5., 5., 5., 5.],\n",
              "       [3., 3., 3., 3.],\n",
              "       [1., 1., 1., 1.]])"
            ]
          },
          "metadata": {
            "tags": []
          },
          "execution_count": 102
        }
      ]
    },
    {
      "cell_type": "code",
      "metadata": {
        "id": "6UDPqa5FYQI_",
        "colab_type": "code",
        "outputId": "0c84133b-4b25-49d0-e2fc-84ecb00d40f7",
        "colab": {
          "base_uri": "https://localhost:8080/",
          "height": 163
        }
      },
      "source": [
        "arr=np.arange(32).reshape(8,4)\n",
        "arr"
      ],
      "execution_count": 0,
      "outputs": [
        {
          "output_type": "execute_result",
          "data": {
            "text/plain": [
              "array([[ 0,  1,  2,  3],\n",
              "       [ 4,  5,  6,  7],\n",
              "       [ 8,  9, 10, 11],\n",
              "       [12, 13, 14, 15],\n",
              "       [16, 17, 18, 19],\n",
              "       [20, 21, 22, 23],\n",
              "       [24, 25, 26, 27],\n",
              "       [28, 29, 30, 31]])"
            ]
          },
          "metadata": {
            "tags": []
          },
          "execution_count": 103
        }
      ]
    },
    {
      "cell_type": "code",
      "metadata": {
        "id": "_XvQYV94YdS2",
        "colab_type": "code",
        "outputId": "0a37bac1-75fe-4188-da29-bc009b734cc4",
        "colab": {
          "base_uri": "https://localhost:8080/",
          "height": 35
        }
      },
      "source": [
        "arr[[1, 5, 7, 2], [0, 3, 1, 2]]"
      ],
      "execution_count": 0,
      "outputs": [
        {
          "output_type": "execute_result",
          "data": {
            "text/plain": [
              "array([ 4, 23, 29, 10])"
            ]
          },
          "metadata": {
            "tags": []
          },
          "execution_count": 104
        }
      ]
    },
    {
      "cell_type": "code",
      "metadata": {
        "id": "_BZGuxc-Zix7",
        "colab_type": "code",
        "outputId": "98f419c5-a787-4be8-cbed-bbd15d0b4d20",
        "colab": {
          "base_uri": "https://localhost:8080/",
          "height": 90
        }
      },
      "source": [
        "arr[[1,5,7,2]][:,[0,3,1,2]]"
      ],
      "execution_count": 0,
      "outputs": [
        {
          "output_type": "execute_result",
          "data": {
            "text/plain": [
              "array([[ 4,  7,  5,  6],\n",
              "       [20, 23, 21, 22],\n",
              "       [28, 31, 29, 30],\n",
              "       [ 8, 11,  9, 10]])"
            ]
          },
          "metadata": {
            "tags": []
          },
          "execution_count": 105
        }
      ]
    },
    {
      "cell_type": "code",
      "metadata": {
        "id": "Ak-6LKyhbxI7",
        "colab_type": "code",
        "outputId": "2f5f3be7-4943-4b55-9384-f1ac697d4242",
        "colab": {
          "base_uri": "https://localhost:8080/",
          "height": 108
        }
      },
      "source": [
        "arr=np.arange(15).reshape(5,3)\n",
        "arr"
      ],
      "execution_count": 0,
      "outputs": [
        {
          "output_type": "execute_result",
          "data": {
            "text/plain": [
              "array([[ 0,  1,  2],\n",
              "       [ 3,  4,  5],\n",
              "       [ 6,  7,  8],\n",
              "       [ 9, 10, 11],\n",
              "       [12, 13, 14]])"
            ]
          },
          "metadata": {
            "tags": []
          },
          "execution_count": 106
        }
      ]
    },
    {
      "cell_type": "code",
      "metadata": {
        "id": "49wD8D6DcBCI",
        "colab_type": "code",
        "outputId": "f5ab5093-d828-491b-bd8a-be5ce01e6ed4",
        "colab": {
          "base_uri": "https://localhost:8080/",
          "height": 72
        }
      },
      "source": [
        "arr.T"
      ],
      "execution_count": 0,
      "outputs": [
        {
          "output_type": "execute_result",
          "data": {
            "text/plain": [
              "array([[ 0,  3,  6,  9, 12],\n",
              "       [ 1,  4,  7, 10, 13],\n",
              "       [ 2,  5,  8, 11, 14]])"
            ]
          },
          "metadata": {
            "tags": []
          },
          "execution_count": 107
        }
      ]
    },
    {
      "cell_type": "code",
      "metadata": {
        "id": "35jPidOdcQoh",
        "colab_type": "code",
        "outputId": "58bebdf5-babb-46f3-ab48-b05fe3eefa8c",
        "colab": {
          "base_uri": "https://localhost:8080/",
          "height": 126
        }
      },
      "source": [
        "arr = np.random.randn(6, 3)\n",
        "arr"
      ],
      "execution_count": 0,
      "outputs": [
        {
          "output_type": "execute_result",
          "data": {
            "text/plain": [
              "array([[-1.4184857 , -1.96846652,  0.14687084],\n",
              "       [ 0.51090208, -0.85071539, -0.20541469],\n",
              "       [ 1.64200143,  0.55777753, -1.18771722],\n",
              "       [ 0.10583825, -0.39294858, -0.57318702],\n",
              "       [ 0.04776259,  2.36002323,  3.48910598],\n",
              "       [-0.95374299,  0.14254745, -0.2866141 ]])"
            ]
          },
          "metadata": {
            "tags": []
          },
          "execution_count": 108
        }
      ]
    },
    {
      "cell_type": "code",
      "metadata": {
        "id": "g93Gsa2yc5GX",
        "colab_type": "code",
        "outputId": "548faf7d-4b96-4b72-8ac5-134d63e12ce5",
        "colab": {
          "base_uri": "https://localhost:8080/",
          "height": 72
        }
      },
      "source": [
        "np.dot(arr.T,arr)#this is matrix multiplication a@b"
      ],
      "execution_count": 0,
      "outputs": [
        {
          "output_type": "execute_result",
          "data": {
            "text/plain": [
              "array([[ 5.8924    ,  3.20865904, -1.88417455],\n",
              "       [ 3.20865904, 10.6541309 ,  7.64190522],\n",
              "       [-1.88417455,  7.64190522, 14.05898999]])"
            ]
          },
          "metadata": {
            "tags": []
          },
          "execution_count": 109
        }
      ]
    },
    {
      "cell_type": "code",
      "metadata": {
        "id": "vyTQ1t4Y10Fl",
        "colab_type": "code",
        "outputId": "5dd03a73-367e-4bce-e0b8-29882bb047db",
        "colab": {
          "base_uri": "https://localhost:8080/",
          "height": 35
        }
      },
      "source": [
        "arr1=np.array([1,2,3,4])\n",
        "arr2=np.array([5,6,7,8])\n",
        "np.dot(arr1,arr2)#this  is vector product"
      ],
      "execution_count": 0,
      "outputs": [
        {
          "output_type": "execute_result",
          "data": {
            "text/plain": [
              "70"
            ]
          },
          "metadata": {
            "tags": []
          },
          "execution_count": 110
        }
      ]
    },
    {
      "cell_type": "code",
      "metadata": {
        "id": "bxpG9ADF2knr",
        "colab_type": "code",
        "outputId": "aca3b100-e29f-4bc6-92ad-5abeda65df4c",
        "colab": {
          "base_uri": "https://localhost:8080/",
          "height": 108
        }
      },
      "source": [
        "arr=np.arange(16).reshape((2,2,4))\n",
        "arr"
      ],
      "execution_count": 0,
      "outputs": [
        {
          "output_type": "execute_result",
          "data": {
            "text/plain": [
              "array([[[ 0,  1,  2,  3],\n",
              "        [ 4,  5,  6,  7]],\n",
              "\n",
              "       [[ 8,  9, 10, 11],\n",
              "        [12, 13, 14, 15]]])"
            ]
          },
          "metadata": {
            "tags": []
          },
          "execution_count": 111
        }
      ]
    },
    {
      "cell_type": "code",
      "metadata": {
        "id": "in-VnkUo4PJ9",
        "colab_type": "code",
        "outputId": "100d9569-d7c7-4a7b-c131-93dbd9b54916",
        "colab": {
          "base_uri": "https://localhost:8080/",
          "height": 108
        }
      },
      "source": [
        "arr.transpose((1,0,2))"
      ],
      "execution_count": 0,
      "outputs": [
        {
          "output_type": "execute_result",
          "data": {
            "text/plain": [
              "array([[[ 0,  1,  2,  3],\n",
              "        [ 8,  9, 10, 11]],\n",
              "\n",
              "       [[ 4,  5,  6,  7],\n",
              "        [12, 13, 14, 15]]])"
            ]
          },
          "metadata": {
            "tags": []
          },
          "execution_count": 112
        }
      ]
    },
    {
      "cell_type": "code",
      "metadata": {
        "id": "kooWnutdSsZ-",
        "colab_type": "code",
        "outputId": "48639a8f-a47d-463b-d465-4479913a606e",
        "colab": {
          "base_uri": "https://localhost:8080/",
          "height": 72
        }
      },
      "source": [
        "x = np.ones((1, 2, 3))\n",
        "np.transpose(x, (1, 0, 2))"
      ],
      "execution_count": 0,
      "outputs": [
        {
          "output_type": "execute_result",
          "data": {
            "text/plain": [
              "array([[[1., 1., 1.]],\n",
              "\n",
              "       [[1., 1., 1.]]])"
            ]
          },
          "metadata": {
            "tags": []
          },
          "execution_count": 113
        }
      ]
    },
    {
      "cell_type": "code",
      "metadata": {
        "id": "DXrSZY9YYMcf",
        "colab_type": "code",
        "outputId": "6d0d41d8-47ca-4639-8a67-12e386764c55",
        "colab": {
          "base_uri": "https://localhost:8080/",
          "height": 217
        }
      },
      "source": [
        "arr.transpose((2,0,1))# 0 axis means stack , 1 axis means rows , 2 axis means cols"
      ],
      "execution_count": 0,
      "outputs": [
        {
          "output_type": "execute_result",
          "data": {
            "text/plain": [
              "array([[[ 0,  4],\n",
              "        [ 8, 12]],\n",
              "\n",
              "       [[ 1,  5],\n",
              "        [ 9, 13]],\n",
              "\n",
              "       [[ 2,  6],\n",
              "        [10, 14]],\n",
              "\n",
              "       [[ 3,  7],\n",
              "        [11, 15]]])"
            ]
          },
          "metadata": {
            "tags": []
          },
          "execution_count": 114
        }
      ]
    },
    {
      "cell_type": "code",
      "metadata": {
        "id": "xq1Wl627dN-_",
        "colab_type": "code",
        "outputId": "3333e8fc-23ae-49ff-fbe1-4b97b159fc37",
        "colab": {
          "base_uri": "https://localhost:8080/",
          "height": 181
        }
      },
      "source": [
        "arr.swapaxes(1,2)"
      ],
      "execution_count": 0,
      "outputs": [
        {
          "output_type": "execute_result",
          "data": {
            "text/plain": [
              "array([[[ 0,  4],\n",
              "        [ 1,  5],\n",
              "        [ 2,  6],\n",
              "        [ 3,  7]],\n",
              "\n",
              "       [[ 8, 12],\n",
              "        [ 9, 13],\n",
              "        [10, 14],\n",
              "        [11, 15]]])"
            ]
          },
          "metadata": {
            "tags": []
          },
          "execution_count": 115
        }
      ]
    },
    {
      "cell_type": "code",
      "metadata": {
        "id": "XxBSzf0MdU0S",
        "colab_type": "code",
        "outputId": "19b4125e-6470-4d6d-b661-26db3b29eb49",
        "colab": {
          "base_uri": "https://localhost:8080/",
          "height": 35
        }
      },
      "source": [
        "arr=np.arange(10)\n",
        "arr"
      ],
      "execution_count": 0,
      "outputs": [
        {
          "output_type": "execute_result",
          "data": {
            "text/plain": [
              "array([0, 1, 2, 3, 4, 5, 6, 7, 8, 9])"
            ]
          },
          "metadata": {
            "tags": []
          },
          "execution_count": 116
        }
      ]
    },
    {
      "cell_type": "code",
      "metadata": {
        "id": "qNTP_uDe1EyO",
        "colab_type": "code",
        "outputId": "12b68bf0-3403-41ad-8187-537050fa978c",
        "colab": {
          "base_uri": "https://localhost:8080/",
          "height": 54
        }
      },
      "source": [
        "np.sqrt(arr)"
      ],
      "execution_count": 0,
      "outputs": [
        {
          "output_type": "execute_result",
          "data": {
            "text/plain": [
              "array([0.        , 1.        , 1.41421356, 1.73205081, 2.        ,\n",
              "       2.23606798, 2.44948974, 2.64575131, 2.82842712, 3.        ])"
            ]
          },
          "metadata": {
            "tags": []
          },
          "execution_count": 117
        }
      ]
    },
    {
      "cell_type": "code",
      "metadata": {
        "id": "55QzxTgP1Phx",
        "colab_type": "code",
        "outputId": "c43da389-8447-4cf5-c038-aaac56e65285",
        "colab": {
          "base_uri": "https://localhost:8080/",
          "height": 72
        }
      },
      "source": [
        "np.exp(arr)"
      ],
      "execution_count": 0,
      "outputs": [
        {
          "output_type": "execute_result",
          "data": {
            "text/plain": [
              "array([1.00000000e+00, 2.71828183e+00, 7.38905610e+00, 2.00855369e+01,\n",
              "       5.45981500e+01, 1.48413159e+02, 4.03428793e+02, 1.09663316e+03,\n",
              "       2.98095799e+03, 8.10308393e+03])"
            ]
          },
          "metadata": {
            "tags": []
          },
          "execution_count": 118
        }
      ]
    },
    {
      "cell_type": "code",
      "metadata": {
        "id": "g9gPZqT_NquL",
        "colab_type": "code",
        "outputId": "4a444cd2-0586-4659-8638-5542ee591e97",
        "colab": {
          "base_uri": "https://localhost:8080/",
          "height": 126
        }
      },
      "source": [
        "x=np.random.randn(8)\n",
        "y=np.random.randn(8)\n",
        "print('x:\\n',x)\n",
        "print('y:\\n',y)"
      ],
      "execution_count": 0,
      "outputs": [
        {
          "output_type": "stream",
          "text": [
            "x:\n",
            " [-0.40966557 -0.61146109 -0.16176257 -0.15759892  1.34255332 -0.0458136\n",
            " -0.03126339  0.69989281]\n",
            "y:\n",
            " [-0.45675565  0.15629843 -2.13988363 -0.41211315  0.78851541  0.0764694\n",
            " -0.86947553 -0.57856555]\n"
          ],
          "name": "stdout"
        }
      ]
    },
    {
      "cell_type": "code",
      "metadata": {
        "id": "hNRt4o4xOb-W",
        "colab_type": "code",
        "outputId": "efd6e011-f313-4809-c907-e668feb73d9c",
        "colab": {
          "base_uri": "https://localhost:8080/",
          "height": 54
        }
      },
      "source": [
        "np.maximum(x,y)"
      ],
      "execution_count": 0,
      "outputs": [
        {
          "output_type": "execute_result",
          "data": {
            "text/plain": [
              "array([-0.40966557,  0.15629843, -0.16176257, -0.15759892,  1.34255332,\n",
              "        0.0764694 , -0.03126339,  0.69989281])"
            ]
          },
          "metadata": {
            "tags": []
          },
          "execution_count": 120
        }
      ]
    },
    {
      "cell_type": "code",
      "metadata": {
        "id": "M79UwmFqQM-P",
        "colab_type": "code",
        "colab": {}
      },
      "source": [
        "arr=np.random.randn(7)*5\n",
        "remainder,whole_part=np.modf(arr)"
      ],
      "execution_count": 0,
      "outputs": []
    },
    {
      "cell_type": "code",
      "metadata": {
        "id": "ISGBinPSQdvc",
        "colab_type": "code",
        "outputId": "341d08a2-31a7-450c-f08e-f8e697b4f6ec",
        "colab": {
          "base_uri": "https://localhost:8080/",
          "height": 54
        }
      },
      "source": [
        "remainder"
      ],
      "execution_count": 0,
      "outputs": [
        {
          "output_type": "execute_result",
          "data": {
            "text/plain": [
              "array([ 0.56745613,  0.48303623,  0.74147405, -0.86412719,  0.81863704,\n",
              "        0.70771937,  0.35658783])"
            ]
          },
          "metadata": {
            "tags": []
          },
          "execution_count": 122
        }
      ]
    },
    {
      "cell_type": "code",
      "metadata": {
        "id": "vkxd0l5vQiSU",
        "colab_type": "code",
        "outputId": "8cb29a82-e5f4-4cde-cff6-519478384f67",
        "colab": {
          "base_uri": "https://localhost:8080/",
          "height": 35
        }
      },
      "source": [
        "whole_part"
      ],
      "execution_count": 0,
      "outputs": [
        {
          "output_type": "execute_result",
          "data": {
            "text/plain": [
              "array([ 1.,  2.,  1., -1.,  7.,  1.,  0.])"
            ]
          },
          "metadata": {
            "tags": []
          },
          "execution_count": 123
        }
      ]
    },
    {
      "cell_type": "code",
      "metadata": {
        "id": "j_9Yv4s_Q09O",
        "colab_type": "code",
        "outputId": "cba4de74-386b-4518-d6c2-56dabf89b1df",
        "colab": {
          "base_uri": "https://localhost:8080/",
          "height": 90
        }
      },
      "source": [
        "np.sqrt(arr)"
      ],
      "execution_count": 0,
      "outputs": [
        {
          "output_type": "stream",
          "text": [
            "/usr/local/lib/python3.6/dist-packages/ipykernel_launcher.py:1: RuntimeWarning: invalid value encountered in sqrt\n",
            "  \"\"\"Entry point for launching an IPython kernel.\n"
          ],
          "name": "stderr"
        },
        {
          "output_type": "execute_result",
          "data": {
            "text/plain": [
              "array([1.25198088, 1.57576528, 1.31964921,        nan, 2.79618258,\n",
              "       1.30679737, 0.59714975])"
            ]
          },
          "metadata": {
            "tags": []
          },
          "execution_count": 124
        }
      ]
    },
    {
      "cell_type": "code",
      "metadata": {
        "id": "7eJDfB4uQ31c",
        "colab_type": "code",
        "outputId": "6c00eed6-dbf5-4733-c552-de8c2dbf4d9e",
        "colab": {
          "base_uri": "https://localhost:8080/",
          "height": 90
        }
      },
      "source": [
        "np.sqrt(arr,arr)#in-place"
      ],
      "execution_count": 0,
      "outputs": [
        {
          "output_type": "stream",
          "text": [
            "/usr/local/lib/python3.6/dist-packages/ipykernel_launcher.py:1: RuntimeWarning: invalid value encountered in sqrt\n",
            "  \"\"\"Entry point for launching an IPython kernel.\n"
          ],
          "name": "stderr"
        },
        {
          "output_type": "execute_result",
          "data": {
            "text/plain": [
              "array([1.25198088, 1.57576528, 1.31964921,        nan, 2.79618258,\n",
              "       1.30679737, 0.59714975])"
            ]
          },
          "metadata": {
            "tags": []
          },
          "execution_count": 125
        }
      ]
    },
    {
      "cell_type": "code",
      "metadata": {
        "id": "-prGUJp8Q8Xs",
        "colab_type": "code",
        "outputId": "cc6a9293-cbde-4949-df88-0c083490bb62",
        "colab": {
          "base_uri": "https://localhost:8080/",
          "height": 54
        }
      },
      "source": [
        "arr"
      ],
      "execution_count": 0,
      "outputs": [
        {
          "output_type": "execute_result",
          "data": {
            "text/plain": [
              "array([1.25198088, 1.57576528, 1.31964921,        nan, 2.79618258,\n",
              "       1.30679737, 0.59714975])"
            ]
          },
          "metadata": {
            "tags": []
          },
          "execution_count": 126
        }
      ]
    },
    {
      "cell_type": "code",
      "metadata": {
        "id": "gG_B_AMcJwwi",
        "colab_type": "code",
        "colab": {}
      },
      "source": [
        "points=np.arange(-5,5,0.01)\n",
        "xs,ys=np.meshgrid(points,points)"
      ],
      "execution_count": 0,
      "outputs": []
    },
    {
      "cell_type": "code",
      "metadata": {
        "id": "v5zu9-VxLRR4",
        "colab_type": "code",
        "outputId": "ea93b17f-76a0-426f-8b50-c1d042e0450a",
        "colab": {
          "base_uri": "https://localhost:8080/",
          "height": 145
        }
      },
      "source": [
        "xs"
      ],
      "execution_count": 0,
      "outputs": [
        {
          "output_type": "execute_result",
          "data": {
            "text/plain": [
              "array([[-5.  , -4.99, -4.98, ...,  4.97,  4.98,  4.99],\n",
              "       [-5.  , -4.99, -4.98, ...,  4.97,  4.98,  4.99],\n",
              "       [-5.  , -4.99, -4.98, ...,  4.97,  4.98,  4.99],\n",
              "       ...,\n",
              "       [-5.  , -4.99, -4.98, ...,  4.97,  4.98,  4.99],\n",
              "       [-5.  , -4.99, -4.98, ...,  4.97,  4.98,  4.99],\n",
              "       [-5.  , -4.99, -4.98, ...,  4.97,  4.98,  4.99]])"
            ]
          },
          "metadata": {
            "tags": []
          },
          "execution_count": 128
        }
      ]
    },
    {
      "cell_type": "code",
      "metadata": {
        "id": "EbvF68L3Ldli",
        "colab_type": "code",
        "outputId": "e7fc6f70-3e49-4dd8-94f8-7f83b4420551",
        "colab": {
          "base_uri": "https://localhost:8080/",
          "height": 4563
        }
      },
      "source": [
        "point=np.arange(-5,5,0.01)\n",
        "xy=np.meshgrid(point)\n",
        "xy"
      ],
      "execution_count": 0,
      "outputs": [
        {
          "output_type": "execute_result",
          "data": {
            "text/plain": [
              "[array([-5.0000000e+00, -4.9900000e+00, -4.9800000e+00, -4.9700000e+00,\n",
              "        -4.9600000e+00, -4.9500000e+00, -4.9400000e+00, -4.9300000e+00,\n",
              "        -4.9200000e+00, -4.9100000e+00, -4.9000000e+00, -4.8900000e+00,\n",
              "        -4.8800000e+00, -4.8700000e+00, -4.8600000e+00, -4.8500000e+00,\n",
              "        -4.8400000e+00, -4.8300000e+00, -4.8200000e+00, -4.8100000e+00,\n",
              "        -4.8000000e+00, -4.7900000e+00, -4.7800000e+00, -4.7700000e+00,\n",
              "        -4.7600000e+00, -4.7500000e+00, -4.7400000e+00, -4.7300000e+00,\n",
              "        -4.7200000e+00, -4.7100000e+00, -4.7000000e+00, -4.6900000e+00,\n",
              "        -4.6800000e+00, -4.6700000e+00, -4.6600000e+00, -4.6500000e+00,\n",
              "        -4.6400000e+00, -4.6300000e+00, -4.6200000e+00, -4.6100000e+00,\n",
              "        -4.6000000e+00, -4.5900000e+00, -4.5800000e+00, -4.5700000e+00,\n",
              "        -4.5600000e+00, -4.5500000e+00, -4.5400000e+00, -4.5300000e+00,\n",
              "        -4.5200000e+00, -4.5100000e+00, -4.5000000e+00, -4.4900000e+00,\n",
              "        -4.4800000e+00, -4.4700000e+00, -4.4600000e+00, -4.4500000e+00,\n",
              "        -4.4400000e+00, -4.4300000e+00, -4.4200000e+00, -4.4100000e+00,\n",
              "        -4.4000000e+00, -4.3900000e+00, -4.3800000e+00, -4.3700000e+00,\n",
              "        -4.3600000e+00, -4.3500000e+00, -4.3400000e+00, -4.3300000e+00,\n",
              "        -4.3200000e+00, -4.3100000e+00, -4.3000000e+00, -4.2900000e+00,\n",
              "        -4.2800000e+00, -4.2700000e+00, -4.2600000e+00, -4.2500000e+00,\n",
              "        -4.2400000e+00, -4.2300000e+00, -4.2200000e+00, -4.2100000e+00,\n",
              "        -4.2000000e+00, -4.1900000e+00, -4.1800000e+00, -4.1700000e+00,\n",
              "        -4.1600000e+00, -4.1500000e+00, -4.1400000e+00, -4.1300000e+00,\n",
              "        -4.1200000e+00, -4.1100000e+00, -4.1000000e+00, -4.0900000e+00,\n",
              "        -4.0800000e+00, -4.0700000e+00, -4.0600000e+00, -4.0500000e+00,\n",
              "        -4.0400000e+00, -4.0300000e+00, -4.0200000e+00, -4.0100000e+00,\n",
              "        -4.0000000e+00, -3.9900000e+00, -3.9800000e+00, -3.9700000e+00,\n",
              "        -3.9600000e+00, -3.9500000e+00, -3.9400000e+00, -3.9300000e+00,\n",
              "        -3.9200000e+00, -3.9100000e+00, -3.9000000e+00, -3.8900000e+00,\n",
              "        -3.8800000e+00, -3.8700000e+00, -3.8600000e+00, -3.8500000e+00,\n",
              "        -3.8400000e+00, -3.8300000e+00, -3.8200000e+00, -3.8100000e+00,\n",
              "        -3.8000000e+00, -3.7900000e+00, -3.7800000e+00, -3.7700000e+00,\n",
              "        -3.7600000e+00, -3.7500000e+00, -3.7400000e+00, -3.7300000e+00,\n",
              "        -3.7200000e+00, -3.7100000e+00, -3.7000000e+00, -3.6900000e+00,\n",
              "        -3.6800000e+00, -3.6700000e+00, -3.6600000e+00, -3.6500000e+00,\n",
              "        -3.6400000e+00, -3.6300000e+00, -3.6200000e+00, -3.6100000e+00,\n",
              "        -3.6000000e+00, -3.5900000e+00, -3.5800000e+00, -3.5700000e+00,\n",
              "        -3.5600000e+00, -3.5500000e+00, -3.5400000e+00, -3.5300000e+00,\n",
              "        -3.5200000e+00, -3.5100000e+00, -3.5000000e+00, -3.4900000e+00,\n",
              "        -3.4800000e+00, -3.4700000e+00, -3.4600000e+00, -3.4500000e+00,\n",
              "        -3.4400000e+00, -3.4300000e+00, -3.4200000e+00, -3.4100000e+00,\n",
              "        -3.4000000e+00, -3.3900000e+00, -3.3800000e+00, -3.3700000e+00,\n",
              "        -3.3600000e+00, -3.3500000e+00, -3.3400000e+00, -3.3300000e+00,\n",
              "        -3.3200000e+00, -3.3100000e+00, -3.3000000e+00, -3.2900000e+00,\n",
              "        -3.2800000e+00, -3.2700000e+00, -3.2600000e+00, -3.2500000e+00,\n",
              "        -3.2400000e+00, -3.2300000e+00, -3.2200000e+00, -3.2100000e+00,\n",
              "        -3.2000000e+00, -3.1900000e+00, -3.1800000e+00, -3.1700000e+00,\n",
              "        -3.1600000e+00, -3.1500000e+00, -3.1400000e+00, -3.1300000e+00,\n",
              "        -3.1200000e+00, -3.1100000e+00, -3.1000000e+00, -3.0900000e+00,\n",
              "        -3.0800000e+00, -3.0700000e+00, -3.0600000e+00, -3.0500000e+00,\n",
              "        -3.0400000e+00, -3.0300000e+00, -3.0200000e+00, -3.0100000e+00,\n",
              "        -3.0000000e+00, -2.9900000e+00, -2.9800000e+00, -2.9700000e+00,\n",
              "        -2.9600000e+00, -2.9500000e+00, -2.9400000e+00, -2.9300000e+00,\n",
              "        -2.9200000e+00, -2.9100000e+00, -2.9000000e+00, -2.8900000e+00,\n",
              "        -2.8800000e+00, -2.8700000e+00, -2.8600000e+00, -2.8500000e+00,\n",
              "        -2.8400000e+00, -2.8300000e+00, -2.8200000e+00, -2.8100000e+00,\n",
              "        -2.8000000e+00, -2.7900000e+00, -2.7800000e+00, -2.7700000e+00,\n",
              "        -2.7600000e+00, -2.7500000e+00, -2.7400000e+00, -2.7300000e+00,\n",
              "        -2.7200000e+00, -2.7100000e+00, -2.7000000e+00, -2.6900000e+00,\n",
              "        -2.6800000e+00, -2.6700000e+00, -2.6600000e+00, -2.6500000e+00,\n",
              "        -2.6400000e+00, -2.6300000e+00, -2.6200000e+00, -2.6100000e+00,\n",
              "        -2.6000000e+00, -2.5900000e+00, -2.5800000e+00, -2.5700000e+00,\n",
              "        -2.5600000e+00, -2.5500000e+00, -2.5400000e+00, -2.5300000e+00,\n",
              "        -2.5200000e+00, -2.5100000e+00, -2.5000000e+00, -2.4900000e+00,\n",
              "        -2.4800000e+00, -2.4700000e+00, -2.4600000e+00, -2.4500000e+00,\n",
              "        -2.4400000e+00, -2.4300000e+00, -2.4200000e+00, -2.4100000e+00,\n",
              "        -2.4000000e+00, -2.3900000e+00, -2.3800000e+00, -2.3700000e+00,\n",
              "        -2.3600000e+00, -2.3500000e+00, -2.3400000e+00, -2.3300000e+00,\n",
              "        -2.3200000e+00, -2.3100000e+00, -2.3000000e+00, -2.2900000e+00,\n",
              "        -2.2800000e+00, -2.2700000e+00, -2.2600000e+00, -2.2500000e+00,\n",
              "        -2.2400000e+00, -2.2300000e+00, -2.2200000e+00, -2.2100000e+00,\n",
              "        -2.2000000e+00, -2.1900000e+00, -2.1800000e+00, -2.1700000e+00,\n",
              "        -2.1600000e+00, -2.1500000e+00, -2.1400000e+00, -2.1300000e+00,\n",
              "        -2.1200000e+00, -2.1100000e+00, -2.1000000e+00, -2.0900000e+00,\n",
              "        -2.0800000e+00, -2.0700000e+00, -2.0600000e+00, -2.0500000e+00,\n",
              "        -2.0400000e+00, -2.0300000e+00, -2.0200000e+00, -2.0100000e+00,\n",
              "        -2.0000000e+00, -1.9900000e+00, -1.9800000e+00, -1.9700000e+00,\n",
              "        -1.9600000e+00, -1.9500000e+00, -1.9400000e+00, -1.9300000e+00,\n",
              "        -1.9200000e+00, -1.9100000e+00, -1.9000000e+00, -1.8900000e+00,\n",
              "        -1.8800000e+00, -1.8700000e+00, -1.8600000e+00, -1.8500000e+00,\n",
              "        -1.8400000e+00, -1.8300000e+00, -1.8200000e+00, -1.8100000e+00,\n",
              "        -1.8000000e+00, -1.7900000e+00, -1.7800000e+00, -1.7700000e+00,\n",
              "        -1.7600000e+00, -1.7500000e+00, -1.7400000e+00, -1.7300000e+00,\n",
              "        -1.7200000e+00, -1.7100000e+00, -1.7000000e+00, -1.6900000e+00,\n",
              "        -1.6800000e+00, -1.6700000e+00, -1.6600000e+00, -1.6500000e+00,\n",
              "        -1.6400000e+00, -1.6300000e+00, -1.6200000e+00, -1.6100000e+00,\n",
              "        -1.6000000e+00, -1.5900000e+00, -1.5800000e+00, -1.5700000e+00,\n",
              "        -1.5600000e+00, -1.5500000e+00, -1.5400000e+00, -1.5300000e+00,\n",
              "        -1.5200000e+00, -1.5100000e+00, -1.5000000e+00, -1.4900000e+00,\n",
              "        -1.4800000e+00, -1.4700000e+00, -1.4600000e+00, -1.4500000e+00,\n",
              "        -1.4400000e+00, -1.4300000e+00, -1.4200000e+00, -1.4100000e+00,\n",
              "        -1.4000000e+00, -1.3900000e+00, -1.3800000e+00, -1.3700000e+00,\n",
              "        -1.3600000e+00, -1.3500000e+00, -1.3400000e+00, -1.3300000e+00,\n",
              "        -1.3200000e+00, -1.3100000e+00, -1.3000000e+00, -1.2900000e+00,\n",
              "        -1.2800000e+00, -1.2700000e+00, -1.2600000e+00, -1.2500000e+00,\n",
              "        -1.2400000e+00, -1.2300000e+00, -1.2200000e+00, -1.2100000e+00,\n",
              "        -1.2000000e+00, -1.1900000e+00, -1.1800000e+00, -1.1700000e+00,\n",
              "        -1.1600000e+00, -1.1500000e+00, -1.1400000e+00, -1.1300000e+00,\n",
              "        -1.1200000e+00, -1.1100000e+00, -1.1000000e+00, -1.0900000e+00,\n",
              "        -1.0800000e+00, -1.0700000e+00, -1.0600000e+00, -1.0500000e+00,\n",
              "        -1.0400000e+00, -1.0300000e+00, -1.0200000e+00, -1.0100000e+00,\n",
              "        -1.0000000e+00, -9.9000000e-01, -9.8000000e-01, -9.7000000e-01,\n",
              "        -9.6000000e-01, -9.5000000e-01, -9.4000000e-01, -9.3000000e-01,\n",
              "        -9.2000000e-01, -9.1000000e-01, -9.0000000e-01, -8.9000000e-01,\n",
              "        -8.8000000e-01, -8.7000000e-01, -8.6000000e-01, -8.5000000e-01,\n",
              "        -8.4000000e-01, -8.3000000e-01, -8.2000000e-01, -8.1000000e-01,\n",
              "        -8.0000000e-01, -7.9000000e-01, -7.8000000e-01, -7.7000000e-01,\n",
              "        -7.6000000e-01, -7.5000000e-01, -7.4000000e-01, -7.3000000e-01,\n",
              "        -7.2000000e-01, -7.1000000e-01, -7.0000000e-01, -6.9000000e-01,\n",
              "        -6.8000000e-01, -6.7000000e-01, -6.6000000e-01, -6.5000000e-01,\n",
              "        -6.4000000e-01, -6.3000000e-01, -6.2000000e-01, -6.1000000e-01,\n",
              "        -6.0000000e-01, -5.9000000e-01, -5.8000000e-01, -5.7000000e-01,\n",
              "        -5.6000000e-01, -5.5000000e-01, -5.4000000e-01, -5.3000000e-01,\n",
              "        -5.2000000e-01, -5.1000000e-01, -5.0000000e-01, -4.9000000e-01,\n",
              "        -4.8000000e-01, -4.7000000e-01, -4.6000000e-01, -4.5000000e-01,\n",
              "        -4.4000000e-01, -4.3000000e-01, -4.2000000e-01, -4.1000000e-01,\n",
              "        -4.0000000e-01, -3.9000000e-01, -3.8000000e-01, -3.7000000e-01,\n",
              "        -3.6000000e-01, -3.5000000e-01, -3.4000000e-01, -3.3000000e-01,\n",
              "        -3.2000000e-01, -3.1000000e-01, -3.0000000e-01, -2.9000000e-01,\n",
              "        -2.8000000e-01, -2.7000000e-01, -2.6000000e-01, -2.5000000e-01,\n",
              "        -2.4000000e-01, -2.3000000e-01, -2.2000000e-01, -2.1000000e-01,\n",
              "        -2.0000000e-01, -1.9000000e-01, -1.8000000e-01, -1.7000000e-01,\n",
              "        -1.6000000e-01, -1.5000000e-01, -1.4000000e-01, -1.3000000e-01,\n",
              "        -1.2000000e-01, -1.1000000e-01, -1.0000000e-01, -9.0000000e-02,\n",
              "        -8.0000000e-02, -7.0000000e-02, -6.0000000e-02, -5.0000000e-02,\n",
              "        -4.0000000e-02, -3.0000000e-02, -2.0000000e-02, -1.0000000e-02,\n",
              "        -1.0658141e-13,  1.0000000e-02,  2.0000000e-02,  3.0000000e-02,\n",
              "         4.0000000e-02,  5.0000000e-02,  6.0000000e-02,  7.0000000e-02,\n",
              "         8.0000000e-02,  9.0000000e-02,  1.0000000e-01,  1.1000000e-01,\n",
              "         1.2000000e-01,  1.3000000e-01,  1.4000000e-01,  1.5000000e-01,\n",
              "         1.6000000e-01,  1.7000000e-01,  1.8000000e-01,  1.9000000e-01,\n",
              "         2.0000000e-01,  2.1000000e-01,  2.2000000e-01,  2.3000000e-01,\n",
              "         2.4000000e-01,  2.5000000e-01,  2.6000000e-01,  2.7000000e-01,\n",
              "         2.8000000e-01,  2.9000000e-01,  3.0000000e-01,  3.1000000e-01,\n",
              "         3.2000000e-01,  3.3000000e-01,  3.4000000e-01,  3.5000000e-01,\n",
              "         3.6000000e-01,  3.7000000e-01,  3.8000000e-01,  3.9000000e-01,\n",
              "         4.0000000e-01,  4.1000000e-01,  4.2000000e-01,  4.3000000e-01,\n",
              "         4.4000000e-01,  4.5000000e-01,  4.6000000e-01,  4.7000000e-01,\n",
              "         4.8000000e-01,  4.9000000e-01,  5.0000000e-01,  5.1000000e-01,\n",
              "         5.2000000e-01,  5.3000000e-01,  5.4000000e-01,  5.5000000e-01,\n",
              "         5.6000000e-01,  5.7000000e-01,  5.8000000e-01,  5.9000000e-01,\n",
              "         6.0000000e-01,  6.1000000e-01,  6.2000000e-01,  6.3000000e-01,\n",
              "         6.4000000e-01,  6.5000000e-01,  6.6000000e-01,  6.7000000e-01,\n",
              "         6.8000000e-01,  6.9000000e-01,  7.0000000e-01,  7.1000000e-01,\n",
              "         7.2000000e-01,  7.3000000e-01,  7.4000000e-01,  7.5000000e-01,\n",
              "         7.6000000e-01,  7.7000000e-01,  7.8000000e-01,  7.9000000e-01,\n",
              "         8.0000000e-01,  8.1000000e-01,  8.2000000e-01,  8.3000000e-01,\n",
              "         8.4000000e-01,  8.5000000e-01,  8.6000000e-01,  8.7000000e-01,\n",
              "         8.8000000e-01,  8.9000000e-01,  9.0000000e-01,  9.1000000e-01,\n",
              "         9.2000000e-01,  9.3000000e-01,  9.4000000e-01,  9.5000000e-01,\n",
              "         9.6000000e-01,  9.7000000e-01,  9.8000000e-01,  9.9000000e-01,\n",
              "         1.0000000e+00,  1.0100000e+00,  1.0200000e+00,  1.0300000e+00,\n",
              "         1.0400000e+00,  1.0500000e+00,  1.0600000e+00,  1.0700000e+00,\n",
              "         1.0800000e+00,  1.0900000e+00,  1.1000000e+00,  1.1100000e+00,\n",
              "         1.1200000e+00,  1.1300000e+00,  1.1400000e+00,  1.1500000e+00,\n",
              "         1.1600000e+00,  1.1700000e+00,  1.1800000e+00,  1.1900000e+00,\n",
              "         1.2000000e+00,  1.2100000e+00,  1.2200000e+00,  1.2300000e+00,\n",
              "         1.2400000e+00,  1.2500000e+00,  1.2600000e+00,  1.2700000e+00,\n",
              "         1.2800000e+00,  1.2900000e+00,  1.3000000e+00,  1.3100000e+00,\n",
              "         1.3200000e+00,  1.3300000e+00,  1.3400000e+00,  1.3500000e+00,\n",
              "         1.3600000e+00,  1.3700000e+00,  1.3800000e+00,  1.3900000e+00,\n",
              "         1.4000000e+00,  1.4100000e+00,  1.4200000e+00,  1.4300000e+00,\n",
              "         1.4400000e+00,  1.4500000e+00,  1.4600000e+00,  1.4700000e+00,\n",
              "         1.4800000e+00,  1.4900000e+00,  1.5000000e+00,  1.5100000e+00,\n",
              "         1.5200000e+00,  1.5300000e+00,  1.5400000e+00,  1.5500000e+00,\n",
              "         1.5600000e+00,  1.5700000e+00,  1.5800000e+00,  1.5900000e+00,\n",
              "         1.6000000e+00,  1.6100000e+00,  1.6200000e+00,  1.6300000e+00,\n",
              "         1.6400000e+00,  1.6500000e+00,  1.6600000e+00,  1.6700000e+00,\n",
              "         1.6800000e+00,  1.6900000e+00,  1.7000000e+00,  1.7100000e+00,\n",
              "         1.7200000e+00,  1.7300000e+00,  1.7400000e+00,  1.7500000e+00,\n",
              "         1.7600000e+00,  1.7700000e+00,  1.7800000e+00,  1.7900000e+00,\n",
              "         1.8000000e+00,  1.8100000e+00,  1.8200000e+00,  1.8300000e+00,\n",
              "         1.8400000e+00,  1.8500000e+00,  1.8600000e+00,  1.8700000e+00,\n",
              "         1.8800000e+00,  1.8900000e+00,  1.9000000e+00,  1.9100000e+00,\n",
              "         1.9200000e+00,  1.9300000e+00,  1.9400000e+00,  1.9500000e+00,\n",
              "         1.9600000e+00,  1.9700000e+00,  1.9800000e+00,  1.9900000e+00,\n",
              "         2.0000000e+00,  2.0100000e+00,  2.0200000e+00,  2.0300000e+00,\n",
              "         2.0400000e+00,  2.0500000e+00,  2.0600000e+00,  2.0700000e+00,\n",
              "         2.0800000e+00,  2.0900000e+00,  2.1000000e+00,  2.1100000e+00,\n",
              "         2.1200000e+00,  2.1300000e+00,  2.1400000e+00,  2.1500000e+00,\n",
              "         2.1600000e+00,  2.1700000e+00,  2.1800000e+00,  2.1900000e+00,\n",
              "         2.2000000e+00,  2.2100000e+00,  2.2200000e+00,  2.2300000e+00,\n",
              "         2.2400000e+00,  2.2500000e+00,  2.2600000e+00,  2.2700000e+00,\n",
              "         2.2800000e+00,  2.2900000e+00,  2.3000000e+00,  2.3100000e+00,\n",
              "         2.3200000e+00,  2.3300000e+00,  2.3400000e+00,  2.3500000e+00,\n",
              "         2.3600000e+00,  2.3700000e+00,  2.3800000e+00,  2.3900000e+00,\n",
              "         2.4000000e+00,  2.4100000e+00,  2.4200000e+00,  2.4300000e+00,\n",
              "         2.4400000e+00,  2.4500000e+00,  2.4600000e+00,  2.4700000e+00,\n",
              "         2.4800000e+00,  2.4900000e+00,  2.5000000e+00,  2.5100000e+00,\n",
              "         2.5200000e+00,  2.5300000e+00,  2.5400000e+00,  2.5500000e+00,\n",
              "         2.5600000e+00,  2.5700000e+00,  2.5800000e+00,  2.5900000e+00,\n",
              "         2.6000000e+00,  2.6100000e+00,  2.6200000e+00,  2.6300000e+00,\n",
              "         2.6400000e+00,  2.6500000e+00,  2.6600000e+00,  2.6700000e+00,\n",
              "         2.6800000e+00,  2.6900000e+00,  2.7000000e+00,  2.7100000e+00,\n",
              "         2.7200000e+00,  2.7300000e+00,  2.7400000e+00,  2.7500000e+00,\n",
              "         2.7600000e+00,  2.7700000e+00,  2.7800000e+00,  2.7900000e+00,\n",
              "         2.8000000e+00,  2.8100000e+00,  2.8200000e+00,  2.8300000e+00,\n",
              "         2.8400000e+00,  2.8500000e+00,  2.8600000e+00,  2.8700000e+00,\n",
              "         2.8800000e+00,  2.8900000e+00,  2.9000000e+00,  2.9100000e+00,\n",
              "         2.9200000e+00,  2.9300000e+00,  2.9400000e+00,  2.9500000e+00,\n",
              "         2.9600000e+00,  2.9700000e+00,  2.9800000e+00,  2.9900000e+00,\n",
              "         3.0000000e+00,  3.0100000e+00,  3.0200000e+00,  3.0300000e+00,\n",
              "         3.0400000e+00,  3.0500000e+00,  3.0600000e+00,  3.0700000e+00,\n",
              "         3.0800000e+00,  3.0900000e+00,  3.1000000e+00,  3.1100000e+00,\n",
              "         3.1200000e+00,  3.1300000e+00,  3.1400000e+00,  3.1500000e+00,\n",
              "         3.1600000e+00,  3.1700000e+00,  3.1800000e+00,  3.1900000e+00,\n",
              "         3.2000000e+00,  3.2100000e+00,  3.2200000e+00,  3.2300000e+00,\n",
              "         3.2400000e+00,  3.2500000e+00,  3.2600000e+00,  3.2700000e+00,\n",
              "         3.2800000e+00,  3.2900000e+00,  3.3000000e+00,  3.3100000e+00,\n",
              "         3.3200000e+00,  3.3300000e+00,  3.3400000e+00,  3.3500000e+00,\n",
              "         3.3600000e+00,  3.3700000e+00,  3.3800000e+00,  3.3900000e+00,\n",
              "         3.4000000e+00,  3.4100000e+00,  3.4200000e+00,  3.4300000e+00,\n",
              "         3.4400000e+00,  3.4500000e+00,  3.4600000e+00,  3.4700000e+00,\n",
              "         3.4800000e+00,  3.4900000e+00,  3.5000000e+00,  3.5100000e+00,\n",
              "         3.5200000e+00,  3.5300000e+00,  3.5400000e+00,  3.5500000e+00,\n",
              "         3.5600000e+00,  3.5700000e+00,  3.5800000e+00,  3.5900000e+00,\n",
              "         3.6000000e+00,  3.6100000e+00,  3.6200000e+00,  3.6300000e+00,\n",
              "         3.6400000e+00,  3.6500000e+00,  3.6600000e+00,  3.6700000e+00,\n",
              "         3.6800000e+00,  3.6900000e+00,  3.7000000e+00,  3.7100000e+00,\n",
              "         3.7200000e+00,  3.7300000e+00,  3.7400000e+00,  3.7500000e+00,\n",
              "         3.7600000e+00,  3.7700000e+00,  3.7800000e+00,  3.7900000e+00,\n",
              "         3.8000000e+00,  3.8100000e+00,  3.8200000e+00,  3.8300000e+00,\n",
              "         3.8400000e+00,  3.8500000e+00,  3.8600000e+00,  3.8700000e+00,\n",
              "         3.8800000e+00,  3.8900000e+00,  3.9000000e+00,  3.9100000e+00,\n",
              "         3.9200000e+00,  3.9300000e+00,  3.9400000e+00,  3.9500000e+00,\n",
              "         3.9600000e+00,  3.9700000e+00,  3.9800000e+00,  3.9900000e+00,\n",
              "         4.0000000e+00,  4.0100000e+00,  4.0200000e+00,  4.0300000e+00,\n",
              "         4.0400000e+00,  4.0500000e+00,  4.0600000e+00,  4.0700000e+00,\n",
              "         4.0800000e+00,  4.0900000e+00,  4.1000000e+00,  4.1100000e+00,\n",
              "         4.1200000e+00,  4.1300000e+00,  4.1400000e+00,  4.1500000e+00,\n",
              "         4.1600000e+00,  4.1700000e+00,  4.1800000e+00,  4.1900000e+00,\n",
              "         4.2000000e+00,  4.2100000e+00,  4.2200000e+00,  4.2300000e+00,\n",
              "         4.2400000e+00,  4.2500000e+00,  4.2600000e+00,  4.2700000e+00,\n",
              "         4.2800000e+00,  4.2900000e+00,  4.3000000e+00,  4.3100000e+00,\n",
              "         4.3200000e+00,  4.3300000e+00,  4.3400000e+00,  4.3500000e+00,\n",
              "         4.3600000e+00,  4.3700000e+00,  4.3800000e+00,  4.3900000e+00,\n",
              "         4.4000000e+00,  4.4100000e+00,  4.4200000e+00,  4.4300000e+00,\n",
              "         4.4400000e+00,  4.4500000e+00,  4.4600000e+00,  4.4700000e+00,\n",
              "         4.4800000e+00,  4.4900000e+00,  4.5000000e+00,  4.5100000e+00,\n",
              "         4.5200000e+00,  4.5300000e+00,  4.5400000e+00,  4.5500000e+00,\n",
              "         4.5600000e+00,  4.5700000e+00,  4.5800000e+00,  4.5900000e+00,\n",
              "         4.6000000e+00,  4.6100000e+00,  4.6200000e+00,  4.6300000e+00,\n",
              "         4.6400000e+00,  4.6500000e+00,  4.6600000e+00,  4.6700000e+00,\n",
              "         4.6800000e+00,  4.6900000e+00,  4.7000000e+00,  4.7100000e+00,\n",
              "         4.7200000e+00,  4.7300000e+00,  4.7400000e+00,  4.7500000e+00,\n",
              "         4.7600000e+00,  4.7700000e+00,  4.7800000e+00,  4.7900000e+00,\n",
              "         4.8000000e+00,  4.8100000e+00,  4.8200000e+00,  4.8300000e+00,\n",
              "         4.8400000e+00,  4.8500000e+00,  4.8600000e+00,  4.8700000e+00,\n",
              "         4.8800000e+00,  4.8900000e+00,  4.9000000e+00,  4.9100000e+00,\n",
              "         4.9200000e+00,  4.9300000e+00,  4.9400000e+00,  4.9500000e+00,\n",
              "         4.9600000e+00,  4.9700000e+00,  4.9800000e+00,  4.9900000e+00])]"
            ]
          },
          "metadata": {
            "tags": []
          },
          "execution_count": 129
        }
      ]
    },
    {
      "cell_type": "code",
      "metadata": {
        "id": "VLkBpI-RL4vD",
        "colab_type": "code",
        "outputId": "6ad2fa2e-f41e-49b6-bc5a-f81ebc071fb7",
        "colab": {
          "base_uri": "https://localhost:8080/",
          "height": 254
        }
      },
      "source": [
        "z=np.sqrt(xs**2+ys**2)\n",
        "z"
      ],
      "execution_count": 0,
      "outputs": [
        {
          "output_type": "execute_result",
          "data": {
            "text/plain": [
              "array([[7.07106781, 7.06400028, 7.05693985, ..., 7.04988652, 7.05693985,\n",
              "        7.06400028],\n",
              "       [7.06400028, 7.05692568, 7.04985815, ..., 7.04279774, 7.04985815,\n",
              "        7.05692568],\n",
              "       [7.05693985, 7.04985815, 7.04278354, ..., 7.03571603, 7.04278354,\n",
              "        7.04985815],\n",
              "       ...,\n",
              "       [7.04988652, 7.04279774, 7.03571603, ..., 7.0286414 , 7.03571603,\n",
              "        7.04279774],\n",
              "       [7.05693985, 7.04985815, 7.04278354, ..., 7.03571603, 7.04278354,\n",
              "        7.04985815],\n",
              "       [7.06400028, 7.05692568, 7.04985815, ..., 7.04279774, 7.04985815,\n",
              "        7.05692568]])"
            ]
          },
          "metadata": {
            "tags": []
          },
          "execution_count": 130
        }
      ]
    },
    {
      "cell_type": "code",
      "metadata": {
        "id": "1eAhaxCmM2gb",
        "colab_type": "code",
        "colab": {}
      },
      "source": [
        "xarr = np.array([1.1, 1.2, 1.3, 1.4, 1.5])\n",
        "yarr = np.array([2.1, 2.2, 2.3, 2.4, 2.5])\n",
        "cond = np.array([True, False, True, True, False])"
      ],
      "execution_count": 0,
      "outputs": []
    },
    {
      "cell_type": "code",
      "metadata": {
        "id": "HfAyqAwOReeD",
        "colab_type": "code",
        "outputId": "2d005fa2-207a-415c-cb19-f0df7ce9dcf6",
        "colab": {
          "base_uri": "https://localhost:8080/",
          "height": 35
        }
      },
      "source": [
        "\n",
        "result=[(x if b else y) for x,y,b in zip(xarr, yarr, cond)]\n",
        "print(result)\n"
      ],
      "execution_count": 0,
      "outputs": [
        {
          "output_type": "stream",
          "text": [
            "[1.1, 2.2, 1.3, 1.4, 2.5]\n"
          ],
          "name": "stdout"
        }
      ]
    },
    {
      "cell_type": "code",
      "metadata": {
        "id": "28kGVm2TcCF2",
        "colab_type": "code",
        "outputId": "39d1e61a-2109-4e38-813e-ea7a30d6324c",
        "colab": {
          "base_uri": "https://localhost:8080/",
          "height": 35
        }
      },
      "source": [
        "result=np.where(cond,xarr,yarr)\n",
        "result"
      ],
      "execution_count": 0,
      "outputs": [
        {
          "output_type": "execute_result",
          "data": {
            "text/plain": [
              "array([1.1, 2.2, 1.3, 1.4, 2.5])"
            ]
          },
          "metadata": {
            "tags": []
          },
          "execution_count": 133
        }
      ]
    },
    {
      "cell_type": "code",
      "metadata": {
        "id": "5ZPgieZUikAf",
        "colab_type": "code",
        "outputId": "40c32358-d2c6-4ecc-bda6-300b950cb86f",
        "colab": {
          "base_uri": "https://localhost:8080/",
          "height": 90
        }
      },
      "source": [
        "arr=np.random.randn(4,4)\n",
        "arr"
      ],
      "execution_count": 0,
      "outputs": [
        {
          "output_type": "execute_result",
          "data": {
            "text/plain": [
              "array([[-2.0134245 ,  0.96945326,  1.24661213, -0.7448965 ],\n",
              "       [ 0.46456828, -0.81303513,  1.80201613,  0.93370723],\n",
              "       [-1.18485594,  2.17167834,  0.08059417, -1.64767924],\n",
              "       [ 0.51440752, -0.96758108,  2.08387769, -1.28202341]])"
            ]
          },
          "metadata": {
            "tags": []
          },
          "execution_count": 134
        }
      ]
    },
    {
      "cell_type": "code",
      "metadata": {
        "id": "lQe5IMrWjUDk",
        "colab_type": "code",
        "outputId": "5849cde5-6ddf-4270-b3e2-cc88976a36dd",
        "colab": {
          "base_uri": "https://localhost:8080/",
          "height": 90
        }
      },
      "source": [
        "arr>0"
      ],
      "execution_count": 0,
      "outputs": [
        {
          "output_type": "execute_result",
          "data": {
            "text/plain": [
              "array([[False,  True,  True, False],\n",
              "       [ True, False,  True,  True],\n",
              "       [False,  True,  True, False],\n",
              "       [ True, False,  True, False]])"
            ]
          },
          "metadata": {
            "tags": []
          },
          "execution_count": 135
        }
      ]
    },
    {
      "cell_type": "code",
      "metadata": {
        "id": "HWlLwHRYjcN5",
        "colab_type": "code",
        "outputId": "2ebe53f3-5776-4236-b110-51be065a4397",
        "colab": {
          "base_uri": "https://localhost:8080/",
          "height": 90
        }
      },
      "source": [
        "np.where(arr>0,2,-2)"
      ],
      "execution_count": 0,
      "outputs": [
        {
          "output_type": "execute_result",
          "data": {
            "text/plain": [
              "array([[-2,  2,  2, -2],\n",
              "       [ 2, -2,  2,  2],\n",
              "       [-2,  2,  2, -2],\n",
              "       [ 2, -2,  2, -2]])"
            ]
          },
          "metadata": {
            "tags": []
          },
          "execution_count": 136
        }
      ]
    },
    {
      "cell_type": "code",
      "metadata": {
        "id": "UKo9kkFwjr4r",
        "colab_type": "code",
        "outputId": "11297c50-bdac-42e3-ff1a-9147a87423a9",
        "colab": {
          "base_uri": "https://localhost:8080/",
          "height": 90
        }
      },
      "source": [
        "np.where(arr>0,2,arr)"
      ],
      "execution_count": 0,
      "outputs": [
        {
          "output_type": "execute_result",
          "data": {
            "text/plain": [
              "array([[-2.0134245 ,  2.        ,  2.        , -0.7448965 ],\n",
              "       [ 2.        , -0.81303513,  2.        ,  2.        ],\n",
              "       [-1.18485594,  2.        ,  2.        , -1.64767924],\n",
              "       [ 2.        , -0.96758108,  2.        , -1.28202341]])"
            ]
          },
          "metadata": {
            "tags": []
          },
          "execution_count": 137
        }
      ]
    },
    {
      "cell_type": "code",
      "metadata": {
        "id": "5wfaoz65x6bA",
        "colab_type": "code",
        "outputId": "f4c10e96-d9bc-4cd0-c4c8-312cbc51981e",
        "colab": {
          "base_uri": "https://localhost:8080/",
          "height": 199
        }
      },
      "source": [
        "arr=np.random.randn(5,4)\n",
        "arr"
      ],
      "execution_count": 0,
      "outputs": [
        {
          "output_type": "execute_result",
          "data": {
            "text/plain": [
              "array([[ 1.62280914e-03, -1.03355512e+00, -3.39109658e+00,\n",
              "         2.65103661e-02],\n",
              "       [ 1.34522252e+00,  2.31705879e+00,  5.10370704e-02,\n",
              "         1.00927622e+00],\n",
              "       [ 2.22902949e-01, -9.16054350e-01,  5.92935609e-01,\n",
              "        -5.15566797e-01],\n",
              "       [-9.92116079e-02,  1.19732077e-01,  1.09101960e+00,\n",
              "         4.84276523e-02],\n",
              "       [-1.00587826e+00, -4.95193765e-01,  1.50623455e+00,\n",
              "         8.09046650e-02]])"
            ]
          },
          "metadata": {
            "tags": []
          },
          "execution_count": 138
        }
      ]
    },
    {
      "cell_type": "code",
      "metadata": {
        "id": "QiH4UdNuyysb",
        "colab_type": "code",
        "outputId": "f4e8099a-9312-4fdd-bd17-88f467ca3812",
        "colab": {
          "base_uri": "https://localhost:8080/",
          "height": 35
        }
      },
      "source": [
        "arr.mean()"
      ],
      "execution_count": 0,
      "outputs": [
        {
          "output_type": "execute_result",
          "data": {
            "text/plain": [
              "0.04781642023829415"
            ]
          },
          "metadata": {
            "tags": []
          },
          "execution_count": 139
        }
      ]
    },
    {
      "cell_type": "code",
      "metadata": {
        "id": "wMFjiySfy6et",
        "colab_type": "code",
        "outputId": "283e4250-cf41-4542-fcf5-884bd1fb771b",
        "colab": {
          "base_uri": "https://localhost:8080/",
          "height": 35
        }
      },
      "source": [
        "np.mean(arr)"
      ],
      "execution_count": 0,
      "outputs": [
        {
          "output_type": "execute_result",
          "data": {
            "text/plain": [
              "0.04781642023829415"
            ]
          },
          "metadata": {
            "tags": []
          },
          "execution_count": 140
        }
      ]
    },
    {
      "cell_type": "code",
      "metadata": {
        "id": "RaaSNCJly_MK",
        "colab_type": "code",
        "outputId": "b6d5c664-5107-44f8-a8a3-867044302231",
        "colab": {
          "base_uri": "https://localhost:8080/",
          "height": 35
        }
      },
      "source": [
        "arr.sum()"
      ],
      "execution_count": 0,
      "outputs": [
        {
          "output_type": "execute_result",
          "data": {
            "text/plain": [
              "0.956328404765883"
            ]
          },
          "metadata": {
            "tags": []
          },
          "execution_count": 141
        }
      ]
    },
    {
      "cell_type": "code",
      "metadata": {
        "id": "iWMBD41Ozab5",
        "colab_type": "code",
        "outputId": "eba81536-1be7-4977-dfab-8141a2b26956",
        "colab": {
          "base_uri": "https://localhost:8080/",
          "height": 35
        }
      },
      "source": [
        "arr.mean(axis=1)#row axis\n"
      ],
      "execution_count": 0,
      "outputs": [
        {
          "output_type": "execute_result",
          "data": {
            "text/plain": [
              "array([-1.09912963,  1.18064865, -0.15394565,  0.28999193,  0.0215168 ])"
            ]
          },
          "metadata": {
            "tags": []
          },
          "execution_count": 142
        }
      ]
    },
    {
      "cell_type": "code",
      "metadata": {
        "id": "nE-027Tvz0e9",
        "colab_type": "code",
        "outputId": "19dcd6f0-1bda-4bb7-a4b4-868d8c06f31b",
        "colab": {
          "base_uri": "https://localhost:8080/",
          "height": 35
        }
      },
      "source": [
        "arr.sum(axis=0)#column axis"
      ],
      "execution_count": 0,
      "outputs": [
        {
          "output_type": "execute_result",
          "data": {
            "text/plain": [
              "array([ 0.46465841, -0.00801237, -0.14986975,  0.64955211])"
            ]
          },
          "metadata": {
            "tags": []
          },
          "execution_count": 143
        }
      ]
    },
    {
      "cell_type": "code",
      "metadata": {
        "id": "mmRnVto61NeT",
        "colab_type": "code",
        "outputId": "d9b7a1dd-0c16-4db1-9fea-e0a637d5a59c",
        "colab": {
          "base_uri": "https://localhost:8080/",
          "height": 35
        }
      },
      "source": [
        "arr=np.array([0, 1, 2, 3, 4, 5, 6, 7])\n",
        "arr.cumsum()"
      ],
      "execution_count": 0,
      "outputs": [
        {
          "output_type": "execute_result",
          "data": {
            "text/plain": [
              "array([ 0,  1,  3,  6, 10, 15, 21, 28])"
            ]
          },
          "metadata": {
            "tags": []
          },
          "execution_count": 144
        }
      ]
    },
    {
      "cell_type": "code",
      "metadata": {
        "id": "EwOe7hO64EVX",
        "colab_type": "code",
        "outputId": "cd2d4948-4670-41a6-ab87-c626aa7db0de",
        "colab": {
          "base_uri": "https://localhost:8080/",
          "height": 35
        }
      },
      "source": [
        "arr.cumprod()"
      ],
      "execution_count": 0,
      "outputs": [
        {
          "output_type": "execute_result",
          "data": {
            "text/plain": [
              "array([0, 0, 0, 0, 0, 0, 0, 0])"
            ]
          },
          "metadata": {
            "tags": []
          },
          "execution_count": 145
        }
      ]
    },
    {
      "cell_type": "code",
      "metadata": {
        "id": "wcSQ2ZKK4Tv6",
        "colab_type": "code",
        "outputId": "5ebfa685-1175-4dc8-85f2-d3658ec1417a",
        "colab": {
          "base_uri": "https://localhost:8080/",
          "height": 72
        }
      },
      "source": [
        "arr = np.array([[0, 1, 2], [3, 4, 5], [6, 7, 8]])\n",
        "arr"
      ],
      "execution_count": 0,
      "outputs": [
        {
          "output_type": "execute_result",
          "data": {
            "text/plain": [
              "array([[0, 1, 2],\n",
              "       [3, 4, 5],\n",
              "       [6, 7, 8]])"
            ]
          },
          "metadata": {
            "tags": []
          },
          "execution_count": 146
        }
      ]
    },
    {
      "cell_type": "code",
      "metadata": {
        "id": "xWhXeBYu4YnR",
        "colab_type": "code",
        "outputId": "fb6f23e6-d902-4956-b954-2d5f6a57666c",
        "colab": {
          "base_uri": "https://localhost:8080/",
          "height": 72
        }
      },
      "source": [
        "arr.cumsum(axis=0)"
      ],
      "execution_count": 0,
      "outputs": [
        {
          "output_type": "execute_result",
          "data": {
            "text/plain": [
              "array([[ 0,  1,  2],\n",
              "       [ 3,  5,  7],\n",
              "       [ 9, 12, 15]])"
            ]
          },
          "metadata": {
            "tags": []
          },
          "execution_count": 147
        }
      ]
    },
    {
      "cell_type": "code",
      "metadata": {
        "id": "411W1PBT4jdD",
        "colab_type": "code",
        "outputId": "82b72a14-ff6c-4d4d-a964-1b71abcff640",
        "colab": {
          "base_uri": "https://localhost:8080/",
          "height": 72
        }
      },
      "source": [
        "arr.cumprod(axis=1)"
      ],
      "execution_count": 0,
      "outputs": [
        {
          "output_type": "execute_result",
          "data": {
            "text/plain": [
              "array([[  0,   0,   0],\n",
              "       [  3,  12,  60],\n",
              "       [  6,  42, 336]])"
            ]
          },
          "metadata": {
            "tags": []
          },
          "execution_count": 148
        }
      ]
    },
    {
      "cell_type": "code",
      "metadata": {
        "id": "vy0RwN7RVExu",
        "colab_type": "code",
        "outputId": "5dfba21f-e23a-475d-d64b-f9682f6541a8",
        "colab": {
          "base_uri": "https://localhost:8080/",
          "height": 35
        }
      },
      "source": [
        "arr=np.random.randn(100)\n",
        "(arr>0).sum()"
      ],
      "execution_count": 0,
      "outputs": [
        {
          "output_type": "execute_result",
          "data": {
            "text/plain": [
              "54"
            ]
          },
          "metadata": {
            "tags": []
          },
          "execution_count": 149
        }
      ]
    },
    {
      "cell_type": "code",
      "metadata": {
        "id": "1dTURZU2WWYM",
        "colab_type": "code",
        "outputId": "cd0f0257-9f63-4055-cd4e-68e9fcd86326",
        "colab": {
          "base_uri": "https://localhost:8080/",
          "height": 35
        }
      },
      "source": [
        "bools = np.array([False, False, True, False])\n",
        "bools.any()"
      ],
      "execution_count": 0,
      "outputs": [
        {
          "output_type": "execute_result",
          "data": {
            "text/plain": [
              "True"
            ]
          },
          "metadata": {
            "tags": []
          },
          "execution_count": 150
        }
      ]
    },
    {
      "cell_type": "code",
      "metadata": {
        "id": "_GAIChYqWcIv",
        "colab_type": "code",
        "outputId": "473bbc8a-769a-484f-d460-ff92b206b471",
        "colab": {
          "base_uri": "https://localhost:8080/",
          "height": 35
        }
      },
      "source": [
        "bools.all()"
      ],
      "execution_count": 0,
      "outputs": [
        {
          "output_type": "execute_result",
          "data": {
            "text/plain": [
              "False"
            ]
          },
          "metadata": {
            "tags": []
          },
          "execution_count": 151
        }
      ]
    },
    {
      "cell_type": "code",
      "metadata": {
        "id": "ZbRDqAjVnfmZ",
        "colab_type": "code",
        "colab": {}
      },
      "source": [
        "arr=np.random.randn(6)"
      ],
      "execution_count": 0,
      "outputs": []
    },
    {
      "cell_type": "code",
      "metadata": {
        "id": "Ayimvut7nspQ",
        "colab_type": "code",
        "outputId": "1aa737cf-a169-4935-c9d8-4103221d6870",
        "colab": {
          "base_uri": "https://localhost:8080/",
          "height": 54
        }
      },
      "source": [
        "arr"
      ],
      "execution_count": 0,
      "outputs": [
        {
          "output_type": "execute_result",
          "data": {
            "text/plain": [
              "array([-0.61832488,  1.14470537, -0.36143762, -0.2767834 , -2.24083625,\n",
              "        0.53700834])"
            ]
          },
          "metadata": {
            "tags": []
          },
          "execution_count": 153
        }
      ]
    },
    {
      "cell_type": "code",
      "metadata": {
        "id": "YgkCoubBn3Un",
        "colab_type": "code",
        "outputId": "e99baf97-045f-4277-ca2e-d2cde4ddc3fc",
        "colab": {
          "base_uri": "https://localhost:8080/",
          "height": 54
        }
      },
      "source": [
        "arr.sort()\n",
        "arr"
      ],
      "execution_count": 0,
      "outputs": [
        {
          "output_type": "execute_result",
          "data": {
            "text/plain": [
              "array([-2.24083625, -0.61832488, -0.36143762, -0.2767834 ,  0.53700834,\n",
              "        1.14470537])"
            ]
          },
          "metadata": {
            "tags": []
          },
          "execution_count": 154
        }
      ]
    },
    {
      "cell_type": "code",
      "metadata": {
        "id": "U4tOtfGGoMJ9",
        "colab_type": "code",
        "outputId": "95b5cc50-67c3-4b81-e6d9-c207ed07abfb",
        "colab": {
          "base_uri": "https://localhost:8080/",
          "height": 108
        }
      },
      "source": [
        "arr = np.random.randn(5, 3)\n",
        "arr"
      ],
      "execution_count": 0,
      "outputs": [
        {
          "output_type": "execute_result",
          "data": {
            "text/plain": [
              "array([[-1.09939664,  0.84469143,  0.81412114],\n",
              "       [-1.3104895 ,  1.43155369, -1.08105038],\n",
              "       [ 0.43093374,  0.6690539 , -0.84782366],\n",
              "       [ 1.21490718,  1.04445499,  0.75868325],\n",
              "       [ 1.72312256,  0.34642326,  0.02939627]])"
            ]
          },
          "metadata": {
            "tags": []
          },
          "execution_count": 155
        }
      ]
    },
    {
      "cell_type": "code",
      "metadata": {
        "id": "KiUd99QFo3Hw",
        "colab_type": "code",
        "outputId": "83a8274b-1b1b-4ee4-82f2-978dc07d4d5b",
        "colab": {
          "base_uri": "https://localhost:8080/",
          "height": 108
        }
      },
      "source": [
        "arr.sort(1)\n",
        "arr"
      ],
      "execution_count": 0,
      "outputs": [
        {
          "output_type": "execute_result",
          "data": {
            "text/plain": [
              "array([[-1.09939664,  0.81412114,  0.84469143],\n",
              "       [-1.3104895 , -1.08105038,  1.43155369],\n",
              "       [-0.84782366,  0.43093374,  0.6690539 ],\n",
              "       [ 0.75868325,  1.04445499,  1.21490718],\n",
              "       [ 0.02939627,  0.34642326,  1.72312256]])"
            ]
          },
          "metadata": {
            "tags": []
          },
          "execution_count": 156
        }
      ]
    },
    {
      "cell_type": "code",
      "metadata": {
        "id": "RqgZdIjSo-Uu",
        "colab_type": "code",
        "colab": {}
      },
      "source": [
        "large_arr=np.random.randn(1000)\n",
        "large_arr.sort()\n"
      ],
      "execution_count": 0,
      "outputs": []
    },
    {
      "cell_type": "code",
      "metadata": {
        "id": "Qw2JbsDwsGSG",
        "colab_type": "code",
        "outputId": "a9b22cc7-c862-48cf-b7a8-6a2e498d350c",
        "colab": {
          "base_uri": "https://localhost:8080/",
          "height": 35
        }
      },
      "source": [
        "large_arr[int(0.05*len(large_arr))]"
      ],
      "execution_count": 0,
      "outputs": [
        {
          "output_type": "execute_result",
          "data": {
            "text/plain": [
              "-1.5957950087981247"
            ]
          },
          "metadata": {
            "tags": []
          },
          "execution_count": 158
        }
      ]
    },
    {
      "cell_type": "code",
      "metadata": {
        "id": "9W1RZAQ-tjEE",
        "colab_type": "code",
        "outputId": "718e056e-187f-4856-91e7-5b854306b512",
        "colab": {
          "base_uri": "https://localhost:8080/",
          "height": 35
        }
      },
      "source": [
        "names = np.array(['Bob', 'Joe', 'Will', 'Bob', 'Will', 'Joe', 'Joe'])\n",
        "np.unique(names)"
      ],
      "execution_count": 0,
      "outputs": [
        {
          "output_type": "execute_result",
          "data": {
            "text/plain": [
              "array(['Bob', 'Joe', 'Will'], dtype='<U4')"
            ]
          },
          "metadata": {
            "tags": []
          },
          "execution_count": 159
        }
      ]
    },
    {
      "cell_type": "code",
      "metadata": {
        "id": "yX7FqqbhuOWg",
        "colab_type": "code",
        "outputId": "b70bea53-ae91-4099-f972-f523f620322b",
        "colab": {
          "base_uri": "https://localhost:8080/",
          "height": 35
        }
      },
      "source": [
        "ints = np.array([3, 3, 3, 2, 2, 1, 1, 4, 4])\n",
        "np.unique(ints)"
      ],
      "execution_count": 0,
      "outputs": [
        {
          "output_type": "execute_result",
          "data": {
            "text/plain": [
              "array([1, 2, 3, 4])"
            ]
          },
          "metadata": {
            "tags": []
          },
          "execution_count": 160
        }
      ]
    },
    {
      "cell_type": "code",
      "metadata": {
        "id": "0LxAnYGUuWUs",
        "colab_type": "code",
        "outputId": "e1a5065c-5def-4b8f-b9e9-53cd2bd05eb8",
        "colab": {
          "base_uri": "https://localhost:8080/",
          "height": 35
        }
      },
      "source": [
        "sorted(set(names))"
      ],
      "execution_count": 0,
      "outputs": [
        {
          "output_type": "execute_result",
          "data": {
            "text/plain": [
              "['Bob', 'Joe', 'Will']"
            ]
          },
          "metadata": {
            "tags": []
          },
          "execution_count": 161
        }
      ]
    },
    {
      "cell_type": "code",
      "metadata": {
        "id": "UrJGv4aQvIrc",
        "colab_type": "code",
        "colab": {}
      },
      "source": [
        "values = np.array([6, 0, 0, 3, 2, 5, 6])"
      ],
      "execution_count": 0,
      "outputs": []
    },
    {
      "cell_type": "code",
      "metadata": {
        "id": "AtJsTTHavKiO",
        "colab_type": "code",
        "outputId": "75109dcb-b3cf-4b23-d964-857a04e85749",
        "colab": {
          "base_uri": "https://localhost:8080/",
          "height": 35
        }
      },
      "source": [
        "np.in1d(values,[3,2,6])"
      ],
      "execution_count": 0,
      "outputs": [
        {
          "output_type": "execute_result",
          "data": {
            "text/plain": [
              "array([ True, False, False,  True,  True, False,  True])"
            ]
          },
          "metadata": {
            "tags": []
          },
          "execution_count": 163
        }
      ]
    },
    {
      "cell_type": "code",
      "metadata": {
        "id": "xQ4SugLXMOLT",
        "colab_type": "code",
        "outputId": "eac94801-edf2-4019-9630-8fa474afd7f3",
        "colab": {
          "base_uri": "https://localhost:8080/",
          "height": 35
        }
      },
      "source": [
        "arr1=np.array([1,2,3,4])\n",
        "arr2=np.array([3,4,5,6])\n",
        "np.intersect1d(arr1,arr2)"
      ],
      "execution_count": 0,
      "outputs": [
        {
          "output_type": "execute_result",
          "data": {
            "text/plain": [
              "array([3, 4])"
            ]
          },
          "metadata": {
            "tags": []
          },
          "execution_count": 164
        }
      ]
    },
    {
      "cell_type": "code",
      "metadata": {
        "id": "fGJgKFwuM3L5",
        "colab_type": "code",
        "outputId": "457e420b-c614-4ad6-f411-a3be1cca2a74",
        "colab": {
          "base_uri": "https://localhost:8080/",
          "height": 35
        }
      },
      "source": [
        "np.union1d(arr1,arr2)"
      ],
      "execution_count": 0,
      "outputs": [
        {
          "output_type": "execute_result",
          "data": {
            "text/plain": [
              "array([1, 2, 3, 4, 5, 6])"
            ]
          },
          "metadata": {
            "tags": []
          },
          "execution_count": 165
        }
      ]
    },
    {
      "cell_type": "code",
      "metadata": {
        "id": "rYvrAsVVM-e2",
        "colab_type": "code",
        "outputId": "4c3c4cb7-9dc4-43d7-ba59-e8214cf64890",
        "colab": {
          "base_uri": "https://localhost:8080/",
          "height": 35
        }
      },
      "source": [
        "np.setdiff1d(arr1,arr2)"
      ],
      "execution_count": 0,
      "outputs": [
        {
          "output_type": "execute_result",
          "data": {
            "text/plain": [
              "array([1, 2])"
            ]
          },
          "metadata": {
            "tags": []
          },
          "execution_count": 166
        }
      ]
    },
    {
      "cell_type": "code",
      "metadata": {
        "id": "5KxKRiKeNhqY",
        "colab_type": "code",
        "outputId": "dd602903-308a-407e-a34f-1df0ca7fa3ae",
        "colab": {
          "base_uri": "https://localhost:8080/",
          "height": 35
        }
      },
      "source": [
        "np.setxor1d(arr1,arr2)"
      ],
      "execution_count": 0,
      "outputs": [
        {
          "output_type": "execute_result",
          "data": {
            "text/plain": [
              "array([1, 2, 5, 6])"
            ]
          },
          "metadata": {
            "tags": []
          },
          "execution_count": 167
        }
      ]
    },
    {
      "cell_type": "code",
      "metadata": {
        "id": "vVKN1RvxLIhb",
        "colab_type": "code",
        "colab": {}
      },
      "source": [
        "arr=np.arange(10)\n",
        "np.save('some_array',arr)"
      ],
      "execution_count": 0,
      "outputs": []
    },
    {
      "cell_type": "code",
      "metadata": {
        "id": "JVEiA27CLIeM",
        "colab_type": "code",
        "outputId": "7865b77e-7e32-434d-f935-6a0cf7f59114",
        "colab": {
          "base_uri": "https://localhost:8080/",
          "height": 35
        }
      },
      "source": [
        "np.load('some_array.npy')"
      ],
      "execution_count": 0,
      "outputs": [
        {
          "output_type": "execute_result",
          "data": {
            "text/plain": [
              "array([0, 1, 2, 3, 4, 5, 6, 7, 8, 9])"
            ]
          },
          "metadata": {
            "tags": []
          },
          "execution_count": 169
        }
      ]
    },
    {
      "cell_type": "code",
      "metadata": {
        "id": "Fg5dOtFBLjMR",
        "colab_type": "code",
        "colab": {}
      },
      "source": [
        "np.savez('array_archive.npz',a=arr,b=arr)"
      ],
      "execution_count": 0,
      "outputs": []
    },
    {
      "cell_type": "code",
      "metadata": {
        "id": "VwxS3-fqLyPj",
        "colab_type": "code",
        "colab": {}
      },
      "source": [
        "arch = np.load('array_archive.npz')"
      ],
      "execution_count": 0,
      "outputs": []
    },
    {
      "cell_type": "code",
      "metadata": {
        "id": "u3EMBXFwL7wP",
        "colab_type": "code",
        "outputId": "09c5688e-c997-48da-9b5f-0b56b9109b7d",
        "colab": {
          "base_uri": "https://localhost:8080/",
          "height": 35
        }
      },
      "source": [
        "arch['a']"
      ],
      "execution_count": 0,
      "outputs": [
        {
          "output_type": "execute_result",
          "data": {
            "text/plain": [
              "array([0, 1, 2, 3, 4, 5, 6, 7, 8, 9])"
            ]
          },
          "metadata": {
            "tags": []
          },
          "execution_count": 172
        }
      ]
    },
    {
      "cell_type": "code",
      "metadata": {
        "id": "R8PlJ6q1MGDZ",
        "colab_type": "code",
        "colab": {}
      },
      "source": [
        "np.savez_compressed('arrays_compressed.npz', a=arr, b=arr)"
      ],
      "execution_count": 0,
      "outputs": []
    },
    {
      "cell_type": "code",
      "metadata": {
        "id": "_Sd8Sra2jPH6",
        "colab_type": "code",
        "colab": {}
      },
      "source": [
        "x = np.array([[1., 2., 3.], [4., 5., 6.]])\n",
        "y = np.array([[6., 23.], [-1, 7], [8, 9]])"
      ],
      "execution_count": 0,
      "outputs": []
    },
    {
      "cell_type": "code",
      "metadata": {
        "id": "zZh-37PXmRaT",
        "colab_type": "code",
        "outputId": "2d6e74cc-c086-48e4-e129-e1c8a0d9752c",
        "colab": {
          "base_uri": "https://localhost:8080/",
          "height": 54
        }
      },
      "source": [
        "x.dot(y)"
      ],
      "execution_count": 0,
      "outputs": [
        {
          "output_type": "execute_result",
          "data": {
            "text/plain": [
              "array([[ 28.,  64.],\n",
              "       [ 67., 181.]])"
            ]
          },
          "metadata": {
            "tags": []
          },
          "execution_count": 175
        }
      ]
    },
    {
      "cell_type": "code",
      "metadata": {
        "id": "G-_sQOg0mTw4",
        "colab_type": "code",
        "outputId": "4e7e232f-e70e-4346-d193-a31ed6ab46c4",
        "colab": {
          "base_uri": "https://localhost:8080/",
          "height": 54
        }
      },
      "source": [
        "x@y"
      ],
      "execution_count": 0,
      "outputs": [
        {
          "output_type": "execute_result",
          "data": {
            "text/plain": [
              "array([[ 28.,  64.],\n",
              "       [ 67., 181.]])"
            ]
          },
          "metadata": {
            "tags": []
          },
          "execution_count": 176
        }
      ]
    },
    {
      "cell_type": "code",
      "metadata": {
        "id": "lX-DSTNQnZOe",
        "colab_type": "code",
        "outputId": "e2bd9c2a-f491-421b-d254-3e375117ae10",
        "colab": {
          "base_uri": "https://localhost:8080/",
          "height": 54
        }
      },
      "source": [
        "np.dot(x,y)"
      ],
      "execution_count": 0,
      "outputs": [
        {
          "output_type": "execute_result",
          "data": {
            "text/plain": [
              "array([[ 28.,  64.],\n",
              "       [ 67., 181.]])"
            ]
          },
          "metadata": {
            "tags": []
          },
          "execution_count": 177
        }
      ]
    },
    {
      "cell_type": "code",
      "metadata": {
        "id": "H_t0PGK6nyb0",
        "colab_type": "code",
        "outputId": "50c89688-fb9a-46a3-caca-42bf0a44f53c",
        "colab": {
          "base_uri": "https://localhost:8080/",
          "height": 35
        }
      },
      "source": [
        "np.dot(x,np.ones(3))"
      ],
      "execution_count": 0,
      "outputs": [
        {
          "output_type": "execute_result",
          "data": {
            "text/plain": [
              "array([ 6., 15.])"
            ]
          },
          "metadata": {
            "tags": []
          },
          "execution_count": 178
        }
      ]
    },
    {
      "cell_type": "code",
      "metadata": {
        "id": "uoaY76Rkn4SK",
        "colab_type": "code",
        "outputId": "81222aba-af25-4d81-d8ed-171cab4b1be6",
        "colab": {
          "base_uri": "https://localhost:8080/",
          "height": 35
        }
      },
      "source": [
        "x @ np.ones(3)"
      ],
      "execution_count": 0,
      "outputs": [
        {
          "output_type": "execute_result",
          "data": {
            "text/plain": [
              "array([ 6., 15.])"
            ]
          },
          "metadata": {
            "tags": []
          },
          "execution_count": 179
        }
      ]
    },
    {
      "cell_type": "code",
      "metadata": {
        "id": "OMaCrblIzucC",
        "colab_type": "code",
        "colab": {}
      },
      "source": [
        "from numpy.linalg import inv,qr"
      ],
      "execution_count": 0,
      "outputs": []
    },
    {
      "cell_type": "code",
      "metadata": {
        "id": "KYaF9S5e0I6Q",
        "colab_type": "code",
        "outputId": "70e07920-4e8d-4e31-8635-8769a6b1f48d",
        "colab": {
          "base_uri": "https://localhost:8080/",
          "height": 108
        }
      },
      "source": [
        "x=np.random.randn(5,5)\n",
        "mat=x.T.dot(x)\n",
        "mat\n"
      ],
      "execution_count": 0,
      "outputs": [
        {
          "output_type": "execute_result",
          "data": {
            "text/plain": [
              "array([[ 1.72249602,  0.34106598,  2.58696553, -2.28846403, -1.58463107],\n",
              "       [ 0.34106598,  6.4016816 ,  0.82751584, -2.52729624, -0.15095075],\n",
              "       [ 2.58696553,  0.82751584,  4.05604658, -3.8493452 , -2.47685133],\n",
              "       [-2.28846403, -2.52729624, -3.8493452 ,  5.98254749,  1.2560983 ],\n",
              "       [-1.58463107, -0.15095075, -2.47685133,  1.2560983 ,  2.31524918]])"
            ]
          },
          "metadata": {
            "tags": []
          },
          "execution_count": 181
        }
      ]
    },
    {
      "cell_type": "code",
      "metadata": {
        "id": "ZxrdugIH3JDZ",
        "colab_type": "code",
        "outputId": "47b3ef78-aabc-43d8-a0ca-94e918b3847d",
        "colab": {
          "base_uri": "https://localhost:8080/",
          "height": 199
        }
      },
      "source": [
        "inv(mat)"
      ],
      "execution_count": 0,
      "outputs": [
        {
          "output_type": "execute_result",
          "data": {
            "text/plain": [
              "array([[ 24.30270908,  -0.32570476, -24.40601647,  -5.13575781,\n",
              "         -6.71089542],\n",
              "       [ -0.32570476,   0.2434083 ,   0.85438378,   0.42832848,\n",
              "          0.47458378],\n",
              "       [-24.40601647,   0.85438378,  30.17648852,   8.07923113,\n",
              "         11.25097256],\n",
              "       [ -5.13575781,   0.42832848,   8.07923113,   2.82071569,\n",
              "          3.62567163],\n",
              "       [ -6.71089542,   0.47458378,  11.25097256,   3.62567163,\n",
              "          5.93894249]])"
            ]
          },
          "metadata": {
            "tags": []
          },
          "execution_count": 182
        }
      ]
    },
    {
      "cell_type": "code",
      "metadata": {
        "id": "Syg33eWV3R3f",
        "colab_type": "code",
        "outputId": "daa71b29-0c4c-40df-df4c-d8d0eaf14816",
        "colab": {
          "base_uri": "https://localhost:8080/",
          "height": 199
        }
      },
      "source": [
        "mat.dot(inv(mat))"
      ],
      "execution_count": 0,
      "outputs": [
        {
          "output_type": "execute_result",
          "data": {
            "text/plain": [
              "array([[ 1.00000000e+00, -4.57171968e-16, -1.27960003e-14,\n",
              "        -4.68820756e-15, -4.39662115e-15],\n",
              "       [ 1.68940558e-16,  1.00000000e+00, -1.14986229e-15,\n",
              "        -6.46914696e-16, -1.34748592e-15],\n",
              "       [-7.52660525e-15, -2.47551121e-16,  1.00000000e+00,\n",
              "        -3.90196736e-15,  1.64369482e-16],\n",
              "       [ 1.17737013e-14,  4.12596319e-16, -6.94483718e-15,\n",
              "         1.00000000e+00, -3.73722126e-15],\n",
              "       [ 9.41490975e-15,  1.02687152e-16,  3.32681145e-15,\n",
              "         6.85950529e-16,  1.00000000e+00]])"
            ]
          },
          "metadata": {
            "tags": []
          },
          "execution_count": 183
        }
      ]
    },
    {
      "cell_type": "code",
      "metadata": {
        "id": "0sUJMbeq3rkm",
        "colab_type": "code",
        "outputId": "487da1b9-6ae7-4994-c9ef-3150d24c4ca7",
        "colab": {
          "base_uri": "https://localhost:8080/",
          "height": 108
        }
      },
      "source": [
        "q,r=qr(mat)\n",
        "q"
      ],
      "execution_count": 0,
      "outputs": [
        {
          "output_type": "execute_result",
          "data": {
            "text/plain": [
              "array([[-0.41147522,  0.1140763 ,  0.63563898,  0.45735321, -0.45217903],\n",
              "       [-0.0814749 , -0.96220867,  0.22857441, -0.11936289,  0.03197738],\n",
              "       [-0.61798238,  0.12231005,  0.15857786, -0.05738141,  0.75808869],\n",
              "       [ 0.54667542,  0.17092024,  0.71903992, -0.30859805,  0.24429716],\n",
              "       [ 0.37854161, -0.13025972, -0.03938896,  0.82344105,  0.40016497]])"
            ]
          },
          "metadata": {
            "tags": []
          },
          "execution_count": 184
        }
      ]
    },
    {
      "cell_type": "code",
      "metadata": {
        "id": "CsDJmXW2EU5Q",
        "colab_type": "code",
        "outputId": "3af919ec-eabc-4e4a-f396-7c0a8cc5f898",
        "colab": {
          "base_uri": "https://localhost:8080/",
          "height": 108
        }
      },
      "source": [
        "r"
      ],
      "execution_count": 0,
      "outputs": [
        {
          "output_type": "execute_result",
          "data": {
            "text/plain": [
              "array([[-4.18614768, -2.61205866, -6.68039299,  7.27238209,  3.75808181],\n",
              "       [ 0.        , -6.43193577, -0.34033323,  2.55883267, -0.42535763],\n",
              "       [ 0.        ,  0.        , -0.19354802,  1.60948096, -0.62254097],\n",
              "       [ 0.        ,  0.        ,  0.        , -1.3359697 ,  0.95424876],\n",
              "       [ 0.        ,  0.        ,  0.        ,  0.        ,  0.06737984]])"
            ]
          },
          "metadata": {
            "tags": []
          },
          "execution_count": 185
        }
      ]
    },
    {
      "cell_type": "code",
      "metadata": {
        "id": "Sy4hIRUcI1UV",
        "colab_type": "code",
        "outputId": "b8c66858-7f6c-4b69-ccee-76acfa8778f4",
        "colab": {
          "base_uri": "https://localhost:8080/",
          "height": 90
        }
      },
      "source": [
        "samples=np.random.normal(size=(4,4))\n",
        "samples"
      ],
      "execution_count": 0,
      "outputs": [
        {
          "output_type": "execute_result",
          "data": {
            "text/plain": [
              "array([[ 1.39950168, -0.3932306 ,  1.11531265,  0.05619096],\n",
              "       [-1.06145705,  0.12327288,  0.31644641, -0.41842429],\n",
              "       [ 0.06519974,  0.43279377,  0.54969473, -0.53954361],\n",
              "       [-1.33482123,  1.57199347, -0.30519082, -0.27352156]])"
            ]
          },
          "metadata": {
            "tags": []
          },
          "execution_count": 186
        }
      ]
    },
    {
      "cell_type": "code",
      "metadata": {
        "id": "OMKLEOSqQrAH",
        "colab_type": "code",
        "outputId": "6518b1e6-5afc-4257-8adf-e94926b685ae",
        "colab": {
          "base_uri": "https://localhost:8080/",
          "height": 108
        }
      },
      "source": [
        "from random import normalvariate\n",
        "N = 1000000\n",
        "%timeit samples = [normalvariate(0, 1) for _ in range(N)]\n",
        "samples"
      ],
      "execution_count": 0,
      "outputs": [
        {
          "output_type": "stream",
          "text": [
            "1 loop, best of 3: 875 ms per loop\n"
          ],
          "name": "stdout"
        },
        {
          "output_type": "execute_result",
          "data": {
            "text/plain": [
              "array([[ 1.39950168, -0.3932306 ,  1.11531265,  0.05619096],\n",
              "       [-1.06145705,  0.12327288,  0.31644641, -0.41842429],\n",
              "       [ 0.06519974,  0.43279377,  0.54969473, -0.53954361],\n",
              "       [-1.33482123,  1.57199347, -0.30519082, -0.27352156]])"
            ]
          },
          "metadata": {
            "tags": []
          },
          "execution_count": 187
        }
      ]
    },
    {
      "cell_type": "code",
      "metadata": {
        "id": "UT3kXqnwQxxg",
        "colab_type": "code",
        "outputId": "f151d561-296b-4f8a-e739-80f73256faed",
        "colab": {
          "base_uri": "https://localhost:8080/",
          "height": 34
        }
      },
      "source": [
        "%timeit np.random.normal(size=N)"
      ],
      "execution_count": 0,
      "outputs": [
        {
          "output_type": "stream",
          "text": [
            "10 loops, best of 3: 51.7 ms per loop\n"
          ],
          "name": "stdout"
        }
      ]
    },
    {
      "cell_type": "code",
      "metadata": {
        "id": "9tPjCHt2Sl1l",
        "colab_type": "code",
        "outputId": "f8852273-dd93-4b13-b4bc-a8c70308459c",
        "colab": {
          "base_uri": "https://localhost:8080/",
          "height": 4267
        }
      },
      "source": [
        "mu, sigma = 0, 0.1 # mean and standard deviation\n",
        "s = np.random.normal(mu, sigma, 1000)\n",
        "s"
      ],
      "execution_count": 0,
      "outputs": [
        {
          "output_type": "execute_result",
          "data": {
            "text/plain": [
              "array([-1.32020777e-01,  1.78047640e-01, -1.60278175e-01, -6.74881777e-02,\n",
              "        1.26395140e-01,  5.61839880e-02,  1.14530675e-01,  5.31755287e-02,\n",
              "       -1.89668604e-02, -5.35734449e-02,  3.44054607e-02,  4.72601428e-02,\n",
              "       -1.13970025e-01, -2.38637824e-01,  4.28872580e-02, -1.16406803e-02,\n",
              "       -1.53683591e-02,  1.25389288e-01, -1.24754579e-01,  5.66022506e-02,\n",
              "        9.34955397e-02, -1.76166986e-01, -3.20545611e-02, -6.91988666e-02,\n",
              "        1.20964484e-02,  8.56996862e-02,  4.19609834e-02,  1.55496433e-01,\n",
              "       -2.54073657e-02, -6.07816380e-02, -8.97770528e-02, -2.10459680e-01,\n",
              "       -5.48836798e-02, -2.62904936e-02,  4.52530655e-02, -7.00436789e-02,\n",
              "       -2.85074721e-03, -1.21092394e-01,  5.07413293e-03, -1.45864991e-01,\n",
              "       -1.86042547e-02, -1.24193060e-01, -1.64415093e-01, -1.83469760e-01,\n",
              "        4.35260327e-02, -1.61965007e-02, -7.90411705e-02,  1.15834318e-01,\n",
              "       -5.12698704e-02,  2.64589398e-02, -1.11877993e-01, -1.37028361e-01,\n",
              "       -8.87684794e-02,  6.87741040e-02, -6.65368224e-02,  5.53641912e-02,\n",
              "       -2.90256664e-02, -3.88228249e-02,  6.07821662e-03,  6.07811496e-02,\n",
              "        1.98902837e-02, -2.14370106e-02, -3.97278226e-02,  2.38355679e-02,\n",
              "        3.72873960e-03, -6.80463965e-02, -3.24495450e-02, -1.56699985e-01,\n",
              "       -1.72972910e-01,  2.50736328e-01,  4.44316344e-02,  1.65137128e-01,\n",
              "        1.64186169e-01,  1.25454712e-01,  1.28136966e-01,  1.56644384e-01,\n",
              "       -5.47940893e-02,  1.70865811e-01,  1.58144500e-01,  8.46132492e-02,\n",
              "       -6.55476931e-02,  5.61219145e-02, -4.30834121e-02,  6.61317207e-02,\n",
              "        1.63454857e-01,  2.32715094e-02, -1.26470884e-03, -1.12309920e-01,\n",
              "        1.87753681e-01,  7.55169032e-02, -2.53990504e-01, -1.12412586e-01,\n",
              "       -1.17887291e-01, -1.37363842e-01, -1.44240056e-01, -6.05370091e-02,\n",
              "       -1.47235728e-01,  4.24083372e-02, -7.06596320e-02,  4.93825332e-02,\n",
              "        8.50299463e-02, -1.23739764e-01,  1.94857020e-01,  2.90408425e-01,\n",
              "        5.57820037e-02, -2.49731477e-02,  1.35826434e-01, -4.02326094e-02,\n",
              "       -8.14831003e-02,  9.84764203e-02,  3.93615929e-02,  2.95271834e-02,\n",
              "       -3.97425991e-02,  1.04282002e-01,  2.88969727e-01,  1.20823538e-01,\n",
              "       -4.31256668e-03,  7.22321459e-02,  6.33604300e-03,  2.41819023e-01,\n",
              "        1.17816963e-01,  1.00513263e-01, -1.09797073e-01,  5.96688380e-02,\n",
              "        1.42633100e-01,  7.11974656e-02, -2.33740693e-01,  6.85264462e-03,\n",
              "       -3.18529989e-02, -5.05772879e-02, -1.17616652e-01, -5.11635628e-02,\n",
              "       -1.02327713e-02,  1.14610222e-01, -1.60921991e-01,  4.00864242e-02,\n",
              "       -8.29265342e-03, -4.43014645e-02,  1.07421502e-01,  7.62760772e-02,\n",
              "        8.96796787e-02,  7.13555764e-02, -1.24719304e-01, -2.41035714e-01,\n",
              "        3.15122377e-02, -2.06720048e-02,  5.62616936e-02, -5.49709870e-02,\n",
              "        1.52738385e-01, -3.43662707e-02, -5.04442728e-02,  1.10821551e-01,\n",
              "       -1.73274698e-01,  8.11060813e-02, -2.25477372e-01,  1.12661897e-02,\n",
              "        1.22336326e-01, -6.15245469e-02,  7.06682585e-02,  1.91294180e-02,\n",
              "       -1.05305880e-01,  2.15772365e-01,  1.66934919e-02, -3.36357148e-02,\n",
              "       -1.26679533e-01,  2.42960567e-02,  7.97434345e-03,  1.11682832e-01,\n",
              "       -1.69593149e-01,  4.13991449e-02,  7.97513344e-02, -1.22876072e-01,\n",
              "        2.22917780e-02, -9.01518507e-03, -5.57940782e-03, -1.14417883e-01,\n",
              "        1.62130601e-02,  1.23955230e-01,  2.23403179e-03, -1.73496982e-01,\n",
              "       -1.22854328e-01,  5.83153917e-02, -3.37614867e-02, -6.13691898e-02,\n",
              "        1.15322253e-01,  1.90554149e-02, -2.01705582e-02,  8.72453231e-02,\n",
              "       -6.19032085e-02,  2.45033545e-02,  1.80859536e-01, -1.30737503e-02,\n",
              "        2.28798415e-02, -1.11454095e-01,  6.23370529e-02, -6.68312067e-02,\n",
              "        3.48949550e-02, -1.21327895e-02, -8.44770613e-02, -7.32294563e-02,\n",
              "        9.04803404e-02, -9.01945760e-02, -5.12473852e-02, -5.96653177e-02,\n",
              "       -1.68350516e-01, -1.44162755e-01, -8.96880405e-02, -2.80738499e-02,\n",
              "       -2.41469251e-03, -2.33432965e-01,  1.97913703e-02,  8.02900202e-02,\n",
              "        2.31135337e-01, -9.51140409e-02, -6.01043390e-03,  1.36304211e-01,\n",
              "       -1.68610026e-01,  7.75530727e-02,  8.56660876e-03,  3.76269160e-02,\n",
              "       -2.49123424e-02,  5.72745324e-02,  8.53148343e-02,  8.00234397e-02,\n",
              "        5.63360330e-02,  1.73435386e-01,  3.70465961e-02, -3.50683431e-02,\n",
              "       -4.07201739e-02,  1.96961291e-01,  3.87955309e-02,  2.47646080e-01,\n",
              "       -9.53892005e-03, -2.62466268e-04,  2.89666374e-02,  9.63244077e-02,\n",
              "       -2.52386957e-02, -2.28774265e-02, -5.19640003e-02, -3.21444995e-02,\n",
              "       -8.59741493e-02,  8.94803691e-02, -1.08667319e-01, -5.24364123e-02,\n",
              "        9.45823235e-02,  3.62492023e-02, -4.32471892e-02, -1.50609333e-01,\n",
              "        5.15270241e-02, -1.11240222e-01, -1.00129505e-01,  8.28171345e-02,\n",
              "        2.26454266e-01, -1.57208547e-02, -1.14199395e-01,  9.57912277e-02,\n",
              "        1.14641606e-02,  2.96007677e-02, -7.48154046e-02, -8.31557339e-02,\n",
              "       -2.08470695e-02, -3.70487248e-02,  1.36309908e-01,  6.28568752e-02,\n",
              "        1.78768403e-03, -6.37407795e-02,  5.49601769e-02, -7.19663272e-03,\n",
              "        1.15949233e-01, -1.08559187e-01, -1.39748441e-01, -1.05639557e-01,\n",
              "       -1.30440038e-01,  1.93413196e-01, -3.78008821e-03,  6.47912688e-02,\n",
              "        2.52369679e-02, -1.10331615e-02,  7.27859618e-02, -2.20887855e-01,\n",
              "        7.41916065e-02,  1.18830137e-02,  2.16731432e-01, -7.61630075e-02,\n",
              "       -9.09897846e-02, -5.33941362e-03,  1.73271343e-01,  3.71695711e-02,\n",
              "       -5.53497617e-02, -4.66121910e-02,  7.76167717e-02, -1.39064781e-01,\n",
              "        3.50259860e-03, -1.30069917e-01, -6.82109649e-02, -6.81729164e-02,\n",
              "        6.68449968e-02, -7.03851181e-02,  1.87132390e-01,  1.71000621e-01,\n",
              "       -1.49784173e-03,  9.49860577e-02, -6.93572846e-03,  1.32803800e-01,\n",
              "        1.25022625e-01,  8.58321949e-02, -4.51927351e-02,  3.59136862e-02,\n",
              "       -9.38592263e-02,  1.67466210e-01,  4.00997055e-02,  2.53120611e-02,\n",
              "       -5.19412560e-02, -8.65813787e-03,  1.38292126e-01,  9.08220528e-03,\n",
              "       -1.46276809e-01, -6.31065046e-02, -1.33592817e-01, -6.98849810e-02,\n",
              "       -4.71338188e-02,  3.47789838e-02,  2.02025543e-01,  1.43012713e-02,\n",
              "       -7.69984221e-02, -1.69425440e-03,  3.67301422e-02, -5.67904466e-02,\n",
              "       -4.01348156e-02,  1.53744215e-01,  4.70473379e-02, -1.53745008e-01,\n",
              "        3.76117672e-02, -3.21810108e-02,  6.96760431e-02,  8.06640003e-02,\n",
              "        6.04198719e-03, -2.38272086e-01, -1.71548574e-02, -3.46379459e-02,\n",
              "        9.06093363e-03, -1.23979998e-01, -1.44251513e-01, -9.32340148e-02,\n",
              "        4.76292339e-02,  1.81615923e-01,  1.22083449e-02,  8.27869004e-02,\n",
              "        6.36100188e-03, -4.15788665e-02, -1.31264901e-01,  5.61193213e-02,\n",
              "        1.04171187e-02,  3.52796786e-02, -1.05427096e-01, -1.51858702e-01,\n",
              "       -1.07556005e-01, -1.13261455e-01, -1.64874122e-01, -1.07264987e-01,\n",
              "        7.69884441e-02, -1.09847672e-01,  2.76595501e-01,  1.25892247e-01,\n",
              "        1.47667676e-01, -1.44392871e-01, -1.82410801e-01,  7.63146604e-02,\n",
              "        5.82079638e-02, -9.64231840e-02,  1.37827569e-01,  8.42750207e-02,\n",
              "        1.36869770e-01, -1.33726778e-01,  6.87988487e-03,  6.15351708e-02,\n",
              "       -1.41480400e-01,  5.81142907e-02,  3.01645175e-01, -7.36401082e-02,\n",
              "       -2.03859002e-02,  2.26097374e-01, -3.51317095e-02,  5.95049565e-02,\n",
              "       -6.55291989e-02,  1.49054187e-02, -3.14019348e-02,  1.73304112e-01,\n",
              "        8.65651021e-02,  4.81065887e-02, -3.22656623e-02,  6.97189131e-05,\n",
              "       -1.07897883e-01,  1.01086970e-01,  1.87731437e-02,  1.03996781e-01,\n",
              "       -1.01670574e-01, -1.13330476e-01, -7.67949894e-03,  8.37777280e-02,\n",
              "       -9.64185362e-02, -1.88592319e-01,  5.43699454e-02, -1.07583933e-02,\n",
              "        5.93684144e-02, -3.19149932e-02, -2.33285311e-01,  1.17404560e-01,\n",
              "       -2.01917296e-02, -3.93240194e-02, -7.40311126e-02, -4.87193821e-02,\n",
              "       -1.33714286e-01, -1.13461772e-02, -1.23969628e-01, -8.60558036e-02,\n",
              "        1.63656974e-01,  1.31249473e-02, -5.79909344e-02,  8.14241750e-02,\n",
              "        9.96043205e-02, -2.00557281e-01, -1.17695305e-01, -1.08086069e-01,\n",
              "        6.34458539e-02, -5.57378186e-02, -1.00861319e-02, -1.11233805e-01,\n",
              "       -1.44317817e-01,  1.26380820e-01,  4.73840315e-02,  1.68606977e-01,\n",
              "        7.17276139e-02,  3.42651860e-02,  1.14056019e-01, -1.84260952e-01,\n",
              "       -1.44971292e-01,  2.68789830e-02, -1.19783635e-01,  3.18544707e-02,\n",
              "        6.23566047e-02, -2.11346877e-02,  1.51006002e-01,  1.02808914e-01,\n",
              "        7.40285010e-02,  7.85512632e-02,  3.96998718e-02,  4.16528064e-02,\n",
              "       -1.67012820e-02, -1.08821355e-01,  1.02809179e-01, -1.63381274e-01,\n",
              "        2.50611992e-02,  5.25606066e-02, -8.13680535e-02, -6.54266775e-02,\n",
              "       -7.04173129e-02, -2.11888928e-01, -9.79117666e-03, -7.58555469e-03,\n",
              "       -1.69652443e-01,  1.41410196e-01,  7.21529245e-02, -8.05939140e-02,\n",
              "       -1.15392198e-01,  1.00309837e-01, -8.25417282e-02,  5.58952437e-02,\n",
              "        1.39812793e-01, -7.55783075e-03,  2.53030766e-02,  9.45188203e-02,\n",
              "       -6.97764963e-02,  1.97447250e-01, -1.00941140e-01, -1.92582724e-02,\n",
              "        1.68941658e-01,  1.91129974e-01,  1.48648563e-01,  6.25023035e-02,\n",
              "        2.62003653e-01,  9.17708543e-02, -7.21941392e-02,  3.65768102e-02,\n",
              "       -3.42917839e-02,  3.47925690e-02,  2.44403922e-02, -1.54548345e-01,\n",
              "        4.42742046e-02, -1.43269509e-01,  3.56063625e-02, -8.00516920e-02,\n",
              "        2.44244653e-02, -4.36306166e-02,  6.90377704e-02,  1.47756909e-01,\n",
              "       -7.81272017e-02,  1.19528835e-01, -4.06965458e-02,  6.76523171e-02,\n",
              "        5.42461592e-03,  4.72487153e-02,  1.89424717e-01, -5.82910458e-02,\n",
              "        1.26123863e-01, -3.75582386e-02, -1.01541603e-01,  1.73394069e-01,\n",
              "       -1.27635714e-01,  1.34399822e-02, -3.41002646e-02,  2.98941641e-02,\n",
              "        1.00057159e-02, -1.06677689e-02,  4.45060320e-02, -2.88756944e-02,\n",
              "       -1.39696067e-01,  1.41701864e-01, -1.10654629e-01,  1.30452387e-01,\n",
              "        3.65752855e-02, -2.03771927e-01, -2.02359969e-01, -7.55456626e-02,\n",
              "        1.33590167e-01,  5.38986497e-02,  4.63784453e-02,  1.11934428e-01,\n",
              "        4.72143782e-02,  8.74993289e-02,  4.05637252e-03,  2.97510488e-04,\n",
              "       -1.69374169e-02, -1.27735147e-01, -1.99315936e-01,  1.28024770e-01,\n",
              "        2.18297768e-01,  9.18315724e-02,  5.82973505e-02, -7.32568428e-02,\n",
              "       -1.72221262e-01, -2.38050765e-02, -2.05150047e-02,  1.38523082e-01,\n",
              "       -1.35509700e-01, -6.68898791e-02, -9.85631870e-02, -8.59531093e-02,\n",
              "        5.74133523e-02, -1.16296654e-01, -6.51656806e-02,  2.79579851e-02,\n",
              "       -3.68377960e-02, -1.03476090e-01,  5.74810766e-02,  1.80849681e-02,\n",
              "        3.57949495e-02, -1.56689485e-01,  1.12348947e-01, -1.58242265e-01,\n",
              "        7.10029502e-02,  2.29959679e-01,  7.48610855e-03,  1.01960413e-01,\n",
              "        4.78671837e-02, -1.96373964e-01, -1.14917658e-01, -1.03551989e-01,\n",
              "       -2.76208772e-02, -2.25396630e-01, -1.86022107e-01, -3.69217723e-02,\n",
              "       -4.79056255e-02,  1.50387158e-01,  1.18799523e-01,  1.22305279e-01,\n",
              "       -8.04497057e-02,  2.19064477e-01,  2.22785624e-01,  5.58672889e-02,\n",
              "        1.18346945e-02,  6.14835293e-02,  7.32068963e-02,  1.15882030e-01,\n",
              "       -7.55564384e-02,  9.60611485e-02,  1.29059455e-01, -1.60665730e-02,\n",
              "        3.59268194e-02, -2.91969367e-02,  3.73336988e-02, -8.00585641e-02,\n",
              "       -1.16459728e-01, -1.30821357e-01, -6.44174617e-02,  9.98140176e-02,\n",
              "        1.71562699e-01,  2.18237913e-01,  1.27015795e-01, -1.60224973e-01,\n",
              "       -1.16865379e-01,  4.43002319e-02,  1.42540463e-01, -2.98749904e-02,\n",
              "        8.28812498e-02, -9.87616974e-02, -1.03821110e-01, -1.25228457e-02,\n",
              "        9.95680740e-02, -2.07084835e-02, -9.48313367e-02,  7.03589723e-02,\n",
              "       -4.65675936e-02, -2.26271928e-02,  2.15950014e-02,  1.96702739e-01,\n",
              "        4.07447566e-02, -1.40625982e-01,  2.21801033e-01,  2.97045951e-02,\n",
              "       -8.44539039e-02, -1.21224791e-01, -1.75552190e-01, -3.43066569e-02,\n",
              "       -2.80837976e-01, -2.00928765e-03, -2.31689378e-01, -1.09585713e-01,\n",
              "        7.60824657e-03, -1.58118245e-01,  2.34500169e-02,  5.64225558e-02,\n",
              "       -2.85114006e-02, -8.43809674e-03,  1.04869028e-01, -1.47563636e-01,\n",
              "       -2.04700342e-01, -5.60997400e-02, -3.52397519e-02, -1.30070377e-01,\n",
              "       -4.68583483e-02,  1.56676486e-01, -5.55636113e-02,  1.07677891e-01,\n",
              "       -3.90148032e-03, -4.95463650e-02,  4.28125488e-02, -4.74477541e-02,\n",
              "       -2.22228197e-01,  1.66993060e-01,  1.18741849e-01, -7.92921193e-02,\n",
              "        1.66683412e-01, -8.00559608e-02, -6.40195700e-02, -7.10749217e-02,\n",
              "       -1.04241478e-01,  1.11045364e-01, -3.82069175e-02,  1.30435250e-01,\n",
              "       -4.92948612e-03,  1.62646517e-01,  6.71329820e-02, -1.19280708e-02,\n",
              "       -3.44281639e-02,  2.53412335e-03,  4.95375074e-02, -1.41105200e-01,\n",
              "        7.99785827e-02,  1.49370241e-01, -5.15898953e-02, -6.68734393e-02,\n",
              "        2.52738349e-02, -1.35267043e-01,  1.33123222e-01,  8.96559924e-02,\n",
              "       -6.79745631e-02, -6.13949766e-02,  2.61321303e-01,  4.61943784e-02,\n",
              "       -3.15291302e-02, -1.06831145e-01,  9.17900886e-02,  1.62239668e-01,\n",
              "       -1.70109281e-01, -1.19287771e-01,  5.43971868e-02, -4.96986413e-02,\n",
              "       -1.17151772e-01, -1.50304946e-01, -1.71602423e-01, -1.39427062e-02,\n",
              "       -2.19680859e-02,  1.92357869e-01,  8.19980192e-02, -7.87261003e-02,\n",
              "        1.25059444e-01,  2.08548074e-02,  6.79827097e-03,  4.26902065e-02,\n",
              "       -5.65937519e-02,  1.76355507e-01,  1.52232135e-01, -6.50386651e-02,\n",
              "        9.89787561e-04,  6.21120098e-02,  1.31328715e-01,  4.24228557e-02,\n",
              "        7.42826243e-02, -1.02631489e-01, -1.29594336e-01, -5.20262564e-02,\n",
              "        1.21465192e-01, -8.15771835e-02, -7.19329274e-02,  1.46179673e-01,\n",
              "        1.66596200e-02, -2.45209381e-02, -6.32050902e-02, -3.28217137e-02,\n",
              "        4.52533549e-02,  5.32482505e-02,  1.94565467e-01,  8.41978350e-02,\n",
              "        2.75966950e-01,  1.24052544e-01, -2.54301699e-03, -1.71934771e-02,\n",
              "        2.09600245e-02, -2.44762259e-03,  1.33601750e-02, -4.22075408e-02,\n",
              "        1.84175132e-02, -1.49836089e-02, -1.40434878e-01, -7.32991667e-02,\n",
              "       -6.07929971e-02,  3.13228321e-02,  3.17417255e-02,  3.70670673e-02,\n",
              "       -1.54407231e-01, -1.67057106e-01, -1.77285776e-02,  5.89635984e-02,\n",
              "       -8.13293202e-02, -9.71604667e-02, -7.66007936e-02, -1.18288396e-02,\n",
              "        6.56736966e-02,  2.33509568e-01, -8.16595678e-02, -1.68828687e-01,\n",
              "       -1.54248714e-01, -8.68706838e-03,  6.98088868e-02, -5.28932231e-02,\n",
              "        1.27816119e-01,  3.04020493e-02,  6.53260241e-02, -5.74285271e-02,\n",
              "        3.56704928e-02, -4.02028978e-02,  3.00295326e-02, -9.46462801e-03,\n",
              "       -4.28456851e-02,  1.17268623e-01,  1.22126522e-01, -3.14083170e-02,\n",
              "        1.16465664e-01, -3.97516716e-02,  3.23636478e-02, -8.68644407e-02,\n",
              "       -6.80265783e-03, -6.52182458e-03, -1.27098461e-01,  1.68258267e-02,\n",
              "        1.36381082e-02, -1.06076835e-01, -2.70550261e-02,  1.16519493e-01,\n",
              "        1.10876735e-01,  8.35993275e-02,  4.27926265e-02, -2.12349352e-01,\n",
              "       -2.46631879e-01, -3.56564853e-02, -5.70810878e-02, -1.34791841e-01,\n",
              "        1.01407342e-01, -9.21739783e-02, -3.88819973e-02,  9.34198715e-02,\n",
              "        1.45710363e-01,  7.28781511e-02,  2.46153699e-02,  6.75404434e-02,\n",
              "        6.78503234e-02, -8.37451512e-02, -8.01643664e-02, -1.45254098e-01,\n",
              "       -3.59850198e-02,  2.15987467e-03, -7.97291795e-02,  1.19648341e-02,\n",
              "        1.70923400e-01, -2.87930414e-02, -1.07469102e-01,  8.51452082e-02,\n",
              "        1.77329764e-01,  9.77614549e-02, -9.26388546e-03, -6.87739944e-03,\n",
              "       -8.87273908e-02, -5.31539411e-02,  1.58140940e-01, -4.07808883e-02,\n",
              "       -1.61210834e-02, -8.60832462e-02, -3.15727062e-02, -3.47862908e-02,\n",
              "       -1.88207971e-01,  2.98326008e-02,  1.54313296e-01,  5.57069239e-02,\n",
              "        3.50399590e-02,  1.62679833e-01, -1.13051701e-02, -1.46111131e-01,\n",
              "       -1.17623535e-01, -6.99969250e-03, -1.24643587e-01,  3.33458894e-02,\n",
              "        2.06552617e-01,  6.60181061e-02,  6.42119273e-02, -3.80661121e-02,\n",
              "       -1.34318624e-01,  4.05775575e-02,  1.05325024e-01,  7.78848266e-02,\n",
              "        2.42965370e-02,  1.22748727e-02, -9.62198078e-02, -4.75681242e-02,\n",
              "        8.83998614e-02,  1.06317134e-01, -3.49818367e-02,  6.57410506e-02,\n",
              "       -3.34142904e-02,  1.06868225e-02,  3.53400672e-02, -6.63324943e-02,\n",
              "       -1.95373814e-02,  7.08815542e-03, -7.67113629e-02, -1.11215686e-01,\n",
              "        3.87328065e-02,  4.87289868e-02,  2.25799901e-02, -3.25351348e-02,\n",
              "       -1.49671304e-01,  1.60254145e-01, -2.95555511e-02,  3.84066960e-02,\n",
              "        3.04041746e-02,  3.64659681e-02, -1.58048164e-01,  1.23844969e-02,\n",
              "        1.39752483e-01, -1.45394638e-01, -2.01950487e-01, -9.69074684e-02,\n",
              "        1.03394565e-01,  1.53279896e-02, -1.48016659e-01, -9.43759821e-02,\n",
              "       -6.95093172e-02, -1.21849933e-02,  1.94384595e-01, -9.74085750e-03,\n",
              "       -6.98118131e-03, -1.71314060e-01,  3.44281040e-02, -2.59332320e-02,\n",
              "       -8.99437315e-03, -1.86084852e-01, -6.69930018e-02, -7.55620354e-03,\n",
              "        3.10707228e-02, -1.05409454e-01,  1.05623506e-01, -8.58544083e-02,\n",
              "       -9.91877292e-02, -2.68707975e-02, -8.92476100e-04, -6.45842798e-02,\n",
              "       -2.37119281e-01, -2.45059705e-01,  3.01949605e-03,  1.56064730e-02,\n",
              "        8.69984735e-02, -9.52998049e-02, -1.04383259e-01, -1.23225453e-02,\n",
              "       -1.19566670e-01, -1.92590824e-03, -1.61258211e-02,  2.75151083e-02,\n",
              "       -2.39679802e-01, -1.09857434e-01,  4.61284798e-02,  4.06971237e-03,\n",
              "       -8.04058802e-02,  1.10268303e-01,  6.25839611e-02, -4.13637014e-02,\n",
              "       -1.04952953e-01,  5.60532546e-02, -4.56365859e-03,  9.00718176e-02,\n",
              "       -1.54341473e-01, -1.34384116e-01,  8.88691232e-02, -9.05807760e-02,\n",
              "        9.37420467e-02, -2.29604921e-02, -5.55678317e-02,  4.65735711e-03,\n",
              "       -1.39571588e-01,  2.87149048e-02,  2.68544765e-03, -8.09561904e-02,\n",
              "        4.15635673e-03,  6.89381203e-02, -3.55843512e-02,  4.79379674e-02,\n",
              "        5.11225285e-02, -2.20622679e-01,  1.13388127e-01, -1.65474147e-02,\n",
              "       -4.64872608e-02, -8.75366823e-02,  1.19682774e-01, -6.36430819e-02,\n",
              "        3.04024581e-03,  2.55119727e-02,  1.55741021e-02, -4.24444806e-02,\n",
              "        1.72786200e-01,  9.50591796e-02, -1.38447405e-01,  4.02297097e-02,\n",
              "       -6.56640568e-02,  9.31878536e-02, -1.13581766e-01, -1.23094615e-01,\n",
              "       -2.12127076e-01, -2.29979451e-01, -2.54266573e-02,  1.35471987e-01,\n",
              "        4.18525907e-03,  1.03821810e-01,  5.99233103e-02, -4.37092946e-02,\n",
              "        3.33073178e-03, -7.62412124e-03,  4.78428688e-02, -2.63205085e-01,\n",
              "        6.57053570e-02,  1.51785290e-01,  8.32683236e-02,  3.50412182e-02,\n",
              "       -2.26267051e-04, -1.77917411e-03,  1.23775810e-01, -1.45611110e-01,\n",
              "       -2.51872959e-02, -6.87200191e-03,  4.88552766e-02, -1.07344265e-01,\n",
              "        1.75258454e-01,  7.86628496e-02,  7.74459879e-02, -4.75474380e-02,\n",
              "       -1.38192915e-01, -1.72789612e-03,  7.18533060e-03,  9.21495093e-02,\n",
              "       -1.04852587e-01, -2.24408784e-02, -1.43642376e-02, -7.97907255e-02,\n",
              "        9.06628120e-02,  1.93443108e-01, -6.92137622e-02,  4.68120569e-04,\n",
              "       -5.00016068e-02, -1.65325742e-01,  2.62708456e-01, -1.64886434e-02])"
            ]
          },
          "metadata": {
            "tags": []
          },
          "execution_count": 189
        }
      ]
    },
    {
      "cell_type": "code",
      "metadata": {
        "id": "YPtPnrYSpyG1",
        "colab_type": "code",
        "colab": {}
      },
      "source": [
        "np.random.seed(1000)"
      ],
      "execution_count": 0,
      "outputs": []
    },
    {
      "cell_type": "code",
      "metadata": {
        "id": "FCjChQgRn1HJ",
        "colab_type": "code",
        "outputId": "36503e68-53cc-4dae-9640-6ea4e6a808ee",
        "colab": {
          "base_uri": "https://localhost:8080/",
          "height": 51
        }
      },
      "source": [
        "rng=np.random.RandomState(1234)\n",
        "rng.randn(10)"
      ],
      "execution_count": 0,
      "outputs": [
        {
          "output_type": "execute_result",
          "data": {
            "text/plain": [
              "array([ 0.47143516, -1.19097569,  1.43270697, -0.3126519 , -0.72058873,\n",
              "        0.88716294,  0.85958841, -0.6365235 ,  0.01569637, -2.24268495])"
            ]
          },
          "metadata": {
            "tags": []
          },
          "execution_count": 191
        }
      ]
    },
    {
      "cell_type": "code",
      "metadata": {
        "id": "Z6KL8RmHo38y",
        "colab_type": "code",
        "outputId": "d71d2cb8-90b4-4b02-f61a-79e87fdcc446",
        "colab": {
          "base_uri": "https://localhost:8080/",
          "height": 51
        }
      },
      "source": [
        "np.random.randn(10)"
      ],
      "execution_count": 0,
      "outputs": [
        {
          "output_type": "execute_result",
          "data": {
            "text/plain": [
              "array([-0.8044583 ,  0.32093155, -0.02548288,  0.64432383, -0.30079667,\n",
              "        0.38947455, -0.1074373 , -0.47998308,  0.5950355 , -0.46466753])"
            ]
          },
          "metadata": {
            "tags": []
          },
          "execution_count": 192
        }
      ]
    },
    {
      "cell_type": "code",
      "metadata": {
        "id": "YKRdRP2UpKz6",
        "colab_type": "code",
        "outputId": "f21ed162-d35d-4731-88e3-23a5f44c92e8",
        "colab": {
          "base_uri": "https://localhost:8080/",
          "height": 51
        }
      },
      "source": [
        "rng.randn(10)\n"
      ],
      "execution_count": 0,
      "outputs": [
        {
          "output_type": "execute_result",
          "data": {
            "text/plain": [
              "array([ 1.15003572,  0.99194602,  0.95332413, -2.02125482, -0.33407737,\n",
              "        0.00211836,  0.40545341,  0.28909194,  1.32115819, -1.54690555])"
            ]
          },
          "metadata": {
            "tags": []
          },
          "execution_count": 193
        }
      ]
    },
    {
      "cell_type": "code",
      "metadata": {
        "id": "Rd4i7G5UpXBl",
        "colab_type": "code",
        "outputId": "a209ade8-20c0-402e-8de0-5faa5db74ed8",
        "colab": {
          "base_uri": "https://localhost:8080/",
          "height": 51
        }
      },
      "source": [
        "rng.randn(10)"
      ],
      "execution_count": 0,
      "outputs": [
        {
          "output_type": "execute_result",
          "data": {
            "text/plain": [
              "array([-0.20264632, -0.65596934,  0.19342138,  0.55343891,  1.31815155,\n",
              "       -0.46930528,  0.67555409, -1.81702723, -0.18310854,  1.05896919])"
            ]
          },
          "metadata": {
            "tags": []
          },
          "execution_count": 194
        }
      ]
    },
    {
      "cell_type": "code",
      "metadata": {
        "id": "QAUEoVzYpb4J",
        "colab_type": "code",
        "outputId": "3d90dbda-f2e9-4240-c110-4402da9bcb84",
        "colab": {
          "base_uri": "https://localhost:8080/",
          "height": 51
        }
      },
      "source": [
        "rng.randn(10)"
      ],
      "execution_count": 0,
      "outputs": [
        {
          "output_type": "execute_result",
          "data": {
            "text/plain": [
              "array([-0.39784023,  0.33743765,  1.04757857,  1.04593826,  0.86371729,\n",
              "       -0.12209157,  0.12471295, -0.32279481,  0.84167471,  2.39096052])"
            ]
          },
          "metadata": {
            "tags": []
          },
          "execution_count": 195
        }
      ]
    },
    {
      "cell_type": "code",
      "metadata": {
        "id": "U3TibgqMrDXF",
        "colab_type": "code",
        "outputId": "3d569e59-070f-47f7-f7e0-9c86b27406c8",
        "colab": {
          "base_uri": "https://localhost:8080/",
          "height": 34
        }
      },
      "source": [
        "np.random.permutation(10)"
      ],
      "execution_count": 0,
      "outputs": [
        {
          "output_type": "execute_result",
          "data": {
            "text/plain": [
              "array([5, 7, 3, 6, 0, 1, 2, 8, 4, 9])"
            ]
          },
          "metadata": {
            "tags": []
          },
          "execution_count": 196
        }
      ]
    },
    {
      "cell_type": "code",
      "metadata": {
        "id": "lPl9wRwBrXTe",
        "colab_type": "code",
        "outputId": "16dd935e-5d56-4c1a-9b30-ba358fe7a17e",
        "colab": {
          "base_uri": "https://localhost:8080/",
          "height": 286
        }
      },
      "source": [
        "import matplotlib.pyplot as plt \n",
        "import random\n",
        "position=0\n",
        "walk=[position]\n",
        "for i in range(1000):\n",
        "  step=1 if random.randint(0,1) else -1\n",
        "  position += step\n",
        "  walk.append(position)\n",
        "plt.plot(walk[:100])"
      ],
      "execution_count": 0,
      "outputs": [
        {
          "output_type": "execute_result",
          "data": {
            "text/plain": [
              "[<matplotlib.lines.Line2D at 0x7feb5d81eeb8>]"
            ]
          },
          "metadata": {
            "tags": []
          },
          "execution_count": 197
        },
        {
          "output_type": "display_data",
          "data": {
            "image/png": "[encoded data removed]",
            "text/plain": [
              "<Figure size 432x288 with 1 Axes>"
            ]
          },
          "metadata": {
            "tags": []
          }
        }
      ]
    },
    {
      "cell_type": "code",
      "metadata": {
        "id": "HUOhuo2WzmJ5",
        "colab_type": "code",
        "outputId": "11834c44-97f6-4a0a-97fe-43fa39fbfe19",
        "colab": {
          "base_uri": "https://localhost:8080/",
          "height": 34
        }
      },
      "source": [
        "a=random.randint(0,1)\n",
        "a"
      ],
      "execution_count": 0,
      "outputs": [
        {
          "output_type": "execute_result",
          "data": {
            "text/plain": [
              "0"
            ]
          },
          "metadata": {
            "tags": []
          },
          "execution_count": 198
        }
      ]
    },
    {
      "cell_type": "code",
      "metadata": {
        "id": "9kvvQiVX0B1p",
        "colab_type": "code",
        "colab": {}
      },
      "source": [
        "nsteps=1000\n",
        "draws=np.random.randint(0,2,size=nsteps)\n",
        "steps=np.where(draws>0,1,-1)\n",
        "walk=steps.cumsum()"
      ],
      "execution_count": 0,
      "outputs": []
    },
    {
      "cell_type": "code",
      "metadata": {
        "id": "gECs7mOVBh6F",
        "colab_type": "code",
        "outputId": "4ce20de9-7359-4d41-b72b-3e0a462702e8",
        "colab": {
          "base_uri": "https://localhost:8080/",
          "height": 1020
        }
      },
      "source": [
        "steps"
      ],
      "execution_count": 0,
      "outputs": [
        {
          "output_type": "execute_result",
          "data": {
            "text/plain": [
              "array([-1, -1,  1, -1, -1,  1,  1, -1, -1, -1,  1,  1, -1,  1, -1,  1, -1,\n",
              "       -1, -1,  1, -1, -1,  1, -1, -1,  1, -1,  1,  1,  1,  1, -1,  1, -1,\n",
              "        1, -1,  1,  1, -1,  1,  1,  1,  1,  1,  1, -1,  1,  1, -1,  1,  1,\n",
              "        1, -1, -1, -1, -1,  1,  1,  1, -1, -1, -1,  1,  1, -1,  1,  1, -1,\n",
              "       -1,  1, -1,  1,  1, -1, -1, -1, -1,  1,  1,  1,  1,  1, -1,  1, -1,\n",
              "        1, -1, -1,  1,  1, -1,  1,  1, -1,  1, -1, -1,  1,  1,  1, -1,  1,\n",
              "       -1,  1,  1, -1,  1,  1,  1,  1,  1,  1,  1, -1, -1, -1,  1, -1, -1,\n",
              "        1, -1,  1,  1, -1,  1,  1, -1,  1,  1, -1,  1, -1, -1, -1,  1, -1,\n",
              "        1,  1, -1, -1,  1, -1,  1, -1,  1, -1,  1,  1, -1, -1,  1,  1,  1,\n",
              "        1, -1,  1, -1,  1, -1, -1, -1,  1, -1, -1, -1,  1, -1,  1, -1,  1,\n",
              "        1, -1,  1, -1, -1, -1,  1,  1, -1, -1,  1, -1,  1, -1, -1,  1, -1,\n",
              "        1,  1, -1,  1, -1, -1, -1, -1, -1,  1, -1, -1, -1, -1, -1, -1,  1,\n",
              "        1,  1,  1,  1, -1,  1, -1, -1, -1, -1, -1,  1, -1, -1,  1,  1, -1,\n",
              "        1, -1,  1,  1, -1, -1,  1,  1,  1, -1, -1,  1, -1,  1,  1,  1,  1,\n",
              "       -1,  1,  1,  1,  1,  1,  1,  1,  1, -1, -1,  1, -1, -1,  1, -1, -1,\n",
              "       -1, -1,  1,  1,  1, -1, -1,  1,  1,  1,  1,  1,  1, -1, -1,  1, -1,\n",
              "       -1, -1, -1, -1, -1,  1,  1,  1, -1,  1,  1,  1, -1, -1,  1, -1,  1,\n",
              "       -1,  1,  1, -1, -1, -1,  1,  1, -1,  1, -1, -1,  1,  1,  1,  1,  1,\n",
              "        1, -1, -1, -1,  1,  1,  1, -1, -1, -1, -1, -1,  1,  1, -1, -1, -1,\n",
              "        1, -1,  1, -1,  1,  1,  1,  1, -1, -1,  1, -1, -1,  1, -1,  1,  1,\n",
              "        1, -1,  1, -1,  1,  1, -1,  1,  1,  1, -1, -1,  1, -1, -1, -1, -1,\n",
              "       -1,  1,  1,  1,  1, -1, -1, -1,  1,  1,  1,  1,  1, -1,  1,  1,  1,\n",
              "       -1, -1,  1,  1, -1, -1, -1, -1, -1, -1, -1,  1,  1,  1, -1,  1, -1,\n",
              "       -1,  1, -1,  1,  1, -1, -1, -1, -1, -1,  1, -1,  1,  1,  1, -1,  1,\n",
              "        1,  1, -1, -1,  1, -1,  1, -1, -1, -1, -1, -1,  1, -1, -1,  1, -1,\n",
              "       -1, -1, -1,  1,  1, -1,  1, -1,  1, -1,  1,  1,  1,  1,  1, -1, -1,\n",
              "        1,  1, -1, -1,  1, -1,  1, -1,  1, -1,  1, -1, -1,  1,  1,  1,  1,\n",
              "        1,  1, -1, -1, -1,  1,  1,  1, -1,  1,  1,  1, -1, -1,  1,  1, -1,\n",
              "        1,  1,  1, -1, -1, -1, -1, -1, -1,  1,  1,  1,  1,  1, -1, -1, -1,\n",
              "        1,  1, -1, -1, -1, -1,  1, -1, -1, -1, -1,  1, -1,  1, -1, -1,  1,\n",
              "       -1,  1, -1, -1,  1, -1, -1,  1, -1, -1,  1, -1,  1,  1,  1,  1,  1,\n",
              "       -1,  1,  1,  1,  1, -1, -1,  1, -1, -1,  1,  1, -1, -1,  1, -1,  1,\n",
              "        1,  1, -1,  1,  1, -1, -1, -1, -1,  1,  1, -1, -1, -1,  1, -1,  1,\n",
              "       -1,  1, -1, -1,  1, -1,  1,  1,  1,  1, -1,  1, -1,  1,  1, -1, -1,\n",
              "       -1,  1,  1, -1, -1,  1, -1,  1, -1, -1, -1,  1, -1,  1,  1,  1, -1,\n",
              "       -1,  1, -1, -1,  1,  1, -1,  1, -1,  1,  1, -1, -1,  1,  1,  1,  1,\n",
              "       -1,  1,  1, -1, -1, -1,  1,  1, -1, -1, -1, -1, -1,  1,  1, -1, -1,\n",
              "       -1, -1, -1, -1, -1, -1, -1, -1, -1,  1,  1, -1, -1, -1,  1, -1, -1,\n",
              "        1, -1, -1, -1,  1,  1,  1,  1, -1,  1,  1, -1, -1, -1, -1,  1, -1,\n",
              "       -1,  1,  1,  1, -1, -1,  1, -1, -1, -1,  1,  1, -1,  1,  1, -1, -1,\n",
              "        1, -1, -1, -1,  1, -1,  1,  1,  1, -1, -1, -1, -1, -1,  1, -1,  1,\n",
              "        1, -1,  1,  1, -1, -1, -1, -1, -1,  1, -1,  1,  1,  1, -1,  1,  1,\n",
              "        1, -1, -1,  1,  1, -1, -1, -1, -1,  1,  1, -1, -1, -1,  1, -1, -1,\n",
              "       -1, -1, -1, -1, -1, -1,  1, -1,  1, -1, -1, -1,  1, -1, -1,  1, -1,\n",
              "        1,  1, -1, -1,  1,  1,  1, -1, -1, -1,  1,  1, -1,  1,  1,  1, -1,\n",
              "       -1,  1, -1,  1,  1, -1, -1,  1, -1, -1, -1,  1,  1, -1,  1, -1, -1,\n",
              "       -1,  1,  1, -1,  1,  1, -1,  1,  1, -1, -1, -1,  1, -1, -1, -1, -1,\n",
              "        1, -1,  1, -1, -1,  1, -1, -1,  1, -1, -1, -1,  1, -1, -1, -1, -1,\n",
              "       -1,  1,  1, -1,  1, -1,  1,  1,  1, -1, -1,  1, -1, -1, -1,  1, -1,\n",
              "        1,  1,  1, -1, -1,  1,  1,  1,  1, -1,  1, -1,  1, -1,  1,  1, -1,\n",
              "       -1,  1, -1,  1, -1,  1,  1, -1, -1,  1,  1, -1,  1,  1,  1, -1,  1,\n",
              "       -1,  1, -1, -1, -1, -1,  1, -1,  1, -1, -1, -1, -1,  1,  1, -1, -1,\n",
              "        1,  1,  1, -1, -1, -1,  1, -1,  1, -1, -1,  1, -1, -1, -1, -1,  1,\n",
              "       -1, -1,  1,  1,  1,  1,  1, -1,  1,  1, -1,  1, -1, -1,  1, -1, -1,\n",
              "        1,  1, -1, -1, -1, -1,  1,  1, -1, -1,  1, -1,  1, -1,  1, -1, -1,\n",
              "        1,  1, -1,  1, -1, -1,  1, -1, -1,  1,  1, -1,  1,  1,  1, -1,  1,\n",
              "       -1, -1, -1, -1,  1, -1,  1,  1,  1, -1,  1, -1,  1, -1, -1, -1,  1,\n",
              "       -1,  1,  1, -1,  1, -1,  1, -1,  1,  1, -1, -1, -1, -1, -1, -1, -1,\n",
              "       -1, -1, -1, -1, -1,  1, -1, -1, -1,  1,  1, -1, -1,  1])"
            ]
          },
          "metadata": {
            "tags": []
          },
          "execution_count": 200
        }
      ]
    },
    {
      "cell_type": "code",
      "metadata": {
        "id": "mvwzuU7jBl4B",
        "colab_type": "code",
        "outputId": "f85ff70c-5fb7-4729-a049-fe6aa2090a8b",
        "colab": {
          "base_uri": "https://localhost:8080/",
          "height": 1326
        }
      },
      "source": [
        "np.array(walk)"
      ],
      "execution_count": 0,
      "outputs": [
        {
          "output_type": "execute_result",
          "data": {
            "text/plain": [
              "array([ -1,  -2,  -1,  -2,  -3,  -2,  -1,  -2,  -3,  -4,  -3,  -2,  -3,\n",
              "        -2,  -3,  -2,  -3,  -4,  -5,  -4,  -5,  -6,  -5,  -6,  -7,  -6,\n",
              "        -7,  -6,  -5,  -4,  -3,  -4,  -3,  -4,  -3,  -4,  -3,  -2,  -3,\n",
              "        -2,  -1,   0,   1,   2,   3,   2,   3,   4,   3,   4,   5,   6,\n",
              "         5,   4,   3,   2,   3,   4,   5,   4,   3,   2,   3,   4,   3,\n",
              "         4,   5,   4,   3,   4,   3,   4,   5,   4,   3,   2,   1,   2,\n",
              "         3,   4,   5,   6,   5,   6,   5,   6,   5,   4,   5,   6,   5,\n",
              "         6,   7,   6,   7,   6,   5,   6,   7,   8,   7,   8,   7,   8,\n",
              "         9,   8,   9,  10,  11,  12,  13,  14,  15,  14,  13,  12,  13,\n",
              "        12,  11,  12,  11,  12,  13,  12,  13,  14,  13,  14,  15,  14,\n",
              "        15,  14,  13,  12,  13,  12,  13,  14,  13,  12,  13,  12,  13,\n",
              "        12,  13,  12,  13,  14,  13,  12,  13,  14,  15,  16,  15,  16,\n",
              "        15,  16,  15,  14,  13,  14,  13,  12,  11,  12,  11,  12,  11,\n",
              "        12,  13,  12,  13,  12,  11,  10,  11,  12,  11,  10,  11,  10,\n",
              "        11,  10,   9,  10,   9,  10,  11,  10,  11,  10,   9,   8,   7,\n",
              "         6,   7,   6,   5,   4,   3,   2,   1,   2,   3,   4,   5,   6,\n",
              "         5,   6,   5,   4,   3,   2,   1,   2,   1,   0,   1,   2,   1,\n",
              "         2,   1,   2,   3,   2,   1,   2,   3,   4,   3,   2,   3,   2,\n",
              "         3,   4,   5,   6,   5,   6,   7,   8,   9,  10,  11,  12,  13,\n",
              "        12,  11,  12,  11,  10,  11,  10,   9,   8,   7,   8,   9,  10,\n",
              "         9,   8,   9,  10,  11,  12,  13,  14,  13,  12,  13,  12,  11,\n",
              "        10,   9,   8,   7,   8,   9,  10,   9,  10,  11,  12,  11,  10,\n",
              "        11,  10,  11,  10,  11,  12,  11,  10,   9,  10,  11,  10,  11,\n",
              "        10,   9,  10,  11,  12,  13,  14,  15,  14,  13,  12,  13,  14,\n",
              "        15,  14,  13,  12,  11,  10,  11,  12,  11,  10,   9,  10,   9,\n",
              "        10,   9,  10,  11,  12,  13,  12,  11,  12,  11,  10,  11,  10,\n",
              "        11,  12,  13,  12,  13,  12,  13,  14,  13,  14,  15,  16,  15,\n",
              "        14,  15,  14,  13,  12,  11,  10,  11,  12,  13,  14,  13,  12,\n",
              "        11,  12,  13,  14,  15,  16,  15,  16,  17,  18,  17,  16,  17,\n",
              "        18,  17,  16,  15,  14,  13,  12,  11,  12,  13,  14,  13,  14,\n",
              "        13,  12,  13,  12,  13,  14,  13,  12,  11,  10,   9,  10,   9,\n",
              "        10,  11,  12,  11,  12,  13,  14,  13,  12,  13,  12,  13,  12,\n",
              "        11,  10,   9,   8,   9,   8,   7,   8,   7,   6,   5,   4,   5,\n",
              "         6,   5,   6,   5,   6,   5,   6,   7,   8,   9,  10,   9,   8,\n",
              "         9,  10,   9,   8,   9,   8,   9,   8,   9,   8,   9,   8,   7,\n",
              "         8,   9,  10,  11,  12,  13,  12,  11,  10,  11,  12,  13,  12,\n",
              "        13,  14,  15,  14,  13,  14,  15,  14,  15,  16,  17,  16,  15,\n",
              "        14,  13,  12,  11,  12,  13,  14,  15,  16,  15,  14,  13,  14,\n",
              "        15,  14,  13,  12,  11,  12,  11,  10,   9,   8,   9,   8,   9,\n",
              "         8,   7,   8,   7,   8,   7,   6,   7,   6,   5,   6,   5,   4,\n",
              "         5,   4,   5,   6,   7,   8,   9,   8,   9,  10,  11,  12,  11,\n",
              "        10,  11,  10,   9,  10,  11,  10,   9,  10,   9,  10,  11,  12,\n",
              "        11,  12,  13,  12,  11,  10,   9,  10,  11,  10,   9,   8,   9,\n",
              "         8,   9,   8,   9,   8,   7,   8,   7,   8,   9,  10,  11,  10,\n",
              "        11,  10,  11,  12,  11,  10,   9,  10,  11,  10,   9,  10,   9,\n",
              "        10,   9,   8,   7,   8,   7,   8,   9,  10,   9,   8,   9,   8,\n",
              "         7,   8,   9,   8,   9,   8,   9,  10,   9,   8,   9,  10,  11,\n",
              "        12,  11,  12,  13,  12,  11,  10,  11,  12,  11,  10,   9,   8,\n",
              "         7,   8,   9,   8,   7,   6,   5,   4,   3,   2,   1,   0,  -1,\n",
              "        -2,  -1,   0,  -1,  -2,  -3,  -2,  -3,  -4,  -3,  -4,  -5,  -6,\n",
              "        -5,  -4,  -3,  -2,  -3,  -2,  -1,  -2,  -3,  -4,  -5,  -4,  -5,\n",
              "        -6,  -5,  -4,  -3,  -4,  -5,  -4,  -5,  -6,  -7,  -6,  -5,  -6,\n",
              "        -5,  -4,  -5,  -6,  -5,  -6,  -7,  -8,  -7,  -8,  -7,  -6,  -5,\n",
              "        -6,  -7,  -8,  -9, -10,  -9, -10,  -9,  -8,  -9,  -8,  -7,  -8,\n",
              "        -9, -10, -11, -12, -11, -12, -11, -10,  -9, -10,  -9,  -8,  -7,\n",
              "        -8,  -9,  -8,  -7,  -8,  -9, -10, -11, -10,  -9, -10, -11, -12,\n",
              "       -11, -12, -13, -14, -15, -16, -17, -18, -19, -18, -19, -18, -19,\n",
              "       -20, -21, -20, -21, -22, -21, -22, -21, -20, -21, -22, -21, -20,\n",
              "       -19, -20, -21, -22, -21, -20, -21, -20, -19, -18, -19, -20, -19,\n",
              "       -20, -19, -18, -19, -20, -19, -20, -21, -22, -21, -20, -21, -20,\n",
              "       -21, -22, -23, -22, -21, -22, -21, -20, -21, -20, -19, -20, -21,\n",
              "       -22, -21, -22, -23, -24, -25, -24, -25, -24, -25, -26, -25, -26,\n",
              "       -27, -26, -27, -28, -29, -28, -29, -30, -31, -32, -33, -32, -31,\n",
              "       -32, -31, -32, -31, -30, -29, -30, -31, -30, -31, -32, -33, -32,\n",
              "       -33, -32, -31, -30, -31, -32, -31, -30, -29, -28, -29, -28, -29,\n",
              "       -28, -29, -28, -27, -28, -29, -28, -29, -28, -29, -28, -27, -28,\n",
              "       -29, -28, -27, -28, -27, -26, -25, -26, -25, -26, -25, -26, -27,\n",
              "       -28, -29, -28, -29, -28, -29, -30, -31, -32, -31, -30, -31, -32,\n",
              "       -31, -30, -29, -30, -31, -32, -31, -32, -31, -32, -33, -32, -33,\n",
              "       -34, -35, -36, -35, -36, -37, -36, -35, -34, -33, -32, -33, -32,\n",
              "       -31, -32, -31, -32, -33, -32, -33, -34, -33, -32, -33, -34, -35,\n",
              "       -36, -35, -34, -35, -36, -35, -36, -35, -36, -35, -36, -37, -36,\n",
              "       -35, -36, -35, -36, -37, -36, -37, -38, -37, -36, -37, -36, -35,\n",
              "       -34, -35, -34, -35, -36, -37, -38, -37, -38, -37, -36, -35, -36,\n",
              "       -35, -36, -35, -36, -37, -38, -37, -38, -37, -36, -37, -36, -37,\n",
              "       -36, -37, -36, -35, -36, -37, -38, -39, -40, -41, -42, -43, -44,\n",
              "       -45, -46, -47, -46, -47, -48, -49, -48, -47, -48, -49, -48])"
            ]
          },
          "metadata": {
            "tags": []
          },
          "execution_count": 201
        }
      ]
    },
    {
      "cell_type": "code",
      "metadata": {
        "id": "fqt47YuWB1K2",
        "colab_type": "code",
        "outputId": "040c2d65-57b7-46d5-fb7b-e6158181567b",
        "colab": {
          "base_uri": "https://localhost:8080/",
          "height": 34
        }
      },
      "source": [
        "walk.min()"
      ],
      "execution_count": 0,
      "outputs": [
        {
          "output_type": "execute_result",
          "data": {
            "text/plain": [
              "-49"
            ]
          },
          "metadata": {
            "tags": []
          },
          "execution_count": 202
        }
      ]
    },
    {
      "cell_type": "code",
      "metadata": {
        "id": "KRswjsaYCPKX",
        "colab_type": "code",
        "outputId": "de45a97a-a405-4543-892a-0c518a90b7bf",
        "colab": {
          "base_uri": "https://localhost:8080/",
          "height": 34
        }
      },
      "source": [
        "walk.max()"
      ],
      "execution_count": 0,
      "outputs": [
        {
          "output_type": "execute_result",
          "data": {
            "text/plain": [
              "18"
            ]
          },
          "metadata": {
            "tags": []
          },
          "execution_count": 203
        }
      ]
    },
    {
      "cell_type": "code",
      "metadata": {
        "id": "tgrc7-1IEM1l",
        "colab_type": "code",
        "outputId": "7438dbfa-9204-4ee8-b843-4276cf768b05",
        "colab": {
          "base_uri": "https://localhost:8080/",
          "height": 1921
        }
      },
      "source": [
        "np.abs(walk)>=10"
      ],
      "execution_count": 0,
      "outputs": [
        {
          "output_type": "execute_result",
          "data": {
            "text/plain": [
              "array([False, False, False, False, False, False, False, False, False,\n",
              "       False, False, False, False, False, False, False, False, False,\n",
              "       False, False, False, False, False, False, False, False, False,\n",
              "       False, False, False, False, False, False, False, False, False,\n",
              "       False, False, False, False, False, False, False, False, False,\n",
              "       False, False, False, False, False, False, False, False, False,\n",
              "       False, False, False, False, False, False, False, False, False,\n",
              "       False, False, False, False, False, False, False, False, False,\n",
              "       False, False, False, False, False, False, False, False, False,\n",
              "       False, False, False, False, False, False, False, False, False,\n",
              "       False, False, False, False, False, False, False, False, False,\n",
              "       False, False, False, False, False, False, False, False,  True,\n",
              "        True,  True,  True,  True,  True,  True,  True,  True,  True,\n",
              "        True,  True,  True,  True,  True,  True,  True,  True,  True,\n",
              "        True,  True,  True,  True,  True,  True,  True,  True,  True,\n",
              "        True,  True,  True,  True,  True,  True,  True,  True,  True,\n",
              "        True,  True,  True,  True,  True,  True,  True,  True,  True,\n",
              "        True,  True,  True,  True,  True,  True,  True,  True,  True,\n",
              "        True,  True,  True,  True,  True,  True,  True,  True,  True,\n",
              "        True,  True,  True,  True,  True,  True,  True,  True,  True,\n",
              "        True,  True,  True,  True, False,  True, False,  True,  True,\n",
              "        True,  True,  True, False, False, False, False, False, False,\n",
              "       False, False, False, False, False, False, False, False, False,\n",
              "       False, False, False, False, False, False, False, False, False,\n",
              "       False, False, False, False, False, False, False, False, False,\n",
              "       False, False, False, False, False, False, False, False, False,\n",
              "       False, False, False, False, False, False, False, False, False,\n",
              "        True,  True,  True,  True,  True,  True,  True,  True,  True,\n",
              "        True,  True, False, False, False, False, False,  True, False,\n",
              "       False, False,  True,  True,  True,  True,  True,  True,  True,\n",
              "        True,  True,  True,  True, False, False, False, False, False,\n",
              "        True, False,  True,  True,  True,  True,  True,  True,  True,\n",
              "        True,  True,  True,  True,  True,  True, False,  True,  True,\n",
              "        True,  True,  True, False,  True,  True,  True,  True,  True,\n",
              "        True,  True,  True,  True,  True,  True,  True,  True,  True,\n",
              "        True,  True,  True,  True,  True,  True,  True, False,  True,\n",
              "       False,  True, False,  True,  True,  True,  True,  True,  True,\n",
              "        True,  True,  True,  True,  True,  True,  True,  True,  True,\n",
              "        True,  True,  True,  True,  True,  True,  True,  True,  True,\n",
              "        True,  True,  True,  True,  True,  True,  True,  True,  True,\n",
              "        True,  True,  True,  True,  True,  True,  True,  True,  True,\n",
              "        True,  True,  True,  True,  True,  True,  True,  True,  True,\n",
              "        True,  True,  True,  True,  True,  True,  True,  True,  True,\n",
              "        True,  True,  True,  True,  True,  True,  True,  True,  True,\n",
              "        True,  True,  True,  True, False,  True, False,  True,  True,\n",
              "        True,  True,  True,  True,  True,  True,  True,  True,  True,\n",
              "        True,  True,  True,  True, False, False, False, False, False,\n",
              "       False, False, False, False, False, False, False, False, False,\n",
              "       False, False, False, False, False, False, False,  True, False,\n",
              "       False, False,  True, False, False, False, False, False, False,\n",
              "       False, False, False, False, False, False, False,  True,  True,\n",
              "        True,  True,  True,  True,  True,  True,  True,  True,  True,\n",
              "        True,  True,  True,  True,  True,  True,  True,  True,  True,\n",
              "        True,  True,  True,  True,  True,  True,  True,  True,  True,\n",
              "        True,  True,  True,  True,  True,  True,  True,  True,  True,\n",
              "        True,  True,  True,  True,  True,  True,  True, False, False,\n",
              "       False, False, False, False, False, False, False, False, False,\n",
              "       False, False, False, False, False, False, False, False, False,\n",
              "       False, False, False, False, False, False, False,  True,  True,\n",
              "        True,  True,  True,  True,  True, False,  True,  True,  True,\n",
              "       False,  True, False,  True,  True,  True,  True,  True,  True,\n",
              "        True,  True,  True, False,  True,  True,  True, False, False,\n",
              "       False, False, False, False, False, False, False, False, False,\n",
              "       False, False,  True,  True,  True,  True,  True,  True,  True,\n",
              "        True,  True, False,  True,  True,  True, False,  True, False,\n",
              "        True, False, False, False, False, False, False, False,  True,\n",
              "       False, False, False, False, False, False, False, False, False,\n",
              "       False, False,  True, False, False, False,  True,  True,  True,\n",
              "        True,  True,  True,  True,  True,  True,  True,  True,  True,\n",
              "        True, False, False, False, False, False, False, False, False,\n",
              "       False, False, False, False, False, False, False, False, False,\n",
              "       False, False, False, False, False, False, False, False, False,\n",
              "       False, False, False, False, False, False, False, False, False,\n",
              "       False, False, False, False, False, False, False, False, False,\n",
              "       False, False, False, False, False, False, False, False, False,\n",
              "       False, False, False, False, False, False, False, False, False,\n",
              "       False, False, False, False, False, False, False, False, False,\n",
              "        True, False,  True, False, False, False, False, False, False,\n",
              "       False,  True,  True,  True,  True,  True,  True,  True, False,\n",
              "        True, False, False, False, False, False, False, False, False,\n",
              "       False,  True,  True,  True, False,  True,  True,  True,  True,\n",
              "        True,  True,  True,  True,  True,  True,  True,  True,  True,\n",
              "        True,  True,  True,  True,  True,  True,  True,  True,  True,\n",
              "        True,  True,  True,  True,  True,  True,  True,  True,  True,\n",
              "        True,  True,  True,  True,  True,  True,  True,  True,  True,\n",
              "        True,  True,  True,  True,  True,  True,  True,  True,  True,\n",
              "        True,  True,  True,  True,  True,  True,  True,  True,  True,\n",
              "        True,  True,  True,  True,  True,  True,  True,  True,  True,\n",
              "        True,  True,  True,  True,  True,  True,  True,  True,  True,\n",
              "        True,  True,  True,  True,  True,  True,  True,  True,  True,\n",
              "        True,  True,  True,  True,  True,  True,  True,  True,  True,\n",
              "        True,  True,  True,  True,  True,  True,  True,  True,  True,\n",
              "        True,  True,  True,  True,  True,  True,  True,  True,  True,\n",
              "        True,  True,  True,  True,  True,  True,  True,  True,  True,\n",
              "        True,  True,  True,  True,  True,  True,  True,  True,  True,\n",
              "        True,  True,  True,  True,  True,  True,  True,  True,  True,\n",
              "        True,  True,  True,  True,  True,  True,  True,  True,  True,\n",
              "        True,  True,  True,  True,  True,  True,  True,  True,  True,\n",
              "        True,  True,  True,  True,  True,  True,  True,  True,  True,\n",
              "        True,  True,  True,  True,  True,  True,  True,  True,  True,\n",
              "        True,  True,  True,  True,  True,  True,  True,  True,  True,\n",
              "        True,  True,  True,  True,  True,  True,  True,  True,  True,\n",
              "        True,  True,  True,  True,  True,  True,  True,  True,  True,\n",
              "        True,  True,  True,  True,  True,  True,  True,  True,  True,\n",
              "        True,  True,  True,  True,  True,  True,  True,  True,  True,\n",
              "        True,  True,  True,  True,  True,  True,  True,  True,  True,\n",
              "        True,  True,  True,  True,  True,  True,  True,  True,  True,\n",
              "        True,  True,  True,  True,  True,  True,  True,  True,  True,\n",
              "        True,  True,  True,  True,  True,  True,  True,  True,  True,\n",
              "        True,  True,  True,  True,  True,  True,  True,  True,  True,\n",
              "        True,  True,  True,  True,  True,  True,  True,  True,  True,\n",
              "        True])"
            ]
          },
          "metadata": {
            "tags": []
          },
          "execution_count": 204
        }
      ]
    },
    {
      "cell_type": "code",
      "metadata": {
        "id": "hJzELFzpCT7-",
        "colab_type": "code",
        "outputId": "e388fcb1-8dd0-4c46-fea0-6dea08a8f564",
        "colab": {
          "base_uri": "https://localhost:8080/",
          "height": 34
        }
      },
      "source": [
        "(np.abs(walk)>=10).argmax()"
      ],
      "execution_count": 0,
      "outputs": [
        {
          "output_type": "execute_result",
          "data": {
            "text/plain": [
              "107"
            ]
          },
          "metadata": {
            "tags": []
          },
          "execution_count": 205
        }
      ]
    },
    {
      "cell_type": "code",
      "metadata": {
        "id": "qSyzyjyKfXFF",
        "colab_type": "code",
        "outputId": "df1b02ba-1106-4ba1-81a5-15fa82849ed3",
        "colab": {
          "base_uri": "https://localhost:8080/",
          "height": 136
        }
      },
      "source": [
        "nwalks=5000\n",
        "nsteps=1000\n",
        "draws=np.random.randint(0,2,size=(nwalks,nsteps))\n",
        "steps=np.where(draws>0,1,-1)\n",
        "walks=steps.cumsum(1)\n",
        "walks"
      ],
      "execution_count": 0,
      "outputs": [
        {
          "output_type": "execute_result",
          "data": {
            "text/plain": [
              "array([[ -1,  -2,  -3, ..., -18, -19, -18],\n",
              "       [  1,   0,  -1, ...,  30,  31,  30],\n",
              "       [ -1,   0,   1, ...,  20,  21,  20],\n",
              "       ...,\n",
              "       [  1,   2,   1, ...,   2,   1,   0],\n",
              "       [ -1,  -2,  -1, ...,  10,  11,  12],\n",
              "       [ -1,  -2,  -1, ..., -36, -37, -36]])"
            ]
          },
          "metadata": {
            "tags": []
          },
          "execution_count": 206
        }
      ]
    },
    {
      "cell_type": "code",
      "metadata": {
        "id": "J4Hqhzukrmxg",
        "colab_type": "code",
        "outputId": "89c60d85-47b5-44d2-8e03-456605b80223",
        "colab": {
          "base_uri": "https://localhost:8080/",
          "height": 34
        }
      },
      "source": [
        "walks.min()"
      ],
      "execution_count": 0,
      "outputs": [
        {
          "output_type": "execute_result",
          "data": {
            "text/plain": [
              "-140"
            ]
          },
          "metadata": {
            "tags": []
          },
          "execution_count": 207
        }
      ]
    },
    {
      "cell_type": "code",
      "metadata": {
        "id": "ksouZUALrr0Y",
        "colab_type": "code",
        "outputId": "8c0df6fc-dafd-4328-ecd1-9a797c1709e4",
        "colab": {
          "base_uri": "https://localhost:8080/",
          "height": 34
        }
      },
      "source": [
        "walks.max()"
      ],
      "execution_count": 0,
      "outputs": [
        {
          "output_type": "execute_result",
          "data": {
            "text/plain": [
              "124"
            ]
          },
          "metadata": {
            "tags": []
          },
          "execution_count": 208
        }
      ]
    },
    {
      "cell_type": "code",
      "metadata": {
        "id": "B83ab3wTuWiQ",
        "colab_type": "code",
        "outputId": "6d99ef84-a513-41dc-f73e-e4813e69c8a0",
        "colab": {
          "base_uri": "https://localhost:8080/",
          "height": 34
        }
      },
      "source": [
        "hits30=(np.abs(walks)>=30).any(1)\n",
        "hits30"
      ],
      "execution_count": 0,
      "outputs": [
        {
          "output_type": "execute_result",
          "data": {
            "text/plain": [
              "array([False,  True,  True, ..., False,  True,  True])"
            ]
          },
          "metadata": {
            "tags": []
          },
          "execution_count": 209
        }
      ]
    },
    {
      "cell_type": "code",
      "metadata": {
        "id": "63hG7N5gu8aV",
        "colab_type": "code",
        "outputId": "4cfc6385-f97f-4bb7-95f6-bf06310f9b78",
        "colab": {
          "base_uri": "https://localhost:8080/",
          "height": 34
        }
      },
      "source": [
        "hits30.sum()"
      ],
      "execution_count": 0,
      "outputs": [
        {
          "output_type": "execute_result",
          "data": {
            "text/plain": [
              "3369"
            ]
          },
          "metadata": {
            "tags": []
          },
          "execution_count": 210
        }
      ]
    },
    {
      "cell_type": "code",
      "metadata": {
        "id": "UxPuPsr3vDSI",
        "colab_type": "code",
        "outputId": "c2d76bb7-8fac-4d0f-db71-d59f5a214f07",
        "colab": {
          "base_uri": "https://localhost:8080/",
          "height": 34
        }
      },
      "source": [
        "crossing_times=(np.abs(walks[hits30])>=30).argmax(1)\n",
        "crossing_times"
      ],
      "execution_count": 0,
      "outputs": [
        {
          "output_type": "execute_result",
          "data": {
            "text/plain": [
              "array([407, 763, 317, ..., 491, 417, 341])"
            ]
          },
          "metadata": {
            "tags": []
          },
          "execution_count": 211
        }
      ]
    },
    {
      "cell_type": "code",
      "metadata": {
        "id": "hhSngV4zvlKu",
        "colab_type": "code",
        "outputId": "0569bed9-7615-4cce-b354-8717678ba39f",
        "colab": {
          "base_uri": "https://localhost:8080/",
          "height": 34
        }
      },
      "source": [
        "crossing_times.mean()"
      ],
      "execution_count": 0,
      "outputs": [
        {
          "output_type": "execute_result",
          "data": {
            "text/plain": [
              "509.46363906203624"
            ]
          },
          "metadata": {
            "tags": []
          },
          "execution_count": 212
        }
      ]
    },
    {
      "cell_type": "code",
      "metadata": {
        "id": "znE5DRNCv8u7",
        "colab_type": "code",
        "outputId": "554dc528-8733-4d68-d078-ba4c68f6b8c3",
        "colab": {
          "base_uri": "https://localhost:8080/",
          "height": 136
        }
      },
      "source": [
        "walks[hits30]"
      ],
      "execution_count": 0,
      "outputs": [
        {
          "output_type": "execute_result",
          "data": {
            "text/plain": [
              "array([[  1,   0,  -1, ...,  30,  31,  30],\n",
              "       [ -1,   0,   1, ...,  20,  21,  20],\n",
              "       [ -1,   0,   1, ..., -12, -11, -12],\n",
              "       ...,\n",
              "       [  1,   0,   1, ..., -26, -27, -28],\n",
              "       [ -1,  -2,  -1, ...,  10,  11,  12],\n",
              "       [ -1,  -2,  -1, ..., -36, -37, -36]])"
            ]
          },
          "metadata": {
            "tags": []
          },
          "execution_count": 213
        }
      ]
    },
    {
      "cell_type": "markdown",
      "metadata": {
        "id": "2D5kNG3x5DH9",
        "colab_type": "text"
      },
      "source": [
        "**Appendix A**"
      ]
    },
    {
      "cell_type": "code",
      "metadata": {
        "id": "Cl2Alsn15GIC",
        "colab_type": "code",
        "outputId": "7220e436-4cc2-4c5f-bd96-b5d773fa0678",
        "colab": {
          "base_uri": "https://localhost:8080/",
          "height": 34
        }
      },
      "source": [
        "np.ones((3,4,5),dtype=np.float64).strides"
      ],
      "execution_count": 0,
      "outputs": [
        {
          "output_type": "execute_result",
          "data": {
            "text/plain": [
              "(160, 40, 8)"
            ]
          },
          "metadata": {
            "tags": []
          },
          "execution_count": 214
        }
      ]
    },
    {
      "cell_type": "code",
      "metadata": {
        "id": "lnvKwFfe4MZt",
        "colab_type": "code",
        "outputId": "762763bf-188c-4373-895e-a8515afb939b",
        "colab": {
          "base_uri": "https://localhost:8080/",
          "height": 34
        }
      },
      "source": [
        "ints=np.ones(10,dtype=np.uint16)\n",
        "floats=np.ones(10,dtype=np.float32)\n",
        "np.issubdtype(ints.dtype,np.integer)"
      ],
      "execution_count": 0,
      "outputs": [
        {
          "output_type": "execute_result",
          "data": {
            "text/plain": [
              "True"
            ]
          },
          "metadata": {
            "tags": []
          },
          "execution_count": 215
        }
      ]
    },
    {
      "cell_type": "code",
      "metadata": {
        "id": "irFDNFGv4rE9",
        "colab_type": "code",
        "outputId": "ef0b3306-3e8e-46b3-cd25-748b2823b907",
        "colab": {
          "base_uri": "https://localhost:8080/",
          "height": 34
        }
      },
      "source": [
        "np.issubdtype(floats.dtype,np.floating)"
      ],
      "execution_count": 0,
      "outputs": [
        {
          "output_type": "execute_result",
          "data": {
            "text/plain": [
              "True"
            ]
          },
          "metadata": {
            "tags": []
          },
          "execution_count": 216
        }
      ]
    },
    {
      "cell_type": "code",
      "metadata": {
        "id": "N4cAu7p05BDP",
        "colab_type": "code",
        "outputId": "a488f296-74e1-4cf0-83d4-65b9b25208f6",
        "colab": {
          "base_uri": "https://localhost:8080/",
          "height": 136
        }
      },
      "source": [
        "np.float64.mro()"
      ],
      "execution_count": 0,
      "outputs": [
        {
          "output_type": "execute_result",
          "data": {
            "text/plain": [
              "[numpy.float64,\n",
              " numpy.floating,\n",
              " numpy.inexact,\n",
              " numpy.number,\n",
              " numpy.generic,\n",
              " float,\n",
              " object]"
            ]
          },
          "metadata": {
            "tags": []
          },
          "execution_count": 217
        }
      ]
    },
    {
      "cell_type": "code",
      "metadata": {
        "id": "TNusO4oD5dLk",
        "colab_type": "code",
        "outputId": "72968e31-e538-44aa-a801-669c2a1cbb23",
        "colab": {
          "base_uri": "https://localhost:8080/",
          "height": 34
        }
      },
      "source": [
        "np.issubdtype(ints.dtype,np.number)"
      ],
      "execution_count": 0,
      "outputs": [
        {
          "output_type": "execute_result",
          "data": {
            "text/plain": [
              "True"
            ]
          },
          "metadata": {
            "tags": []
          },
          "execution_count": 218
        }
      ]
    },
    {
      "cell_type": "code",
      "metadata": {
        "id": "2_I5iIQI5nlk",
        "colab_type": "code",
        "outputId": "9eefce84-aead-4580-ca18-725723716730",
        "colab": {
          "base_uri": "https://localhost:8080/",
          "height": 34
        }
      },
      "source": [
        "arr=np.arange(8)\n",
        "arr"
      ],
      "execution_count": 0,
      "outputs": [
        {
          "output_type": "execute_result",
          "data": {
            "text/plain": [
              "array([0, 1, 2, 3, 4, 5, 6, 7])"
            ]
          },
          "metadata": {
            "tags": []
          },
          "execution_count": 219
        }
      ]
    },
    {
      "cell_type": "code",
      "metadata": {
        "id": "ai_ZRS3o5rBY",
        "colab_type": "code",
        "outputId": "8335750b-01e2-4da6-cfb9-624982099f5c",
        "colab": {
          "base_uri": "https://localhost:8080/",
          "height": 85
        }
      },
      "source": [
        "arr.reshape((4,2))"
      ],
      "execution_count": 0,
      "outputs": [
        {
          "output_type": "execute_result",
          "data": {
            "text/plain": [
              "array([[0, 1],\n",
              "       [2, 3],\n",
              "       [4, 5],\n",
              "       [6, 7]])"
            ]
          },
          "metadata": {
            "tags": []
          },
          "execution_count": 220
        }
      ]
    },
    {
      "cell_type": "code",
      "metadata": {
        "id": "BsL4TqH0521T",
        "colab_type": "code",
        "outputId": "0556f5d6-db32-49c1-ce0d-60348c34b13f",
        "colab": {
          "base_uri": "https://localhost:8080/",
          "height": 51
        }
      },
      "source": [
        "arr.reshape((4,2)).reshape((2,4))"
      ],
      "execution_count": 0,
      "outputs": [
        {
          "output_type": "execute_result",
          "data": {
            "text/plain": [
              "array([[0, 1, 2, 3],\n",
              "       [4, 5, 6, 7]])"
            ]
          },
          "metadata": {
            "tags": []
          },
          "execution_count": 221
        }
      ]
    },
    {
      "cell_type": "code",
      "metadata": {
        "id": "o87jrbAf5_Ak",
        "colab_type": "code",
        "outputId": "dfc5b121-c163-4640-9f33-5877f21d1180",
        "colab": {
          "base_uri": "https://localhost:8080/",
          "height": 102
        }
      },
      "source": [
        "arr=np.arange(15)\n",
        "arr.reshape((5,-1))"
      ],
      "execution_count": 0,
      "outputs": [
        {
          "output_type": "execute_result",
          "data": {
            "text/plain": [
              "array([[ 0,  1,  2],\n",
              "       [ 3,  4,  5],\n",
              "       [ 6,  7,  8],\n",
              "       [ 9, 10, 11],\n",
              "       [12, 13, 14]])"
            ]
          },
          "metadata": {
            "tags": []
          },
          "execution_count": 222
        }
      ]
    },
    {
      "cell_type": "code",
      "metadata": {
        "id": "50rNxQh97EV3",
        "colab_type": "code",
        "outputId": "b48d8513-c7ac-4c8b-9308-d2ab6c10c295",
        "colab": {
          "base_uri": "https://localhost:8080/",
          "height": 34
        }
      },
      "source": [
        "other_arr = np.ones((3, 5))\n",
        "other_arr.shape"
      ],
      "execution_count": 0,
      "outputs": [
        {
          "output_type": "execute_result",
          "data": {
            "text/plain": [
              "(3, 5)"
            ]
          },
          "metadata": {
            "tags": []
          },
          "execution_count": 223
        }
      ]
    },
    {
      "cell_type": "code",
      "metadata": {
        "id": "ojEUrCfm7LKo",
        "colab_type": "code",
        "outputId": "be781fa1-a0d1-4391-bf8a-90953b9f0c6a",
        "colab": {
          "base_uri": "https://localhost:8080/",
          "height": 68
        }
      },
      "source": [
        "arr.reshape(other_arr.shape)"
      ],
      "execution_count": 0,
      "outputs": [
        {
          "output_type": "execute_result",
          "data": {
            "text/plain": [
              "array([[ 0,  1,  2,  3,  4],\n",
              "       [ 5,  6,  7,  8,  9],\n",
              "       [10, 11, 12, 13, 14]])"
            ]
          },
          "metadata": {
            "tags": []
          },
          "execution_count": 224
        }
      ]
    },
    {
      "cell_type": "code",
      "metadata": {
        "id": "mnMqFmp871tn",
        "colab_type": "code",
        "outputId": "cfb241eb-f5e8-474b-dba9-0d4c17ce9f29",
        "colab": {
          "base_uri": "https://localhost:8080/",
          "height": 34
        }
      },
      "source": [
        "arr.flatten()"
      ],
      "execution_count": 0,
      "outputs": [
        {
          "output_type": "execute_result",
          "data": {
            "text/plain": [
              "array([ 0,  1,  2,  3,  4,  5,  6,  7,  8,  9, 10, 11, 12, 13, 14])"
            ]
          },
          "metadata": {
            "tags": []
          },
          "execution_count": 225
        }
      ]
    },
    {
      "cell_type": "code",
      "metadata": {
        "id": "elT5CHVr74W4",
        "colab_type": "code",
        "outputId": "c44ea9c4-a5ab-48aa-9fc9-33add1452afc",
        "colab": {
          "base_uri": "https://localhost:8080/",
          "height": 34
        }
      },
      "source": [
        "arr.ravel()"
      ],
      "execution_count": 0,
      "outputs": [
        {
          "output_type": "execute_result",
          "data": {
            "text/plain": [
              "array([ 0,  1,  2,  3,  4,  5,  6,  7,  8,  9, 10, 11, 12, 13, 14])"
            ]
          },
          "metadata": {
            "tags": []
          },
          "execution_count": 226
        }
      ]
    },
    {
      "cell_type": "code",
      "metadata": {
        "id": "SN0UUJgxHdb1",
        "colab_type": "code",
        "outputId": "f08623af-34bc-4934-e8b4-3b2c956334e5",
        "colab": {
          "base_uri": "https://localhost:8080/",
          "height": 68
        }
      },
      "source": [
        "arr = np.arange(12).reshape((3, 4))\n",
        "arr"
      ],
      "execution_count": 0,
      "outputs": [
        {
          "output_type": "execute_result",
          "data": {
            "text/plain": [
              "array([[ 0,  1,  2,  3],\n",
              "       [ 4,  5,  6,  7],\n",
              "       [ 8,  9, 10, 11]])"
            ]
          },
          "metadata": {
            "tags": []
          },
          "execution_count": 227
        }
      ]
    },
    {
      "cell_type": "code",
      "metadata": {
        "id": "MEZOSMQwKfQg",
        "colab_type": "code",
        "outputId": "14df58f3-9592-492e-c90f-3fb1fb3ac5e4",
        "colab": {
          "base_uri": "https://localhost:8080/",
          "height": 34
        }
      },
      "source": [
        "arr.ravel()"
      ],
      "execution_count": 0,
      "outputs": [
        {
          "output_type": "execute_result",
          "data": {
            "text/plain": [
              "array([ 0,  1,  2,  3,  4,  5,  6,  7,  8,  9, 10, 11])"
            ]
          },
          "metadata": {
            "tags": []
          },
          "execution_count": 228
        }
      ]
    },
    {
      "cell_type": "code",
      "metadata": {
        "id": "Xm0qhZY7KpmW",
        "colab_type": "code",
        "outputId": "c0101f91-43ce-4f47-9bf5-1a18c1640ec6",
        "colab": {
          "base_uri": "https://localhost:8080/",
          "height": 34
        }
      },
      "source": [
        "arr.ravel('F')"
      ],
      "execution_count": 0,
      "outputs": [
        {
          "output_type": "execute_result",
          "data": {
            "text/plain": [
              "array([ 0,  4,  8,  1,  5,  9,  2,  6, 10,  3,  7, 11])"
            ]
          },
          "metadata": {
            "tags": []
          },
          "execution_count": 229
        }
      ]
    },
    {
      "cell_type": "code",
      "metadata": {
        "id": "I3QhB_k0a5ZC",
        "colab_type": "code",
        "outputId": "6de8f5c3-9acd-492c-be92-84bda8d6b9c3",
        "colab": {
          "base_uri": "https://localhost:8080/",
          "height": 85
        }
      },
      "source": [
        "arr1=np.arange(6).reshape(2,3)\n",
        "arr2=np.arange(7,13).reshape(2,3)\n",
        "np.concatenate([arr1,arr2],axis=0)"
      ],
      "execution_count": 0,
      "outputs": [
        {
          "output_type": "execute_result",
          "data": {
            "text/plain": [
              "array([[ 0,  1,  2],\n",
              "       [ 3,  4,  5],\n",
              "       [ 7,  8,  9],\n",
              "       [10, 11, 12]])"
            ]
          },
          "metadata": {
            "tags": []
          },
          "execution_count": 230
        }
      ]
    },
    {
      "cell_type": "code",
      "metadata": {
        "id": "2XEx_7ZXi4pa",
        "colab_type": "code",
        "outputId": "4e106494-3b4f-4d8b-9cbb-47b80db3f437",
        "colab": {
          "base_uri": "https://localhost:8080/",
          "height": 51
        }
      },
      "source": [
        "np.concatenate([arr1,arr2],axis=1)"
      ],
      "execution_count": 0,
      "outputs": [
        {
          "output_type": "execute_result",
          "data": {
            "text/plain": [
              "array([[ 0,  1,  2,  7,  8,  9],\n",
              "       [ 3,  4,  5, 10, 11, 12]])"
            ]
          },
          "metadata": {
            "tags": []
          },
          "execution_count": 231
        }
      ]
    },
    {
      "cell_type": "code",
      "metadata": {
        "id": "Tv3ynwspkXsk",
        "colab_type": "code",
        "outputId": "9268902f-5178-4596-abae-8c44735a565c",
        "colab": {
          "base_uri": "https://localhost:8080/",
          "height": 85
        }
      },
      "source": [
        "np.vstack((arr1,arr2))"
      ],
      "execution_count": 0,
      "outputs": [
        {
          "output_type": "execute_result",
          "data": {
            "text/plain": [
              "array([[ 0,  1,  2],\n",
              "       [ 3,  4,  5],\n",
              "       [ 7,  8,  9],\n",
              "       [10, 11, 12]])"
            ]
          },
          "metadata": {
            "tags": []
          },
          "execution_count": 232
        }
      ]
    },
    {
      "cell_type": "code",
      "metadata": {
        "id": "y_J8dkBekf8Z",
        "colab_type": "code",
        "outputId": "41bd6eba-1ab4-4569-da0a-99e1395475a7",
        "colab": {
          "base_uri": "https://localhost:8080/",
          "height": 51
        }
      },
      "source": [
        "np.hstack((arr1,arr2))\n"
      ],
      "execution_count": 0,
      "outputs": [
        {
          "output_type": "execute_result",
          "data": {
            "text/plain": [
              "array([[ 0,  1,  2,  7,  8,  9],\n",
              "       [ 3,  4,  5, 10, 11, 12]])"
            ]
          },
          "metadata": {
            "tags": []
          },
          "execution_count": 233
        }
      ]
    },
    {
      "cell_type": "code",
      "metadata": {
        "id": "Y-pOm_15_CX2",
        "colab_type": "code",
        "outputId": "1e6e414c-7066-4b69-bc97-086b6f35a589",
        "colab": {
          "base_uri": "https://localhost:8080/",
          "height": 51
        }
      },
      "source": [
        "np.column_stack((arr1,arr2))"
      ],
      "execution_count": 0,
      "outputs": [
        {
          "output_type": "execute_result",
          "data": {
            "text/plain": [
              "array([[ 0,  1,  2,  7,  8,  9],\n",
              "       [ 3,  4,  5, 10, 11, 12]])"
            ]
          },
          "metadata": {
            "tags": []
          },
          "execution_count": 234
        }
      ]
    },
    {
      "cell_type": "code",
      "metadata": {
        "id": "FJy8FG9vEYqe",
        "colab_type": "code",
        "outputId": "2f5c2b81-0304-4adb-9e6e-02ae262629d9",
        "colab": {
          "base_uri": "https://localhost:8080/",
          "height": 136
        }
      },
      "source": [
        "np.dstack((arr1,arr2))"
      ],
      "execution_count": 0,
      "outputs": [
        {
          "output_type": "execute_result",
          "data": {
            "text/plain": [
              "array([[[ 0,  7],\n",
              "        [ 1,  8],\n",
              "        [ 2,  9]],\n",
              "\n",
              "       [[ 3, 10],\n",
              "        [ 4, 11],\n",
              "        [ 5, 12]]])"
            ]
          },
          "metadata": {
            "tags": []
          },
          "execution_count": 235
        }
      ]
    },
    {
      "cell_type": "code",
      "metadata": {
        "id": "o51FyBWE2TSD",
        "colab_type": "code",
        "outputId": "8e9b7ef2-4ec4-4259-94f9-2861046e25f1",
        "colab": {
          "base_uri": "https://localhost:8080/",
          "height": 102
        }
      },
      "source": [
        "arr=np.random.randn(5,2)\n",
        "arr\n"
      ],
      "execution_count": 0,
      "outputs": [
        {
          "output_type": "execute_result",
          "data": {
            "text/plain": [
              "array([[-2.44354183,  0.85807849],\n",
              "       [-0.29627223, -0.19982678],\n",
              "       [ 0.74684609, -0.25283315],\n",
              "       [ 1.91180949, -1.37975174],\n",
              "       [-0.80095209,  0.03548349]])"
            ]
          },
          "metadata": {
            "tags": []
          },
          "execution_count": 236
        }
      ]
    },
    {
      "cell_type": "code",
      "metadata": {
        "id": "L_Anj_Ya2g-J",
        "colab_type": "code",
        "outputId": "496fa465-8cdc-4b5d-9106-a18cf24d19f5",
        "colab": {
          "base_uri": "https://localhost:8080/",
          "height": 34
        }
      },
      "source": [
        "first,second,third=np.split(arr,[1,3])\n",
        "first"
      ],
      "execution_count": 0,
      "outputs": [
        {
          "output_type": "execute_result",
          "data": {
            "text/plain": [
              "array([[-2.44354183,  0.85807849]])"
            ]
          },
          "metadata": {
            "tags": []
          },
          "execution_count": 237
        }
      ]
    },
    {
      "cell_type": "code",
      "metadata": {
        "id": "KTEOAOih2waw",
        "colab_type": "code",
        "outputId": "a4e9f9a8-3c63-4fba-bc14-df143a9f970a",
        "colab": {
          "base_uri": "https://localhost:8080/",
          "height": 51
        }
      },
      "source": [
        "second"
      ],
      "execution_count": 0,
      "outputs": [
        {
          "output_type": "execute_result",
          "data": {
            "text/plain": [
              "array([[-0.29627223, -0.19982678],\n",
              "       [ 0.74684609, -0.25283315]])"
            ]
          },
          "metadata": {
            "tags": []
          },
          "execution_count": 238
        }
      ]
    },
    {
      "cell_type": "code",
      "metadata": {
        "id": "q4RGPcuC2x29",
        "colab_type": "code",
        "outputId": "36af9ff6-5abf-49fb-cb3b-895e6b0cf7b2",
        "colab": {
          "base_uri": "https://localhost:8080/",
          "height": 51
        }
      },
      "source": [
        "third"
      ],
      "execution_count": 0,
      "outputs": [
        {
          "output_type": "execute_result",
          "data": {
            "text/plain": [
              "array([[ 1.91180949, -1.37975174],\n",
              "       [-0.80095209,  0.03548349]])"
            ]
          },
          "metadata": {
            "tags": []
          },
          "execution_count": 239
        }
      ]
    },
    {
      "cell_type": "code",
      "metadata": {
        "id": "2Xqd053yle8Q",
        "colab_type": "code",
        "outputId": "b475963b-7659-4df3-9122-dc49683f120c",
        "colab": {
          "base_uri": "https://localhost:8080/",
          "height": 34
        }
      },
      "source": [
        "fir,sec,thir=np.vsplit(arr,[1,3])\n",
        "fir"
      ],
      "execution_count": 0,
      "outputs": [
        {
          "output_type": "execute_result",
          "data": {
            "text/plain": [
              "array([[-2.44354183,  0.85807849]])"
            ]
          },
          "metadata": {
            "tags": []
          },
          "execution_count": 240
        }
      ]
    },
    {
      "cell_type": "code",
      "metadata": {
        "id": "2eXwMyyCmBbT",
        "colab_type": "code",
        "outputId": "1cc6a1c5-ba7f-46d1-a632-efd012fb7af4",
        "colab": {
          "base_uri": "https://localhost:8080/",
          "height": 51
        }
      },
      "source": [
        "arr=np.random.randn(2,5)\n",
        "arr\n"
      ],
      "execution_count": 0,
      "outputs": [
        {
          "output_type": "execute_result",
          "data": {
            "text/plain": [
              "array([[ 0.24222381, -0.49781525,  0.57143753, -0.1983836 , -1.10197434],\n",
              "       [-1.03759042, -0.88595649,  0.36006088,  0.32646933, -0.44313596]])"
            ]
          },
          "metadata": {
            "tags": []
          },
          "execution_count": 241
        }
      ]
    },
    {
      "cell_type": "code",
      "metadata": {
        "id": "Qb4btJzQmHo4",
        "colab_type": "code",
        "outputId": "53679dd3-832b-4a85-f1a1-3047830b6480",
        "colab": {
          "base_uri": "https://localhost:8080/",
          "height": 51
        }
      },
      "source": [
        "fir,sec,thir=np.hsplit(arr,[1,3])\n",
        "fir"
      ],
      "execution_count": 0,
      "outputs": [
        {
          "output_type": "execute_result",
          "data": {
            "text/plain": [
              "array([[ 0.24222381],\n",
              "       [-1.03759042]])"
            ]
          },
          "metadata": {
            "tags": []
          },
          "execution_count": 242
        }
      ]
    },
    {
      "cell_type": "code",
      "metadata": {
        "id": "7KxLAwSqmMxA",
        "colab_type": "code",
        "outputId": "e4a57e2d-aa77-47af-b56c-01bc3c8f058f",
        "colab": {
          "base_uri": "https://localhost:8080/",
          "height": 51
        }
      },
      "source": [
        "sec"
      ],
      "execution_count": 0,
      "outputs": [
        {
          "output_type": "execute_result",
          "data": {
            "text/plain": [
              "array([[-0.49781525,  0.57143753],\n",
              "       [-0.88595649,  0.36006088]])"
            ]
          },
          "metadata": {
            "tags": []
          },
          "execution_count": 243
        }
      ]
    },
    {
      "cell_type": "code",
      "metadata": {
        "id": "YUOc7yP_mQBy",
        "colab_type": "code",
        "outputId": "e1a093ba-b722-474d-cf41-77e3fd9ec605",
        "colab": {
          "base_uri": "https://localhost:8080/",
          "height": 51
        }
      },
      "source": [
        "thir"
      ],
      "execution_count": 0,
      "outputs": [
        {
          "output_type": "execute_result",
          "data": {
            "text/plain": [
              "array([[-0.1983836 , -1.10197434],\n",
              "       [ 0.32646933, -0.44313596]])"
            ]
          },
          "metadata": {
            "tags": []
          },
          "execution_count": 244
        }
      ]
    },
    {
      "cell_type": "code",
      "metadata": {
        "id": "fnLLeWMLnReO",
        "colab_type": "code",
        "outputId": "b5335fce-5398-4fae-83ff-04a86cd8b8a6",
        "colab": {
          "base_uri": "https://localhost:8080/",
          "height": 102
        }
      },
      "source": [
        "x=np.arange(16.0).reshape(2, 2, 4)\n",
        "x"
      ],
      "execution_count": 0,
      "outputs": [
        {
          "output_type": "execute_result",
          "data": {
            "text/plain": [
              "array([[[ 0.,  1.,  2.,  3.],\n",
              "        [ 4.,  5.,  6.,  7.]],\n",
              "\n",
              "       [[ 8.,  9., 10., 11.],\n",
              "        [12., 13., 14., 15.]]])"
            ]
          },
          "metadata": {
            "tags": []
          },
          "execution_count": 245
        }
      ]
    },
    {
      "cell_type": "code",
      "metadata": {
        "id": "t5vKBq34nlRc",
        "colab_type": "code",
        "outputId": "11f0b5cc-c972-49a9-9fab-1a4c6eb193b7",
        "colab": {
          "base_uri": "https://localhost:8080/",
          "height": 170
        }
      },
      "source": [
        "np.dsplit(x,2)"
      ],
      "execution_count": 0,
      "outputs": [
        {
          "output_type": "execute_result",
          "data": {
            "text/plain": [
              "[array([[[ 0.,  1.],\n",
              "         [ 4.,  5.]],\n",
              " \n",
              "        [[ 8.,  9.],\n",
              "         [12., 13.]]]), array([[[ 2.,  3.],\n",
              "         [ 6.,  7.]],\n",
              " \n",
              "        [[10., 11.],\n",
              "         [14., 15.]]])]"
            ]
          },
          "metadata": {
            "tags": []
          },
          "execution_count": 246
        }
      ]
    },
    {
      "cell_type": "code",
      "metadata": {
        "id": "DraPR_BHnqbQ",
        "colab_type": "code",
        "outputId": "e398801d-7b09-485a-9d08-7cca7fb22405",
        "colab": {
          "base_uri": "https://localhost:8080/",
          "height": 170
        }
      },
      "source": [
        "np.dsplit(x,[3,6])"
      ],
      "execution_count": 0,
      "outputs": [
        {
          "output_type": "execute_result",
          "data": {
            "text/plain": [
              "[array([[[ 0.,  1.,  2.],\n",
              "         [ 4.,  5.,  6.]],\n",
              " \n",
              "        [[ 8.,  9., 10.],\n",
              "         [12., 13., 14.]]]), array([[[ 3.],\n",
              "         [ 7.]],\n",
              " \n",
              "        [[11.],\n",
              "         [15.]]]), array([], shape=(2, 2, 0), dtype=float64)]"
            ]
          },
          "metadata": {
            "tags": []
          },
          "execution_count": 247
        }
      ]
    },
    {
      "cell_type": "code",
      "metadata": {
        "id": "BO3wxkKJlrh2",
        "colab_type": "code",
        "colab": {}
      },
      "source": [
        "arr = np.arange(6)\n",
        "arr1 = arr.reshape((3, 2))\n",
        "arr2 = np.random.randn(3, 2)"
      ],
      "execution_count": 0,
      "outputs": []
    },
    {
      "cell_type": "code",
      "metadata": {
        "id": "kKqHvTeaqBI5",
        "colab_type": "code",
        "outputId": "75838062-ffcd-4404-da92-879db9d1f8ce",
        "colab": {
          "base_uri": "https://localhost:8080/",
          "height": 119
        }
      },
      "source": [
        "np.r_[arr1,arr2]"
      ],
      "execution_count": 0,
      "outputs": [
        {
          "output_type": "execute_result",
          "data": {
            "text/plain": [
              "array([[ 0.        ,  1.        ],\n",
              "       [ 2.        ,  3.        ],\n",
              "       [ 4.        ,  5.        ],\n",
              "       [-1.5274301 ,  0.30170213],\n",
              "       [-1.0916824 ,  1.39759704],\n",
              "       [-0.00644447, -0.43206609]])"
            ]
          },
          "metadata": {
            "tags": []
          },
          "execution_count": 249
        }
      ]
    },
    {
      "cell_type": "code",
      "metadata": {
        "id": "R2p99g4ZsJ8c",
        "colab_type": "code",
        "outputId": "71f2f966-ce1e-4264-fe8f-05179387a80a",
        "colab": {
          "base_uri": "https://localhost:8080/",
          "height": 119
        }
      },
      "source": [
        "np.c_[np.r_[arr1,arr2],arr]"
      ],
      "execution_count": 0,
      "outputs": [
        {
          "output_type": "execute_result",
          "data": {
            "text/plain": [
              "array([[ 0.        ,  1.        ,  0.        ],\n",
              "       [ 2.        ,  3.        ,  1.        ],\n",
              "       [ 4.        ,  5.        ,  2.        ],\n",
              "       [-1.5274301 ,  0.30170213,  3.        ],\n",
              "       [-1.0916824 ,  1.39759704,  4.        ],\n",
              "       [-0.00644447, -0.43206609,  5.        ]])"
            ]
          },
          "metadata": {
            "tags": []
          },
          "execution_count": 250
        }
      ]
    },
    {
      "cell_type": "code",
      "metadata": {
        "id": "5muNIMYy0tVv",
        "colab_type": "code",
        "outputId": "ac63b027-076a-4cfd-ac7a-d231f7878325",
        "colab": {
          "base_uri": "https://localhost:8080/",
          "height": 119
        }
      },
      "source": [
        "np.c_[1:7,-10:-4]"
      ],
      "execution_count": 0,
      "outputs": [
        {
          "output_type": "execute_result",
          "data": {
            "text/plain": [
              "array([[  1, -10],\n",
              "       [  2,  -9],\n",
              "       [  3,  -8],\n",
              "       [  4,  -7],\n",
              "       [  5,  -6],\n",
              "       [  6,  -5]])"
            ]
          },
          "metadata": {
            "tags": []
          },
          "execution_count": 251
        }
      ]
    },
    {
      "cell_type": "code",
      "metadata": {
        "id": "C_zGR96QRfWG",
        "colab_type": "code",
        "outputId": "af068bb8-a348-4bdb-f54d-41365afbffc1",
        "colab": {
          "base_uri": "https://localhost:8080/",
          "height": 34
        }
      },
      "source": [
        "arr=np.arange(3)\n",
        "arr"
      ],
      "execution_count": 0,
      "outputs": [
        {
          "output_type": "execute_result",
          "data": {
            "text/plain": [
              "array([0, 1, 2])"
            ]
          },
          "metadata": {
            "tags": []
          },
          "execution_count": 252
        }
      ]
    },
    {
      "cell_type": "code",
      "metadata": {
        "id": "c9Dh_yD3X6Tf",
        "colab_type": "code",
        "outputId": "652e8e46-2520-4573-ff69-28d2bea601d0",
        "colab": {
          "base_uri": "https://localhost:8080/",
          "height": 34
        }
      },
      "source": [
        "arr.repeat(3)"
      ],
      "execution_count": 0,
      "outputs": [
        {
          "output_type": "execute_result",
          "data": {
            "text/plain": [
              "array([0, 0, 0, 1, 1, 1, 2, 2, 2])"
            ]
          },
          "metadata": {
            "tags": []
          },
          "execution_count": 253
        }
      ]
    },
    {
      "cell_type": "code",
      "metadata": {
        "id": "vEHo7R-GbcZU",
        "colab_type": "code",
        "outputId": "59d4708f-63bb-492b-fa0a-4e0a7ed44d72",
        "colab": {
          "base_uri": "https://localhost:8080/",
          "height": 34
        }
      },
      "source": [
        "arr.repeat([2,3,4])"
      ],
      "execution_count": 0,
      "outputs": [
        {
          "output_type": "execute_result",
          "data": {
            "text/plain": [
              "array([0, 0, 1, 1, 1, 2, 2, 2, 2])"
            ]
          },
          "metadata": {
            "tags": []
          },
          "execution_count": 254
        }
      ]
    },
    {
      "cell_type": "code",
      "metadata": {
        "id": "usCV6JCibnNz",
        "colab_type": "code",
        "outputId": "29330575-7f12-43ca-a4a0-a6f18a4b9344",
        "colab": {
          "base_uri": "https://localhost:8080/",
          "height": 51
        }
      },
      "source": [
        "arr=np.random.randn(2,2)\n",
        "arr"
      ],
      "execution_count": 0,
      "outputs": [
        {
          "output_type": "execute_result",
          "data": {
            "text/plain": [
              "array([[-2.17850954, -1.57977795],\n",
              "       [-0.87294015, -0.35758739]])"
            ]
          },
          "metadata": {
            "tags": []
          },
          "execution_count": 255
        }
      ]
    },
    {
      "cell_type": "code",
      "metadata": {
        "id": "FyUgUjXQbvxf",
        "colab_type": "code",
        "outputId": "e9ae9045-0d0c-40f7-cd1e-aa502b2881dd",
        "colab": {
          "base_uri": "https://localhost:8080/",
          "height": 85
        }
      },
      "source": [
        "arr.repeat(2,axis=0)"
      ],
      "execution_count": 0,
      "outputs": [
        {
          "output_type": "execute_result",
          "data": {
            "text/plain": [
              "array([[-2.17850954, -1.57977795],\n",
              "       [-2.17850954, -1.57977795],\n",
              "       [-0.87294015, -0.35758739],\n",
              "       [-0.87294015, -0.35758739]])"
            ]
          },
          "metadata": {
            "tags": []
          },
          "execution_count": 256
        }
      ]
    },
    {
      "cell_type": "code",
      "metadata": {
        "id": "CCGu9Eu4cRsE",
        "colab_type": "code",
        "outputId": "3ec1a71f-4c5d-4d65-bb4f-686547501607",
        "colab": {
          "base_uri": "https://localhost:8080/",
          "height": 102
        }
      },
      "source": [
        "arr.repeat([2,3],axis=0)"
      ],
      "execution_count": 0,
      "outputs": [
        {
          "output_type": "execute_result",
          "data": {
            "text/plain": [
              "array([[-2.17850954, -1.57977795],\n",
              "       [-2.17850954, -1.57977795],\n",
              "       [-0.87294015, -0.35758739],\n",
              "       [-0.87294015, -0.35758739],\n",
              "       [-0.87294015, -0.35758739]])"
            ]
          },
          "metadata": {
            "tags": []
          },
          "execution_count": 257
        }
      ]
    },
    {
      "cell_type": "code",
      "metadata": {
        "id": "V6GUPK5-csm0",
        "colab_type": "code",
        "outputId": "8bd78384-ef96-4222-c9be-f92f85f992bc",
        "colab": {
          "base_uri": "https://localhost:8080/",
          "height": 51
        }
      },
      "source": [
        "arr.repeat([2,3],axis=1)"
      ],
      "execution_count": 0,
      "outputs": [
        {
          "output_type": "execute_result",
          "data": {
            "text/plain": [
              "array([[-2.17850954, -2.17850954, -1.57977795, -1.57977795, -1.57977795],\n",
              "       [-0.87294015, -0.87294015, -0.35758739, -0.35758739, -0.35758739]])"
            ]
          },
          "metadata": {
            "tags": []
          },
          "execution_count": 258
        }
      ]
    },
    {
      "cell_type": "code",
      "metadata": {
        "id": "SzjU_edl3TCb",
        "colab_type": "code",
        "outputId": "df643ee8-e3ac-4f8b-ecc4-110d23d5aace",
        "colab": {
          "base_uri": "https://localhost:8080/",
          "height": 51
        }
      },
      "source": [
        "arr"
      ],
      "execution_count": 0,
      "outputs": [
        {
          "output_type": "execute_result",
          "data": {
            "text/plain": [
              "array([[-2.17850954, -1.57977795],\n",
              "       [-0.87294015, -0.35758739]])"
            ]
          },
          "metadata": {
            "tags": []
          },
          "execution_count": 259
        }
      ]
    },
    {
      "cell_type": "code",
      "metadata": {
        "id": "hqcbAQpR4B7i",
        "colab_type": "code",
        "outputId": "00b4e8bb-545c-4fd5-dac1-3ade526544db",
        "colab": {
          "base_uri": "https://localhost:8080/",
          "height": 51
        }
      },
      "source": [
        "np.tile(arr,2)"
      ],
      "execution_count": 0,
      "outputs": [
        {
          "output_type": "execute_result",
          "data": {
            "text/plain": [
              "array([[-2.17850954, -1.57977795, -2.17850954, -1.57977795],\n",
              "       [-0.87294015, -0.35758739, -0.87294015, -0.35758739]])"
            ]
          },
          "metadata": {
            "tags": []
          },
          "execution_count": 260
        }
      ]
    },
    {
      "cell_type": "code",
      "metadata": {
        "id": "ZCKVv7wq4ay8",
        "colab_type": "code",
        "outputId": "a9429252-2b4e-4890-916e-f0cb0d61e3e4",
        "colab": {
          "base_uri": "https://localhost:8080/",
          "height": 51
        }
      },
      "source": [
        "arr"
      ],
      "execution_count": 0,
      "outputs": [
        {
          "output_type": "execute_result",
          "data": {
            "text/plain": [
              "array([[-2.17850954, -1.57977795],\n",
              "       [-0.87294015, -0.35758739]])"
            ]
          },
          "metadata": {
            "tags": []
          },
          "execution_count": 261
        }
      ]
    },
    {
      "cell_type": "code",
      "metadata": {
        "id": "bQ9JmfDN6uBs",
        "colab_type": "code",
        "outputId": "a2a9a785-8b1a-46d8-9806-cbdbb761e95f",
        "colab": {
          "base_uri": "https://localhost:8080/",
          "height": 85
        }
      },
      "source": [
        "np.tile(arr,(2,1))"
      ],
      "execution_count": 0,
      "outputs": [
        {
          "output_type": "execute_result",
          "data": {
            "text/plain": [
              "array([[-2.17850954, -1.57977795],\n",
              "       [-0.87294015, -0.35758739],\n",
              "       [-2.17850954, -1.57977795],\n",
              "       [-0.87294015, -0.35758739]])"
            ]
          },
          "metadata": {
            "tags": []
          },
          "execution_count": 262
        }
      ]
    },
    {
      "cell_type": "code",
      "metadata": {
        "id": "NAzpizsI7EcU",
        "colab_type": "code",
        "outputId": "9afbe2cd-4d73-4518-f1ee-75f748d82498",
        "colab": {
          "base_uri": "https://localhost:8080/",
          "height": 34
        }
      },
      "source": [
        "np.tile(arr,(2,0))"
      ],
      "execution_count": 0,
      "outputs": [
        {
          "output_type": "execute_result",
          "data": {
            "text/plain": [
              "array([], shape=(4, 0), dtype=float64)"
            ]
          },
          "metadata": {
            "tags": []
          },
          "execution_count": 263
        }
      ]
    },
    {
      "cell_type": "code",
      "metadata": {
        "id": "2Enl0u_W7Of8",
        "colab_type": "code",
        "outputId": "28ab00ad-d718-4a89-a999-d955039f5a0a",
        "colab": {
          "base_uri": "https://localhost:8080/",
          "height": 85
        }
      },
      "source": [
        "np.tile(arr,(2,2))"
      ],
      "execution_count": 0,
      "outputs": [
        {
          "output_type": "execute_result",
          "data": {
            "text/plain": [
              "array([[-2.17850954, -1.57977795, -2.17850954, -1.57977795],\n",
              "       [-0.87294015, -0.35758739, -0.87294015, -0.35758739],\n",
              "       [-2.17850954, -1.57977795, -2.17850954, -1.57977795],\n",
              "       [-0.87294015, -0.35758739, -0.87294015, -0.35758739]])"
            ]
          },
          "metadata": {
            "tags": []
          },
          "execution_count": 264
        }
      ]
    },
    {
      "cell_type": "code",
      "metadata": {
        "id": "ceA-dEXx7jUp",
        "colab_type": "code",
        "outputId": "01eed6ad-61ab-4f06-d036-7d84903197c3",
        "colab": {
          "base_uri": "https://localhost:8080/",
          "height": 119
        }
      },
      "source": [
        "np.tile(arr,(3,2))"
      ],
      "execution_count": 0,
      "outputs": [
        {
          "output_type": "execute_result",
          "data": {
            "text/plain": [
              "array([[-2.17850954, -1.57977795, -2.17850954, -1.57977795],\n",
              "       [-0.87294015, -0.35758739, -0.87294015, -0.35758739],\n",
              "       [-2.17850954, -1.57977795, -2.17850954, -1.57977795],\n",
              "       [-0.87294015, -0.35758739, -0.87294015, -0.35758739],\n",
              "       [-2.17850954, -1.57977795, -2.17850954, -1.57977795],\n",
              "       [-0.87294015, -0.35758739, -0.87294015, -0.35758739]])"
            ]
          },
          "metadata": {
            "tags": []
          },
          "execution_count": 265
        }
      ]
    },
    {
      "cell_type": "code",
      "metadata": {
        "id": "43byi9oI-xhk",
        "colab_type": "code",
        "outputId": "c64db9d5-3264-4dc0-d5f3-b7292027ae36",
        "colab": {
          "base_uri": "https://localhost:8080/",
          "height": 34
        }
      },
      "source": [
        "arr=np.arange(10)*100\n",
        "inds=[7,1,2,6]\n",
        "arr[inds]"
      ],
      "execution_count": 0,
      "outputs": [
        {
          "output_type": "execute_result",
          "data": {
            "text/plain": [
              "array([700, 100, 200, 600])"
            ]
          },
          "metadata": {
            "tags": []
          },
          "execution_count": 266
        }
      ]
    },
    {
      "cell_type": "code",
      "metadata": {
        "id": "cPvYbp_1_Lxe",
        "colab_type": "code",
        "outputId": "d56228b1-c7ba-4962-9062-2e5bfdc44b08",
        "colab": {
          "base_uri": "https://localhost:8080/",
          "height": 34
        }
      },
      "source": [
        "arr.take(inds)"
      ],
      "execution_count": 0,
      "outputs": [
        {
          "output_type": "execute_result",
          "data": {
            "text/plain": [
              "array([700, 100, 200, 600])"
            ]
          },
          "metadata": {
            "tags": []
          },
          "execution_count": 267
        }
      ]
    },
    {
      "cell_type": "code",
      "metadata": {
        "id": "fSIWXBdV_QvM",
        "colab_type": "code",
        "outputId": "381ad1f4-6460-4f8b-c3dd-d18080593f00",
        "colab": {
          "base_uri": "https://localhost:8080/",
          "height": 34
        }
      },
      "source": [
        "arr.put(inds,42)\n",
        "arr"
      ],
      "execution_count": 0,
      "outputs": [
        {
          "output_type": "execute_result",
          "data": {
            "text/plain": [
              "array([  0,  42,  42, 300, 400, 500,  42,  42, 800, 900])"
            ]
          },
          "metadata": {
            "tags": []
          },
          "execution_count": 268
        }
      ]
    },
    {
      "cell_type": "code",
      "metadata": {
        "id": "1-xOe1T0_cJF",
        "colab_type": "code",
        "outputId": "ab3518ec-3dff-4717-f672-b8be13c5e9c3",
        "colab": {
          "base_uri": "https://localhost:8080/",
          "height": 34
        }
      },
      "source": [
        "arr.put(inds,[40,41,42,43])\n",
        "arr"
      ],
      "execution_count": 0,
      "outputs": [
        {
          "output_type": "execute_result",
          "data": {
            "text/plain": [
              "array([  0,  41,  42, 300, 400, 500,  43,  40, 800, 900])"
            ]
          },
          "metadata": {
            "tags": []
          },
          "execution_count": 269
        }
      ]
    },
    {
      "cell_type": "code",
      "metadata": {
        "id": "mnM-rkP4AHR7",
        "colab_type": "code",
        "colab": {}
      },
      "source": [
        "inds=[2,0,2,1]"
      ],
      "execution_count": 0,
      "outputs": []
    },
    {
      "cell_type": "code",
      "metadata": {
        "id": "91pSwF-IAWUZ",
        "colab_type": "code",
        "outputId": "ed2b5bfb-3398-4640-c81b-da51a98a7ab9",
        "colab": {
          "base_uri": "https://localhost:8080/",
          "height": 51
        }
      },
      "source": [
        "arr=np.random.randn(2,4)\n",
        "arr"
      ],
      "execution_count": 0,
      "outputs": [
        {
          "output_type": "execute_result",
          "data": {
            "text/plain": [
              "array([[-0.62933284,  1.31617967,  0.02955812,  2.00465974],\n",
              "       [-0.12817116, -0.24028164,  0.75140467, -0.4393046 ]])"
            ]
          },
          "metadata": {
            "tags": []
          },
          "execution_count": 271
        }
      ]
    },
    {
      "cell_type": "code",
      "metadata": {
        "id": "i1mrk7xGAiPX",
        "colab_type": "code",
        "outputId": "1d3c1211-d1f2-4e50-f7eb-15a9a4e6f65f",
        "colab": {
          "base_uri": "https://localhost:8080/",
          "height": 51
        }
      },
      "source": [
        "arr.take(inds,axis=1)"
      ],
      "execution_count": 0,
      "outputs": [
        {
          "output_type": "execute_result",
          "data": {
            "text/plain": [
              "array([[ 0.02955812, -0.62933284,  0.02955812,  1.31617967],\n",
              "       [ 0.75140467, -0.12817116,  0.75140467, -0.24028164]])"
            ]
          },
          "metadata": {
            "tags": []
          },
          "execution_count": 272
        }
      ]
    },
    {
      "cell_type": "code",
      "metadata": {
        "id": "9t1g16f1B0LZ",
        "colab_type": "code",
        "outputId": "53c7dea4-2cc1-4f97-c298-ff9224711974",
        "colab": {
          "base_uri": "https://localhost:8080/",
          "height": 34
        }
      },
      "source": [
        "import datetime\n",
        "currentDate=datetime.date.today()\n",
        "Day=currentDate.strftime(\"%d\")\n",
        "month=currentDate.strftime(\"%b\")\n",
        "Year=currentDate.strftime(\"%Y\")\n",
        "print(Day,\" \",month,\" \",Year)"
      ],
      "execution_count": 0,
      "outputs": [
        {
          "output_type": "stream",
          "text": [
            "16   Jun   2019\n"
          ],
          "name": "stdout"
        }
      ]
    },
    {
      "cell_type": "code",
      "metadata": {
        "id": "9VGmJ7D7tuvx",
        "colab_type": "code",
        "outputId": "d4a08921-6d86-492c-e03c-42c2a3955feb",
        "colab": {
          "base_uri": "https://localhost:8080/",
          "height": 34
        }
      },
      "source": [
        "arr=np.arange(5)\n",
        "arr"
      ],
      "execution_count": 0,
      "outputs": [
        {
          "output_type": "execute_result",
          "data": {
            "text/plain": [
              "array([0, 1, 2, 3, 4])"
            ]
          },
          "metadata": {
            "tags": []
          },
          "execution_count": 274
        }
      ]
    },
    {
      "cell_type": "code",
      "metadata": {
        "id": "jRHFxjiJtzbp",
        "colab_type": "code",
        "outputId": "8849ea99-1323-4d91-bfea-9937b89dbd9f",
        "colab": {
          "base_uri": "https://localhost:8080/",
          "height": 34
        }
      },
      "source": [
        "arr*4"
      ],
      "execution_count": 0,
      "outputs": [
        {
          "output_type": "execute_result",
          "data": {
            "text/plain": [
              "array([ 0,  4,  8, 12, 16])"
            ]
          },
          "metadata": {
            "tags": []
          },
          "execution_count": 275
        }
      ]
    },
    {
      "cell_type": "code",
      "metadata": {
        "id": "YFZF34mwwyxa",
        "colab_type": "code",
        "outputId": "44a8b8d5-c12b-4d8e-ff86-6a6b8c4d6de8",
        "colab": {
          "base_uri": "https://localhost:8080/",
          "height": 85
        }
      },
      "source": [
        "arr=np.random.randn(4,3)\n",
        "arr\n"
      ],
      "execution_count": 0,
      "outputs": [
        {
          "output_type": "execute_result",
          "data": {
            "text/plain": [
              "array([[-1.60394124,  1.60567663,  0.40443311],\n",
              "       [-0.32814235, -0.05136868, -1.46547375],\n",
              "       [-0.37425826,  1.16101232,  0.69729605],\n",
              "       [ 0.52567543, -0.03539526, -0.91534083]])"
            ]
          },
          "metadata": {
            "tags": []
          },
          "execution_count": 276
        }
      ]
    },
    {
      "cell_type": "code",
      "metadata": {
        "id": "MBacnmBFzmrX",
        "colab_type": "code",
        "outputId": "f0cc7824-6768-4ade-e7b2-38c57e0a1911",
        "colab": {
          "base_uri": "https://localhost:8080/",
          "height": 34
        }
      },
      "source": [
        "arr.mean(0)"
      ],
      "execution_count": 0,
      "outputs": [
        {
          "output_type": "execute_result",
          "data": {
            "text/plain": [
              "array([-0.4451666 ,  0.66998125, -0.31977136])"
            ]
          },
          "metadata": {
            "tags": []
          },
          "execution_count": 277
        }
      ]
    },
    {
      "cell_type": "code",
      "metadata": {
        "id": "s_D7BgSUzatm",
        "colab_type": "code",
        "outputId": "cd4ec585-46e2-423c-f259-67434daefc9d",
        "colab": {
          "base_uri": "https://localhost:8080/",
          "height": 85
        }
      },
      "source": [
        "demeaned=arr-arr.mean(0)\n",
        "demeaned"
      ],
      "execution_count": 0,
      "outputs": [
        {
          "output_type": "execute_result",
          "data": {
            "text/plain": [
              "array([[-1.15877463,  0.93569538,  0.72420447],\n",
              "       [ 0.11702426, -0.72134994, -1.1457024 ],\n",
              "       [ 0.07090834,  0.49103107,  1.01706741],\n",
              "       [ 0.97084203, -0.70537652, -0.59556948]])"
            ]
          },
          "metadata": {
            "tags": []
          },
          "execution_count": 278
        }
      ]
    },
    {
      "cell_type": "code",
      "metadata": {
        "id": "ihOjQwPYzyJ2",
        "colab_type": "code",
        "outputId": "98d6edec-f4be-4499-b13f-6366711a0a64",
        "colab": {
          "base_uri": "https://localhost:8080/",
          "height": 34
        }
      },
      "source": [
        "demeaned.mean(0)"
      ],
      "execution_count": 0,
      "outputs": [
        {
          "output_type": "execute_result",
          "data": {
            "text/plain": [
              "array([-5.55111512e-17,  8.32667268e-17, -2.77555756e-17])"
            ]
          },
          "metadata": {
            "tags": []
          },
          "execution_count": 279
        }
      ]
    },
    {
      "cell_type": "code",
      "metadata": {
        "id": "yNhykjo26cu4",
        "colab_type": "code",
        "outputId": "674e070f-c622-4369-ad74-fc18534adf49",
        "colab": {
          "base_uri": "https://localhost:8080/",
          "height": 85
        }
      },
      "source": [
        "arr"
      ],
      "execution_count": 0,
      "outputs": [
        {
          "output_type": "execute_result",
          "data": {
            "text/plain": [
              "array([[-1.60394124,  1.60567663,  0.40443311],\n",
              "       [-0.32814235, -0.05136868, -1.46547375],\n",
              "       [-0.37425826,  1.16101232,  0.69729605],\n",
              "       [ 0.52567543, -0.03539526, -0.91534083]])"
            ]
          },
          "metadata": {
            "tags": []
          },
          "execution_count": 280
        }
      ]
    },
    {
      "cell_type": "code",
      "metadata": {
        "id": "XR4tWmhN6ecI",
        "colab_type": "code",
        "outputId": "20d7d280-5786-4d4d-89d2-fe4241860a5d",
        "colab": {
          "base_uri": "https://localhost:8080/",
          "height": 34
        }
      },
      "source": [
        "row_means=arr.mean(1)\n",
        "row_means"
      ],
      "execution_count": 0,
      "outputs": [
        {
          "output_type": "execute_result",
          "data": {
            "text/plain": [
              "array([ 0.1353895 , -0.61499493,  0.49468337, -0.14168689])"
            ]
          },
          "metadata": {
            "tags": []
          },
          "execution_count": 281
        }
      ]
    },
    {
      "cell_type": "code",
      "metadata": {
        "id": "2gGk4xp-6on9",
        "colab_type": "code",
        "outputId": "738607a5-16d4-459a-9030-a42f6546623f",
        "colab": {
          "base_uri": "https://localhost:8080/",
          "height": 34
        }
      },
      "source": [
        "row_means.shape"
      ],
      "execution_count": 0,
      "outputs": [
        {
          "output_type": "execute_result",
          "data": {
            "text/plain": [
              "(4,)"
            ]
          },
          "metadata": {
            "tags": []
          },
          "execution_count": 282
        }
      ]
    },
    {
      "cell_type": "code",
      "metadata": {
        "id": "-gnG0pt56x20",
        "colab_type": "code",
        "outputId": "c9572854-15f6-4433-c993-0f6958f6cef3",
        "colab": {
          "base_uri": "https://localhost:8080/",
          "height": 85
        }
      },
      "source": [
        "row_means.reshape((4,1))"
      ],
      "execution_count": 0,
      "outputs": [
        {
          "output_type": "execute_result",
          "data": {
            "text/plain": [
              "array([[ 0.1353895 ],\n",
              "       [-0.61499493],\n",
              "       [ 0.49468337],\n",
              "       [-0.14168689]])"
            ]
          },
          "metadata": {
            "tags": []
          },
          "execution_count": 283
        }
      ]
    },
    {
      "cell_type": "code",
      "metadata": {
        "id": "21OTzVYi64hQ",
        "colab_type": "code",
        "outputId": "5fd68845-054c-456d-a482-f15d4adfd6d9",
        "colab": {
          "base_uri": "https://localhost:8080/",
          "height": 34
        }
      },
      "source": [
        "demeaned=arr - row_means.reshape((4,1))\n",
        "demeaned.mean(1)"
      ],
      "execution_count": 0,
      "outputs": [
        {
          "output_type": "execute_result",
          "data": {
            "text/plain": [
              "array([0.00000000e+00, 0.00000000e+00, 5.55111512e-17, 0.00000000e+00])"
            ]
          },
          "metadata": {
            "tags": []
          },
          "execution_count": 284
        }
      ]
    },
    {
      "cell_type": "code",
      "metadata": {
        "id": "eRo7pzfM98DO",
        "colab_type": "code",
        "outputId": "66385cb7-c996-4513-a2f2-9131b68110aa",
        "colab": {
          "base_uri": "https://localhost:8080/",
          "height": 85
        }
      },
      "source": [
        "arr - arr.mean(1).reshape((4, 1))"
      ],
      "execution_count": 0,
      "outputs": [
        {
          "output_type": "execute_result",
          "data": {
            "text/plain": [
              "array([[-1.73933074,  1.47028713,  0.26904361],\n",
              "       [ 0.28685258,  0.56362624, -0.85047882],\n",
              "       [-0.86894163,  0.66632895,  0.20261268],\n",
              "       [ 0.66736232,  0.10629163, -0.77365394]])"
            ]
          },
          "metadata": {
            "tags": []
          },
          "execution_count": 285
        }
      ]
    },
    {
      "cell_type": "code",
      "metadata": {
        "id": "BW0q-r5s9-wx",
        "colab_type": "code",
        "outputId": "33219a53-2657-47f6-d852-d175dcc1a079",
        "colab": {
          "base_uri": "https://localhost:8080/",
          "height": 136
        }
      },
      "source": [
        "arr=np.zeros((4,4))\n",
        "arr_3d=arr[:,np.newaxis,:]\n",
        "arr_3d"
      ],
      "execution_count": 0,
      "outputs": [
        {
          "output_type": "execute_result",
          "data": {
            "text/plain": [
              "array([[[0., 0., 0., 0.]],\n",
              "\n",
              "       [[0., 0., 0., 0.]],\n",
              "\n",
              "       [[0., 0., 0., 0.]],\n",
              "\n",
              "       [[0., 0., 0., 0.]]])"
            ]
          },
          "metadata": {
            "tags": []
          },
          "execution_count": 286
        }
      ]
    },
    {
      "cell_type": "code",
      "metadata": {
        "id": "r4Jt7IhULAfX",
        "colab_type": "code",
        "outputId": "78b4b5f3-537e-41f7-ea92-831688bb7a82",
        "colab": {
          "base_uri": "https://localhost:8080/",
          "height": 34
        }
      },
      "source": [
        "arr_3d.shape"
      ],
      "execution_count": 0,
      "outputs": [
        {
          "output_type": "execute_result",
          "data": {
            "text/plain": [
              "(4, 1, 4)"
            ]
          },
          "metadata": {
            "tags": []
          },
          "execution_count": 287
        }
      ]
    },
    {
      "cell_type": "code",
      "metadata": {
        "id": "pfDX8bVVLP4O",
        "colab_type": "code",
        "outputId": "48c99048-d0a1-482f-d738-27f4ab0ca0a7",
        "colab": {
          "base_uri": "https://localhost:8080/",
          "height": 34
        }
      },
      "source": [
        "arr_1d=np.random.normal(size=3)\n",
        "arr_1d"
      ],
      "execution_count": 0,
      "outputs": [
        {
          "output_type": "execute_result",
          "data": {
            "text/plain": [
              "array([-0.89845844,  0.82688131, -0.70102007])"
            ]
          },
          "metadata": {
            "tags": []
          },
          "execution_count": 288
        }
      ]
    },
    {
      "cell_type": "code",
      "metadata": {
        "id": "qOXCEP1YLej7",
        "colab_type": "code",
        "outputId": "8df73a26-ed83-4798-db3d-1d347636c898",
        "colab": {
          "base_uri": "https://localhost:8080/",
          "height": 68
        }
      },
      "source": [
        "arr_1d[:,np.newaxis]"
      ],
      "execution_count": 0,
      "outputs": [
        {
          "output_type": "execute_result",
          "data": {
            "text/plain": [
              "array([[-0.89845844],\n",
              "       [ 0.82688131],\n",
              "       [-0.70102007]])"
            ]
          },
          "metadata": {
            "tags": []
          },
          "execution_count": 289
        }
      ]
    },
    {
      "cell_type": "code",
      "metadata": {
        "id": "UDeDnOCbLmxY",
        "colab_type": "code",
        "outputId": "a4df78e6-ce08-42a8-cf02-8e2245ab3093",
        "colab": {
          "base_uri": "https://localhost:8080/",
          "height": 34
        }
      },
      "source": [
        "arr_1d[np.newaxis,:]"
      ],
      "execution_count": 0,
      "outputs": [
        {
          "output_type": "execute_result",
          "data": {
            "text/plain": [
              "array([[-0.89845844,  0.82688131, -0.70102007]])"
            ]
          },
          "metadata": {
            "tags": []
          },
          "execution_count": 290
        }
      ]
    },
    {
      "cell_type": "code",
      "metadata": {
        "id": "kguPmWtVLwN5",
        "colab_type": "code",
        "colab": {}
      },
      "source": [
        "arr=np.random.randn(3,4,5)\n",
        "depth_means=arr.mean(2)"
      ],
      "execution_count": 0,
      "outputs": []
    },
    {
      "cell_type": "code",
      "metadata": {
        "id": "iJPFG5byPl8d",
        "colab_type": "code",
        "outputId": "f50e541d-a629-4820-b977-af65cbe7dc1e",
        "colab": {
          "base_uri": "https://localhost:8080/",
          "height": 68
        }
      },
      "source": [
        "depth_means"
      ],
      "execution_count": 0,
      "outputs": [
        {
          "output_type": "execute_result",
          "data": {
            "text/plain": [
              "array([[ 0.77538776, -0.26988618, -0.14115471,  0.12831969],\n",
              "       [-0.20334626, -0.47944856,  0.03724243,  0.01078537],\n",
              "       [-0.48323119, -0.13003007,  0.3728596 ,  0.30594996]])"
            ]
          },
          "metadata": {
            "tags": []
          },
          "execution_count": 292
        }
      ]
    },
    {
      "cell_type": "code",
      "metadata": {
        "id": "HWZAIoZiQfQd",
        "colab_type": "code",
        "outputId": "2f8d2eb3-af55-43d2-9c76-8c7c61a1f5e8",
        "colab": {
          "base_uri": "https://localhost:8080/",
          "height": 34
        }
      },
      "source": [
        "depth_means.shape"
      ],
      "execution_count": 0,
      "outputs": [
        {
          "output_type": "execute_result",
          "data": {
            "text/plain": [
              "(3, 4)"
            ]
          },
          "metadata": {
            "tags": []
          },
          "execution_count": 293
        }
      ]
    },
    {
      "cell_type": "code",
      "metadata": {
        "id": "ycVOHx-kQjdz",
        "colab_type": "code",
        "outputId": "f3756c54-6c87-459b-fd81-a319fc3dc7b3",
        "colab": {
          "base_uri": "https://localhost:8080/",
          "height": 459
        }
      },
      "source": [
        "demeaned=arr- depth_means[:,:,np.newaxis]\n",
        "demeaned"
      ],
      "execution_count": 0,
      "outputs": [
        {
          "output_type": "execute_result",
          "data": {
            "text/plain": [
              "array([[[ 1.28527599,  0.22823425, -0.83874532,  0.50632498,\n",
              "         -1.18108991],\n",
              "        [ 0.15192104,  0.64523977, -0.93326104,  0.20286562,\n",
              "         -0.06676538],\n",
              "        [ 0.18502283, -0.65236222,  1.39030612, -1.13905271,\n",
              "          0.21608599],\n",
              "        [-0.58238636,  0.59326731,  0.82383518, -0.31306528,\n",
              "         -0.52165085]],\n",
              "\n",
              "       [[-0.0506958 , -0.54624469,  0.91823271,  0.03751485,\n",
              "         -0.35880708],\n",
              "        [ 1.3230058 , -1.7610402 ,  0.0325297 , -0.42550602,\n",
              "          0.83101072],\n",
              "        [ 0.06627068,  0.07515117, -0.91642014,  0.89917743,\n",
              "         -0.12417915],\n",
              "        [-0.29904318, -0.74899216, -0.79342306,  1.05762599,\n",
              "          0.78383241]],\n",
              "\n",
              "       [[ 0.12297924, -1.75638642,  1.73766226, -0.28941083,\n",
              "          0.18515575],\n",
              "        [ 0.37491881,  0.54772038,  0.62754768,  0.81067071,\n",
              "         -2.36085757],\n",
              "        [ 0.37510826, -0.74439288, -1.14346033,  0.60676427,\n",
              "          0.90598068],\n",
              "        [ 0.22387442,  0.0627668 ,  0.0634647 , -0.72504538,\n",
              "          0.37493946]]])"
            ]
          },
          "metadata": {
            "tags": []
          },
          "execution_count": 294
        }
      ]
    },
    {
      "cell_type": "code",
      "metadata": {
        "id": "5FDxRWZ3dpWm",
        "colab_type": "code",
        "outputId": "cc9f27ec-d16b-4e74-ba99-26cd33c9e3ba",
        "colab": {
          "base_uri": "https://localhost:8080/",
          "height": 34
        }
      },
      "source": [
        "demeaned.shape"
      ],
      "execution_count": 0,
      "outputs": [
        {
          "output_type": "execute_result",
          "data": {
            "text/plain": [
              "(3, 4, 5)"
            ]
          },
          "metadata": {
            "tags": []
          },
          "execution_count": 295
        }
      ]
    },
    {
      "cell_type": "code",
      "metadata": {
        "id": "vLmCsvmbQ5QN",
        "colab_type": "code",
        "outputId": "e8b115f5-8010-45d3-f021-4aee13a5fda5",
        "colab": {
          "base_uri": "https://localhost:8080/",
          "height": 119
        }
      },
      "source": [
        "demeaned.mean(2)"
      ],
      "execution_count": 0,
      "outputs": [
        {
          "output_type": "execute_result",
          "data": {
            "text/plain": [
              "array([[ 8.88178420e-17,  3.33066907e-17, -1.66533454e-17,\n",
              "         0.00000000e+00],\n",
              "       [-3.33066907e-17, -8.88178420e-17, -2.49800181e-17,\n",
              "         4.44089210e-17],\n",
              "       [ 6.66133815e-17,  0.00000000e+00,  4.44089210e-17,\n",
              "        -2.22044605e-17]])"
            ]
          },
          "metadata": {
            "tags": []
          },
          "execution_count": 296
        }
      ]
    },
    {
      "cell_type": "code",
      "metadata": {
        "id": "0PkORhUEaXQ_",
        "colab_type": "code",
        "outputId": "b930c119-06fc-42d5-dd84-fe7eb06d5f24",
        "colab": {
          "base_uri": "https://localhost:8080/",
          "height": 122
        }
      },
      "source": [
        "a=np.array([[[1,2,4,5,6],[2,3,5,5,6]],[[1,2,4,5,6],[2,3,5,5,6]]])\n",
        "print(a.shape)\n",
        "print(a.ndim)\n",
        "a.ndim*[slice(None)]\n",
        "indexer=a.ndim*[slice(None)]\n",
        "indexer[0]=np.newaxis\n",
        "a[indexer].shape"
      ],
      "execution_count": 0,
      "outputs": [
        {
          "output_type": "stream",
          "text": [
            "(2, 2, 5)\n",
            "3\n"
          ],
          "name": "stdout"
        },
        {
          "output_type": "stream",
          "text": [
            "/usr/local/lib/python3.6/dist-packages/ipykernel_launcher.py:7: FutureWarning: Using a non-tuple sequence for multidimensional indexing is deprecated; use `arr[tuple(seq)]` instead of `arr[seq]`. In the future this will be interpreted as an array index, `arr[np.array(seq)]`, which will result either in an error or a different result.\n",
            "  import sys\n"
          ],
          "name": "stderr"
        },
        {
          "output_type": "execute_result",
          "data": {
            "text/plain": [
              "(1, 2, 2, 5)"
            ]
          },
          "metadata": {
            "tags": []
          },
          "execution_count": 297
        }
      ]
    },
    {
      "cell_type": "code",
      "metadata": {
        "id": "P26M9Xg3dMKs",
        "colab_type": "code",
        "colab": {}
      },
      "source": [
        "def demean_axis(arr, axis=0):\n",
        "  means = arr.mean(axis)\n",
        "# This generalizes things like [:, :, np.newaxis] to N dimensions\n",
        "  indexer = [slice(None)] * arr.ndim\n",
        "  indexer[axis] = np.newaxis\n",
        "  return arr - means[indexer]"
      ],
      "execution_count": 0,
      "outputs": []
    },
    {
      "cell_type": "code",
      "metadata": {
        "id": "kDdsjswj4vpw",
        "colab_type": "code",
        "outputId": "f53c3d7d-afbd-4b5b-d95b-2790352039e7",
        "colab": {
          "base_uri": "https://localhost:8080/",
          "height": 90
        }
      },
      "source": [
        "arr=np.zeros((4,3))\n",
        "arr[:]=5\n",
        "arr"
      ],
      "execution_count": 0,
      "outputs": [
        {
          "output_type": "execute_result",
          "data": {
            "text/plain": [
              "array([[5., 5., 5.],\n",
              "       [5., 5., 5.],\n",
              "       [5., 5., 5.],\n",
              "       [5., 5., 5.]])"
            ]
          },
          "metadata": {
            "tags": []
          },
          "execution_count": 299
        }
      ]
    },
    {
      "cell_type": "code",
      "metadata": {
        "id": "l4AcGw7F5Xxg",
        "colab_type": "code",
        "outputId": "0a3275cc-67bb-4dc3-c8a0-b3d36f478fe4",
        "colab": {
          "base_uri": "https://localhost:8080/",
          "height": 90
        }
      },
      "source": [
        "col = np.array([1.28, -0.42, 0.44, 1.6])\n",
        "arr[:]=col[:,np.newaxis]\n",
        "arr\n"
      ],
      "execution_count": 0,
      "outputs": [
        {
          "output_type": "execute_result",
          "data": {
            "text/plain": [
              "array([[ 1.28,  1.28,  1.28],\n",
              "       [-0.42, -0.42, -0.42],\n",
              "       [ 0.44,  0.44,  0.44],\n",
              "       [ 1.6 ,  1.6 ,  1.6 ]])"
            ]
          },
          "metadata": {
            "tags": []
          },
          "execution_count": 302
        }
      ]
    },
    {
      "cell_type": "code",
      "metadata": {
        "id": "QIYiwpPb82jS",
        "colab_type": "code",
        "outputId": "732e559e-ddff-428e-dfc4-691bfac3f6bc",
        "colab": {
          "base_uri": "https://localhost:8080/",
          "height": 85
        }
      },
      "source": [
        "arr[:2]=[[-1.2],[2.6]]\n",
        "arr"
      ],
      "execution_count": 0,
      "outputs": [
        {
          "output_type": "execute_result",
          "data": {
            "text/plain": [
              "array([[-1.2 , -1.2 , -1.2 ],\n",
              "       [ 2.6 ,  2.6 ,  2.6 ],\n",
              "       [ 0.44,  0.44,  0.44],\n",
              "       [ 1.6 ,  1.6 ,  1.6 ]])"
            ]
          },
          "metadata": {
            "tags": []
          },
          "execution_count": 303
        }
      ]
    },
    {
      "cell_type": "code",
      "metadata": {
        "id": "KH37zyMTCAMj",
        "colab_type": "code",
        "outputId": "88654e3e-8573-4b99-f9a2-401111752bdf",
        "colab": {
          "base_uri": "https://localhost:8080/",
          "height": 34
        }
      },
      "source": [
        "arr=np.arange(10)\n",
        "np.add.reduce(arr)"
      ],
      "execution_count": 0,
      "outputs": [
        {
          "output_type": "execute_result",
          "data": {
            "text/plain": [
              "45"
            ]
          },
          "metadata": {
            "tags": []
          },
          "execution_count": 304
        }
      ]
    },
    {
      "cell_type": "code",
      "metadata": {
        "id": "mWNK51vFFPn6",
        "colab_type": "code",
        "outputId": "d1441b04-1254-4ba1-e2c7-45aa381dfc98",
        "colab": {
          "base_uri": "https://localhost:8080/",
          "height": 34
        }
      },
      "source": [
        "arr.sum()"
      ],
      "execution_count": 0,
      "outputs": [
        {
          "output_type": "execute_result",
          "data": {
            "text/plain": [
              "45"
            ]
          },
          "metadata": {
            "tags": []
          },
          "execution_count": 306
        }
      ]
    },
    {
      "cell_type": "code",
      "metadata": {
        "id": "dY7NZoFEFr4g",
        "colab_type": "code",
        "outputId": "319558f7-dfc9-49fe-a510-bf5a68f080e4",
        "colab": {
          "base_uri": "https://localhost:8080/",
          "height": 357
        }
      },
      "source": [
        "np.random.seed(12346)\n",
        "arr=np.random.randn(5,5)\n",
        "print(arr)\n",
        "arr[::2].sort(1)\n",
        "arr"
      ],
      "execution_count": 0,
      "outputs": [
        {
          "output_type": "stream",
          "text": [
            "[[-8.99822478e-02  7.59372617e-01  7.48336101e-01 -9.81497953e-01\n",
            "   3.65775545e-01]\n",
            " [-3.15442628e-01 -8.66135605e-01  2.78568155e-02 -4.55597723e-01\n",
            "  -1.60189223e+00]\n",
            " [ 2.48256116e-01 -3.21536673e-01 -8.48730755e-01  4.60468309e-04\n",
            "  -5.46459347e-01]\n",
            " [ 2.53915229e-01  1.93684246e+00 -7.99504902e-01 -5.69159281e-01\n",
            "   4.89244731e-02]\n",
            " [-6.49092950e-01 -4.79535727e-01 -9.53521432e-01  1.42253882e+00\n",
            "   1.75403128e-01]]\n"
          ],
          "name": "stdout"
        },
        {
          "output_type": "execute_result",
          "data": {
            "text/plain": [
              "array([[-9.81497953e-01, -8.99822478e-02,  3.65775545e-01,\n",
              "         7.48336101e-01,  7.59372617e-01],\n",
              "       [-3.15442628e-01, -8.66135605e-01,  2.78568155e-02,\n",
              "        -4.55597723e-01, -1.60189223e+00],\n",
              "       [-8.48730755e-01, -5.46459347e-01, -3.21536673e-01,\n",
              "         4.60468309e-04,  2.48256116e-01],\n",
              "       [ 2.53915229e-01,  1.93684246e+00, -7.99504902e-01,\n",
              "        -5.69159281e-01,  4.89244731e-02],\n",
              "       [-9.53521432e-01, -6.49092950e-01, -4.79535727e-01,\n",
              "         1.75403128e-01,  1.42253882e+00]])"
            ]
          },
          "metadata": {
            "tags": []
          },
          "execution_count": 308
        }
      ]
    },
    {
      "cell_type": "code",
      "metadata": {
        "id": "NkrPYZxYJ3Jy",
        "colab_type": "code",
        "outputId": "f45b5ec4-7709-45f2-cbfe-e87e5ac68fb8",
        "colab": {
          "base_uri": "https://localhost:8080/",
          "height": 102
        }
      },
      "source": [
        "arr[:,:-1]<arr[:,1:]"
      ],
      "execution_count": 0,
      "outputs": [
        {
          "output_type": "execute_result",
          "data": {
            "text/plain": [
              "array([[ True,  True,  True,  True],\n",
              "       [False,  True, False, False],\n",
              "       [ True,  True,  True,  True],\n",
              "       [ True, False,  True,  True],\n",
              "       [ True,  True,  True,  True]])"
            ]
          },
          "metadata": {
            "tags": []
          },
          "execution_count": 309
        }
      ]
    },
    {
      "cell_type": "code",
      "metadata": {
        "id": "LZusy78TMLZi",
        "colab_type": "code",
        "outputId": "7956bd9e-a987-4f74-8db5-1cfb89028e50",
        "colab": {
          "base_uri": "https://localhost:8080/",
          "height": 187
        }
      },
      "source": [
        "arr[:,:-1]\n"
      ],
      "execution_count": 0,
      "outputs": [
        {
          "output_type": "execute_result",
          "data": {
            "text/plain": [
              "array([[-9.81497953e-01, -8.99822478e-02,  3.65775545e-01,\n",
              "         7.48336101e-01],\n",
              "       [-3.15442628e-01, -8.66135605e-01,  2.78568155e-02,\n",
              "        -4.55597723e-01],\n",
              "       [-8.48730755e-01, -5.46459347e-01, -3.21536673e-01,\n",
              "         4.60468309e-04],\n",
              "       [ 2.53915229e-01,  1.93684246e+00, -7.99504902e-01,\n",
              "        -5.69159281e-01],\n",
              "       [-9.53521432e-01, -6.49092950e-01, -4.79535727e-01,\n",
              "         1.75403128e-01]])"
            ]
          },
          "metadata": {
            "tags": []
          },
          "execution_count": 310
        }
      ]
    },
    {
      "cell_type": "code",
      "metadata": {
        "id": "-wGxKaQqNWdZ",
        "colab_type": "code",
        "outputId": "a24f97c9-4a28-4cfb-d0e7-0fcb720a2beb",
        "colab": {
          "base_uri": "https://localhost:8080/",
          "height": 187
        }
      },
      "source": [
        "arr[:,1:]"
      ],
      "execution_count": 0,
      "outputs": [
        {
          "output_type": "execute_result",
          "data": {
            "text/plain": [
              "array([[-8.99822478e-02,  3.65775545e-01,  7.48336101e-01,\n",
              "         7.59372617e-01],\n",
              "       [-8.66135605e-01,  2.78568155e-02, -4.55597723e-01,\n",
              "        -1.60189223e+00],\n",
              "       [-5.46459347e-01, -3.21536673e-01,  4.60468309e-04,\n",
              "         2.48256116e-01],\n",
              "       [ 1.93684246e+00, -7.99504902e-01, -5.69159281e-01,\n",
              "         4.89244731e-02],\n",
              "       [-6.49092950e-01, -4.79535727e-01,  1.75403128e-01,\n",
              "         1.42253882e+00]])"
            ]
          },
          "metadata": {
            "tags": []
          },
          "execution_count": 311
        }
      ]
    },
    {
      "cell_type": "code",
      "metadata": {
        "id": "aO69SxmUN18m",
        "colab_type": "code",
        "outputId": "72430284-5bbf-45f9-e696-9ab49a306786",
        "colab": {
          "base_uri": "https://localhost:8080/",
          "height": 34
        }
      },
      "source": [
        "np.logical_and.reduce(arr[:,:-1]<arr[:,1:],axis=1)"
      ],
      "execution_count": 0,
      "outputs": [
        {
          "output_type": "execute_result",
          "data": {
            "text/plain": [
              "array([ True, False,  True, False,  True])"
            ]
          },
          "metadata": {
            "tags": []
          },
          "execution_count": 312
        }
      ]
    },
    {
      "cell_type": "code",
      "metadata": {
        "id": "6jQyr3amVGzh",
        "colab_type": "code",
        "outputId": "e0c9bda1-dcf1-4d45-bcd6-d505abb3808b",
        "colab": {
          "base_uri": "https://localhost:8080/",
          "height": 68
        }
      },
      "source": [
        "arr=np.arange(15).reshape((3,5))\n",
        "arr"
      ],
      "execution_count": 0,
      "outputs": [
        {
          "output_type": "execute_result",
          "data": {
            "text/plain": [
              "array([[ 0,  1,  2,  3,  4],\n",
              "       [ 5,  6,  7,  8,  9],\n",
              "       [10, 11, 12, 13, 14]])"
            ]
          },
          "metadata": {
            "tags": []
          },
          "execution_count": 314
        }
      ]
    },
    {
      "cell_type": "code",
      "metadata": {
        "id": "CGmY1U8cVMtD",
        "colab_type": "code",
        "outputId": "dc17cc87-e8ad-4d04-c684-5a25c8dcfe2a",
        "colab": {
          "base_uri": "https://localhost:8080/",
          "height": 68
        }
      },
      "source": [
        "np.add.accumulate(arr,axis=1)"
      ],
      "execution_count": 0,
      "outputs": [
        {
          "output_type": "execute_result",
          "data": {
            "text/plain": [
              "array([[ 0,  1,  3,  6, 10],\n",
              "       [ 5, 11, 18, 26, 35],\n",
              "       [10, 21, 33, 46, 60]])"
            ]
          },
          "metadata": {
            "tags": []
          },
          "execution_count": 315
        }
      ]
    },
    {
      "cell_type": "code",
      "metadata": {
        "id": "qNeqH_-yWHSk",
        "colab_type": "code",
        "outputId": "1a8f0337-d07b-4f76-f4fe-38632b7dfd18",
        "colab": {
          "base_uri": "https://localhost:8080/",
          "height": 34
        }
      },
      "source": [
        "arr=np.arange(3).repeat([1,2,2])\n",
        "arr"
      ],
      "execution_count": 0,
      "outputs": [
        {
          "output_type": "execute_result",
          "data": {
            "text/plain": [
              "array([0, 1, 1, 2, 2])"
            ]
          },
          "metadata": {
            "tags": []
          },
          "execution_count": 317
        }
      ]
    },
    {
      "cell_type": "code",
      "metadata": {
        "id": "ucoLMnIxWX0-",
        "colab_type": "code",
        "outputId": "f53775ec-7617-4e52-8177-c0b23d458c18",
        "colab": {
          "base_uri": "https://localhost:8080/",
          "height": 102
        }
      },
      "source": [
        "np.outer(arr,np.arange(5))"
      ],
      "execution_count": 0,
      "outputs": [
        {
          "output_type": "execute_result",
          "data": {
            "text/plain": [
              "array([[0, 0, 0, 0, 0],\n",
              "       [0, 1, 2, 3, 4],\n",
              "       [0, 1, 2, 3, 4],\n",
              "       [0, 2, 4, 6, 8],\n",
              "       [0, 2, 4, 6, 8]])"
            ]
          },
          "metadata": {
            "tags": []
          },
          "execution_count": 323
        }
      ]
    },
    {
      "cell_type": "code",
      "metadata": {
        "id": "fctmgQIkYxBN",
        "colab_type": "code",
        "outputId": "0fb68970-796a-479a-e93d-b776d2a68f58",
        "colab": {
          "base_uri": "https://localhost:8080/",
          "height": 68
        }
      },
      "source": [
        "arr=np.array([1,2,3])\n",
        "np.outer(arr,np.arange(5))\n"
      ],
      "execution_count": 0,
      "outputs": [
        {
          "output_type": "execute_result",
          "data": {
            "text/plain": [
              "array([[ 0,  1,  2,  3,  4],\n",
              "       [ 0,  2,  4,  6,  8],\n",
              "       [ 0,  3,  6,  9, 12]])"
            ]
          },
          "metadata": {
            "tags": []
          },
          "execution_count": 324
        }
      ]
    },
    {
      "cell_type": "code",
      "metadata": {
        "id": "2eI9GDdi8y6j",
        "colab_type": "code",
        "colab": {}
      },
      "source": [
        "a = ['a','b','c','d','f']\n",
        "for n in range(len(a)-1):\n",
        "  x=ord(a[n])\n",
        "  y=ord(a[n+1])\n",
        "  if y!=x+1:\n",
        "    print(chr(x+1)+\" is missing\")"
      ],
      "execution_count": 0,
      "outputs": []
    },
    {
      "cell_type": "code",
      "metadata": {
        "id": "dpNz8S8GY36g",
        "colab_type": "code",
        "colab": {}
      },
      "source": [
        "import numpy as np"
      ],
      "execution_count": 0,
      "outputs": []
    },
    {
      "cell_type": "code",
      "metadata": {
        "id": "zOGe6gAwY9Ej",
        "colab_type": "code",
        "colab": {}
      },
      "source": [
        ""
      ],
      "execution_count": 0,
      "outputs": []
    },
    {
      "cell_type": "code",
      "metadata": {
        "id": "e0onZlnjYWyV",
        "colab_type": "code",
        "colab": {}
      },
      "source": [
        "x,y=np.random.randn(3,4),np.random.randn(5)"
      ],
      "execution_count": 0,
      "outputs": []
    },
    {
      "cell_type": "code",
      "metadata": {
        "id": "risSmXdxcR8G",
        "colab_type": "code",
        "outputId": "e0c05999-0a28-4e16-e42a-fa4ca92857c3",
        "colab": {
          "base_uri": "https://localhost:8080/",
          "height": 85
        }
      },
      "source": [
        "print(x)\n",
        "y"
      ],
      "execution_count": 0,
      "outputs": [
        {
          "output_type": "stream",
          "text": [
            "[[-1.10241774 -0.53560935  0.33237936  0.31282333]\n",
            " [ 0.54963745 -0.5920814  -0.45046992  0.09847353]\n",
            " [-0.59828334 -1.24159155 -1.92166994 -0.08746797]]\n"
          ],
          "name": "stdout"
        },
        {
          "output_type": "execute_result",
          "data": {
            "text/plain": [
              "array([ 0.69934706, -0.54809738,  0.72147629,  0.95766947, -1.35251312])"
            ]
          },
          "metadata": {
            "tags": []
          },
          "execution_count": 8
        }
      ]
    },
    {
      "cell_type": "code",
      "metadata": {
        "id": "XzKKacn7Y3Oa",
        "colab_type": "code",
        "colab": {}
      },
      "source": [
        "result=np.subtract.outer(x,y)\n"
      ],
      "execution_count": 0,
      "outputs": []
    },
    {
      "cell_type": "code",
      "metadata": {
        "id": "-2kmdGKSZlzx",
        "colab_type": "code",
        "outputId": "40f2ddfa-dbb3-464d-a8e8-2b6697c68a16",
        "colab": {
          "base_uri": "https://localhost:8080/",
          "height": 34
        }
      },
      "source": [
        "result.shape"
      ],
      "execution_count": 0,
      "outputs": [
        {
          "output_type": "execute_result",
          "data": {
            "text/plain": [
              "(3, 4, 5)"
            ]
          },
          "metadata": {
            "tags": []
          },
          "execution_count": 7
        }
      ]
    },
    {
      "cell_type": "code",
      "metadata": {
        "id": "6P6r0e1bmWAy",
        "colab_type": "code",
        "outputId": "6d913a1d-ae10-40fa-fcaa-0cee0c91f22b",
        "colab": {
          "base_uri": "https://localhost:8080/",
          "height": 136
        }
      },
      "source": [
        "x1 = np.arange(9.0).reshape((3, 3))\n",
        "print(x1)\n",
        "x2 = np.arange(3.0)\n",
        "print(x2)\n",
        "np.subtract(x1, x2)"
      ],
      "execution_count": 0,
      "outputs": [
        {
          "output_type": "stream",
          "text": [
            "[[0. 1. 2.]\n",
            " [3. 4. 5.]\n",
            " [6. 7. 8.]]\n",
            "[0. 1. 2.]\n"
          ],
          "name": "stdout"
        },
        {
          "output_type": "execute_result",
          "data": {
            "text/plain": [
              "array([[0., 0., 0.],\n",
              "       [3., 3., 3.],\n",
              "       [6., 6., 6.]])"
            ]
          },
          "metadata": {
            "tags": []
          },
          "execution_count": 9
        }
      ]
    },
    {
      "cell_type": "code",
      "metadata": {
        "id": "MhcSTnjzoUCZ",
        "colab_type": "code",
        "outputId": "42f3b759-294a-4838-f359-105edf2030b7",
        "colab": {
          "base_uri": "https://localhost:8080/",
          "height": 323
        }
      },
      "source": [
        "x,y=np.arange(12).reshape(3,4),np.arange(5)\n",
        "print(x)\n",
        "print(y)\n",
        "np.subtract.outer(x,y)"
      ],
      "execution_count": 0,
      "outputs": [
        {
          "output_type": "stream",
          "text": [
            "[[ 0  1  2  3]\n",
            " [ 4  5  6  7]\n",
            " [ 8  9 10 11]]\n",
            "[0 1 2 3 4]\n"
          ],
          "name": "stdout"
        },
        {
          "output_type": "execute_result",
          "data": {
            "text/plain": [
              "array([[[ 0, -1, -2, -3, -4],\n",
              "        [ 1,  0, -1, -2, -3],\n",
              "        [ 2,  1,  0, -1, -2],\n",
              "        [ 3,  2,  1,  0, -1]],\n",
              "\n",
              "       [[ 4,  3,  2,  1,  0],\n",
              "        [ 5,  4,  3,  2,  1],\n",
              "        [ 6,  5,  4,  3,  2],\n",
              "        [ 7,  6,  5,  4,  3]],\n",
              "\n",
              "       [[ 8,  7,  6,  5,  4],\n",
              "        [ 9,  8,  7,  6,  5],\n",
              "        [10,  9,  8,  7,  6],\n",
              "        [11, 10,  9,  8,  7]]])"
            ]
          },
          "metadata": {
            "tags": []
          },
          "execution_count": 12
        }
      ]
    },
    {
      "cell_type": "code",
      "metadata": {
        "id": "rx9zaV1TmPJ0",
        "colab_type": "code",
        "outputId": "7ed09d12-67c2-4ed4-caeb-bffdae9ca202",
        "colab": {
          "base_uri": "https://localhost:8080/",
          "height": 51
        }
      },
      "source": [
        "import numpy as np\n",
        "arr=np.arange(10)\n",
        "print(arr)\n",
        "np.add.reduceat(arr,[0,5,8])\n",
        "# arr[0:5]\n",
        "# arr[5:8]\n",
        "# arr[8:]"
      ],
      "execution_count": 0,
      "outputs": [
        {
          "output_type": "stream",
          "text": [
            "[0 1 2 3 4 5 6 7 8 9]\n"
          ],
          "name": "stdout"
        },
        {
          "output_type": "execute_result",
          "data": {
            "text/plain": [
              "array([10, 18, 17])"
            ]
          },
          "metadata": {
            "tags": []
          },
          "execution_count": 6
        }
      ]
    },
    {
      "cell_type": "code",
      "metadata": {
        "id": "bg_NZBJSr9A-",
        "colab_type": "code",
        "outputId": "7d842a7a-b823-4860-bd11-c3b7bbe3cea3",
        "colab": {
          "base_uri": "https://localhost:8080/",
          "height": 85
        }
      },
      "source": [
        "arr = np.multiply.outer(np.arange(4), np.arange(5))\n",
        "arr"
      ],
      "execution_count": 0,
      "outputs": [
        {
          "output_type": "execute_result",
          "data": {
            "text/plain": [
              "array([[ 0,  0,  0,  0,  0],\n",
              "       [ 0,  1,  2,  3,  4],\n",
              "       [ 0,  2,  4,  6,  8],\n",
              "       [ 0,  3,  6,  9, 12]])"
            ]
          },
          "metadata": {
            "tags": []
          },
          "execution_count": 7
        }
      ]
    },
    {
      "cell_type": "code",
      "metadata": {
        "id": "rSocI_6ysBay",
        "colab_type": "code",
        "outputId": "a619252f-04ee-48ce-93fa-e0cab1615fbf",
        "colab": {
          "base_uri": "https://localhost:8080/",
          "height": 85
        }
      },
      "source": [
        "np.add.reduceat(arr,[0,2,4],axis=1)"
      ],
      "execution_count": 0,
      "outputs": [
        {
          "output_type": "execute_result",
          "data": {
            "text/plain": [
              "array([[ 0,  0,  0],\n",
              "       [ 1,  5,  4],\n",
              "       [ 2, 10,  8],\n",
              "       [ 3, 15, 12]])"
            ]
          },
          "metadata": {
            "tags": []
          },
          "execution_count": 8
        }
      ]
    },
    {
      "cell_type": "code",
      "metadata": {
        "id": "sGf2-PpAtY9P",
        "colab_type": "code",
        "outputId": "efaa3a8a-972f-40a1-ca91-94643f699cca",
        "colab": {
          "base_uri": "https://localhost:8080/",
          "height": 34
        }
      },
      "source": [
        "def add_elements(x,y):\n",
        "  return x+y\n",
        "add_them=np.frompyfunc(add_elements,2,1)\n",
        "add_them(np.arange(8),np.arange(8))\n",
        "# numpy.frompyfunc(func, nin, nout)\n",
        "# nin : int\n",
        "# The number of input arguments.\n",
        "\n",
        "# nout : int\n",
        "# The number of objects returned by func."
      ],
      "execution_count": 0,
      "outputs": [
        {
          "output_type": "execute_result",
          "data": {
            "text/plain": [
              "array([0, 2, 4, 6, 8, 10, 12, 14], dtype=object)"
            ]
          },
          "metadata": {
            "tags": []
          },
          "execution_count": 16
        }
      ]
    },
    {
      "cell_type": "code",
      "metadata": {
        "id": "hcRwa9bexreE",
        "colab_type": "code",
        "colab": {}
      },
      "source": [
        "add_them=np.vectorize(add_elements,otypes=[np.float64])"
      ],
      "execution_count": 0,
      "outputs": []
    },
    {
      "cell_type": "code",
      "metadata": {
        "id": "6xWnMN_wx3uF",
        "colab_type": "code",
        "outputId": "4ab97356-55df-4521-b5c7-c1069ca3a18d",
        "colab": {
          "base_uri": "https://localhost:8080/",
          "height": 34
        }
      },
      "source": [
        "add_them(np.arange(8),np.arange(8))"
      ],
      "execution_count": 0,
      "outputs": [
        {
          "output_type": "execute_result",
          "data": {
            "text/plain": [
              "array([ 0.,  2.,  4.,  6.,  8., 10., 12., 14.])"
            ]
          },
          "metadata": {
            "tags": []
          },
          "execution_count": 18
        }
      ]
    },
    {
      "cell_type": "code",
      "metadata": {
        "id": "tADGOw4R2tTV",
        "colab_type": "code",
        "outputId": "843a7ad4-83d7-4d9c-8fe0-9942e2766e9d",
        "colab": {
          "base_uri": "https://localhost:8080/",
          "height": 34
        }
      },
      "source": [
        "arr = np.random.randn(10000)\n",
        "\n",
        "%timeit add_them(arr, arr)\n"
      ],
      "execution_count": 0,
      "outputs": [
        {
          "output_type": "stream",
          "text": [
            "100 loops, best of 3: 2.45 ms per loop\n"
          ],
          "name": "stdout"
        }
      ]
    },
    {
      "cell_type": "code",
      "metadata": {
        "id": "WSPofkPC24tG",
        "colab_type": "code",
        "outputId": "1171dcc8-a313-4f9a-bdd2-44b1639e1ea4",
        "colab": {
          "base_uri": "https://localhost:8080/",
          "height": 51
        }
      },
      "source": [
        " %timeit np.add(arr, arr)"
      ],
      "execution_count": 0,
      "outputs": [
        {
          "output_type": "stream",
          "text": [
            "The slowest run took 343.03 times longer than the fastest. This could mean that an intermediate result is being cached.\n",
            "100000 loops, best of 3: 3.8 µs per loop\n"
          ],
          "name": "stdout"
        }
      ]
    },
    {
      "cell_type": "code",
      "metadata": {
        "id": "PQHNSiqi_bc2",
        "colab_type": "code",
        "outputId": "c57e40ec-0dcb-4869-e0a8-2b1b937da526",
        "colab": {
          "base_uri": "https://localhost:8080/",
          "height": 51
        }
      },
      "source": [
        "dtype=[('x',np.float64),('y',np.int32)]\n",
        "sarr=np.array([(1.5,6),(np.pi,-2)],dtype=dtype)\n",
        "sarr"
      ],
      "execution_count": 0,
      "outputs": [
        {
          "output_type": "execute_result",
          "data": {
            "text/plain": [
              "array([(1.5       ,  6), (3.14159265, -2)],\n",
              "      dtype=[('x', '<f8'), ('y', '<i4')])"
            ]
          },
          "metadata": {
            "tags": []
          },
          "execution_count": 21
        }
      ]
    },
    {
      "cell_type": "code",
      "metadata": {
        "id": "wooO5CswDvcC",
        "colab_type": "code",
        "outputId": "cdd1f596-d6e5-4814-8d19-07443df65524",
        "colab": {
          "base_uri": "https://localhost:8080/",
          "height": 34
        }
      },
      "source": [
        "sarr[0]"
      ],
      "execution_count": 0,
      "outputs": [
        {
          "output_type": "execute_result",
          "data": {
            "text/plain": [
              "(1.5, 6)"
            ]
          },
          "metadata": {
            "tags": []
          },
          "execution_count": 22
        }
      ]
    },
    {
      "cell_type": "code",
      "metadata": {
        "id": "J4p7XPwrD0Tf",
        "colab_type": "code",
        "outputId": "d7c487ed-dd65-428b-8378-4e8d06276ae5",
        "colab": {
          "base_uri": "https://localhost:8080/",
          "height": 34
        }
      },
      "source": [
        "sarr[0]['y']"
      ],
      "execution_count": 0,
      "outputs": [
        {
          "output_type": "execute_result",
          "data": {
            "text/plain": [
              "6"
            ]
          },
          "metadata": {
            "tags": []
          },
          "execution_count": 23
        }
      ]
    },
    {
      "cell_type": "code",
      "metadata": {
        "id": "60v-bhsVEQ9f",
        "colab_type": "code",
        "outputId": "17434c54-e5c8-4973-f961-c1b8354d5ef5",
        "colab": {
          "base_uri": "https://localhost:8080/",
          "height": 34
        }
      },
      "source": [
        "sarr['x']"
      ],
      "execution_count": 0,
      "outputs": [
        {
          "output_type": "execute_result",
          "data": {
            "text/plain": [
              "array([1.5       , 3.14159265])"
            ]
          },
          "metadata": {
            "tags": []
          },
          "execution_count": 24
        }
      ]
    },
    {
      "cell_type": "code",
      "metadata": {
        "id": "s-gwKUYyH1rb",
        "colab_type": "code",
        "outputId": "a407fdb1-de11-4a05-80f3-807df1ccdac0",
        "colab": {
          "base_uri": "https://localhost:8080/",
          "height": 51
        }
      },
      "source": [
        "dtype=[('x',np.int64,3),('y',np.int32)]\n",
        "arr=np.zeros(4,dtype=dtype)\n",
        "arr"
      ],
      "execution_count": 0,
      "outputs": [
        {
          "output_type": "execute_result",
          "data": {
            "text/plain": [
              "array([([0, 0, 0], 0), ([0, 0, 0], 0), ([0, 0, 0], 0), ([0, 0, 0], 0)],\n",
              "      dtype=[('x', '<i8', (3,)), ('y', '<i4')])"
            ]
          },
          "metadata": {
            "tags": []
          },
          "execution_count": 26
        }
      ]
    },
    {
      "cell_type": "code",
      "metadata": {
        "id": "TMqGYz7WIXcA",
        "colab_type": "code",
        "outputId": "d43c8e8c-da66-47ba-af8c-05d57d3f275a",
        "colab": {
          "base_uri": "https://localhost:8080/",
          "height": 34
        }
      },
      "source": [
        "arr[0]['x']"
      ],
      "execution_count": 0,
      "outputs": [
        {
          "output_type": "execute_result",
          "data": {
            "text/plain": [
              "array([0, 0, 0])"
            ]
          },
          "metadata": {
            "tags": []
          },
          "execution_count": 27
        }
      ]
    },
    {
      "cell_type": "code",
      "metadata": {
        "id": "K9YPfjg0IcRr",
        "colab_type": "code",
        "outputId": "0f02f13b-903b-430e-e0d2-53878fbe1cdf",
        "colab": {
          "base_uri": "https://localhost:8080/",
          "height": 85
        }
      },
      "source": [
        "arr['x']"
      ],
      "execution_count": 0,
      "outputs": [
        {
          "output_type": "execute_result",
          "data": {
            "text/plain": [
              "array([[0, 0, 0],\n",
              "       [0, 0, 0],\n",
              "       [0, 0, 0],\n",
              "       [0, 0, 0]])"
            ]
          },
          "metadata": {
            "tags": []
          },
          "execution_count": 28
        }
      ]
    },
    {
      "cell_type": "code",
      "metadata": {
        "id": "m6PMTcKDIgXy",
        "colab_type": "code",
        "outputId": "4090382b-7c96-4c6c-8de6-eb86c2f6305c",
        "colab": {
          "base_uri": "https://localhost:8080/",
          "height": 34
        }
      },
      "source": [
        "arr['y']"
      ],
      "execution_count": 0,
      "outputs": [
        {
          "output_type": "execute_result",
          "data": {
            "text/plain": [
              "array([0, 0, 0, 0], dtype=int32)"
            ]
          },
          "metadata": {
            "tags": []
          },
          "execution_count": 29
        }
      ]
    },
    {
      "cell_type": "code",
      "metadata": {
        "id": "t_wiIpKAJ1pG",
        "colab_type": "code",
        "outputId": "7fbb84dd-9632-4ca1-842d-deb3bfa819fd",
        "colab": {
          "base_uri": "https://localhost:8080/",
          "height": 34
        }
      },
      "source": [
        "dtype = [('x', [('a', 'f8'), ('b', 'f4')]), ('y', np.int32)]\n",
        "data = np.array([((1, 2), 5), ((3, 4), 6)], dtype=dtype)\n",
        "data['x']"
      ],
      "execution_count": 0,
      "outputs": [
        {
          "output_type": "execute_result",
          "data": {
            "text/plain": [
              "array([(1., 2.), (3., 4.)], dtype=[('a', '<f8'), ('b', '<f4')])"
            ]
          },
          "metadata": {
            "tags": []
          },
          "execution_count": 30
        }
      ]
    },
    {
      "cell_type": "code",
      "metadata": {
        "id": "pVx_LFOrKBnI",
        "colab_type": "code",
        "outputId": "2b1786ba-e8c3-4b87-9c8d-91d8add6afce",
        "colab": {
          "base_uri": "https://localhost:8080/",
          "height": 34
        }
      },
      "source": [
        "data['y']"
      ],
      "execution_count": 0,
      "outputs": [
        {
          "output_type": "execute_result",
          "data": {
            "text/plain": [
              "array([5, 6], dtype=int32)"
            ]
          },
          "metadata": {
            "tags": []
          },
          "execution_count": 31
        }
      ]
    },
    {
      "cell_type": "code",
      "metadata": {
        "id": "IPrynbDtKF31",
        "colab_type": "code",
        "outputId": "902061fb-6981-4f16-89c0-113374a95e9b",
        "colab": {
          "base_uri": "https://localhost:8080/",
          "height": 34
        }
      },
      "source": [
        "data['x']['a']"
      ],
      "execution_count": 0,
      "outputs": [
        {
          "output_type": "execute_result",
          "data": {
            "text/plain": [
              "array([1., 3.])"
            ]
          },
          "metadata": {
            "tags": []
          },
          "execution_count": 32
        }
      ]
    },
    {
      "cell_type": "code",
      "metadata": {
        "id": "-dTasJiCLV0L",
        "colab_type": "code",
        "colab": {}
      },
      "source": [
        "np.fromfile"
      ],
      "execution_count": 0,
      "outputs": []
    },
    {
      "cell_type": "code",
      "metadata": {
        "id": "GiMAx_iqLbNJ",
        "colab_type": "code",
        "outputId": "4f0bde64-ac30-432b-d16b-c53ed9c87250",
        "colab": {
          "base_uri": "https://localhost:8080/",
          "height": 51
        }
      },
      "source": [
        "import numpy as np\n",
        "arr=np.random.randn(6)\n",
        "print(arr)\n",
        "arr.sort()\n",
        "print(arr)"
      ],
      "execution_count": 0,
      "outputs": [
        {
          "output_type": "stream",
          "text": [
            "[-0.61004186 -2.73042259 -0.25991294  0.88439983  0.52509809  2.04142743]\n",
            "[-2.73042259 -0.61004186 -0.25991294  0.52509809  0.88439983  2.04142743]\n"
          ],
          "name": "stdout"
        }
      ]
    },
    {
      "cell_type": "code",
      "metadata": {
        "id": "3coS0gOdLiPS",
        "colab_type": "code",
        "outputId": "be89a753-ea75-4caa-df9a-53cf9123a63f",
        "colab": {
          "base_uri": "https://localhost:8080/",
          "height": 119
        }
      },
      "source": [
        "arr=np.random.randn(3,5)\n",
        "print(arr)\n",
        "arr[:,0].sort()\n",
        "print(arr)"
      ],
      "execution_count": 0,
      "outputs": [
        {
          "output_type": "stream",
          "text": [
            "[[-0.54056902  0.32283189 -0.21445641  2.64039707  0.76920136]\n",
            " [ 0.16054696  0.39808051 -0.72871326 -0.13524613 -0.05896871]\n",
            " [-0.27800603  0.37928709  0.22644918  0.12484249  1.21020076]]\n",
            "[[-0.54056902  0.32283189 -0.21445641  2.64039707  0.76920136]\n",
            " [-0.27800603  0.39808051 -0.72871326 -0.13524613 -0.05896871]\n",
            " [ 0.16054696  0.37928709  0.22644918  0.12484249  1.21020076]]\n"
          ],
          "name": "stdout"
        }
      ]
    },
    {
      "cell_type": "code",
      "metadata": {
        "id": "t94tyBT_MTin",
        "colab_type": "code",
        "outputId": "df2657b5-bb05-4aeb-8bda-40d984f2c555",
        "colab": {
          "base_uri": "https://localhost:8080/",
          "height": 51
        }
      },
      "source": [
        "arr=np.random.randn(5)\n",
        "print(np.sort(arr))\n",
        "arr"
      ],
      "execution_count": 0,
      "outputs": [
        {
          "output_type": "stream",
          "text": [
            "[-0.72090029 -0.25694987  0.11780002  0.7625437   1.93742429]\n"
          ],
          "name": "stdout"
        },
        {
          "output_type": "execute_result",
          "data": {
            "text/plain": [
              "array([ 0.11780002,  0.7625437 ,  1.93742429, -0.25694987, -0.72090029])"
            ]
          },
          "metadata": {
            "tags": []
          },
          "execution_count": 6
        }
      ]
    },
    {
      "cell_type": "code",
      "metadata": {
        "id": "rE2aVvPTNrCu",
        "colab_type": "code",
        "outputId": "6ec153d7-c22f-46e2-9337-3c0865d80088",
        "colab": {
          "base_uri": "https://localhost:8080/",
          "height": 119
        }
      },
      "source": [
        "arr=np.random.randn(3,5)\n",
        "print(arr)\n",
        "arr.sort(axis=1)#row axis\n",
        "arr"
      ],
      "execution_count": 0,
      "outputs": [
        {
          "output_type": "stream",
          "text": [
            "[[-2.25261713  0.829623    0.30266786 -1.66147679  0.29145973]\n",
            " [ 1.12337587 -2.3104531  -0.02633112 -2.29009744 -1.00321666]\n",
            " [-0.74256473 -1.71586536  0.48891908 -0.30144205 -1.5920998 ]]\n"
          ],
          "name": "stdout"
        },
        {
          "output_type": "execute_result",
          "data": {
            "text/plain": [
              "array([[-2.25261713, -1.66147679,  0.29145973,  0.30266786,  0.829623  ],\n",
              "       [-2.3104531 , -2.29009744, -1.00321666, -0.02633112,  1.12337587],\n",
              "       [-1.71586536, -1.5920998 , -0.74256473, -0.30144205,  0.48891908]])"
            ]
          },
          "metadata": {
            "tags": []
          },
          "execution_count": 7
        }
      ]
    },
    {
      "cell_type": "code",
      "metadata": {
        "id": "R4jXTgANN833",
        "colab_type": "code",
        "outputId": "0515ffaf-3924-486f-c6a7-6e9318fbce4c",
        "colab": {
          "base_uri": "https://localhost:8080/",
          "height": 68
        }
      },
      "source": [
        "arr[:,::-1]#descending order sort"
      ],
      "execution_count": 0,
      "outputs": [
        {
          "output_type": "execute_result",
          "data": {
            "text/plain": [
              "array([[ 0.829623  ,  0.30266786,  0.29145973, -1.66147679, -2.25261713],\n",
              "       [ 1.12337587, -0.02633112, -1.00321666, -2.29009744, -2.3104531 ],\n",
              "       [ 0.48891908, -0.30144205, -0.74256473, -1.5920998 , -1.71586536]])"
            ]
          },
          "metadata": {
            "tags": []
          },
          "execution_count": 8
        }
      ]
    },
    {
      "cell_type": "code",
      "metadata": {
        "id": "E57OdUBXd-5E",
        "colab_type": "code",
        "outputId": "d66e477e-9c4d-437c-d962-56a359ce7131",
        "colab": {
          "base_uri": "https://localhost:8080/",
          "height": 51
        }
      },
      "source": [
        "values = np.array([5, 0, 1, 3, 2])\n",
        "indexer=values.argsort()\n",
        "print(indexer)\n",
        "values[indexer]"
      ],
      "execution_count": 0,
      "outputs": [
        {
          "output_type": "stream",
          "text": [
            "[1 2 4 3 0]\n"
          ],
          "name": "stdout"
        },
        {
          "output_type": "execute_result",
          "data": {
            "text/plain": [
              "array([0, 1, 2, 3, 5])"
            ]
          },
          "metadata": {
            "tags": []
          },
          "execution_count": 9
        }
      ]
    },
    {
      "cell_type": "code",
      "metadata": {
        "id": "Sas5ec3Sfd7F",
        "colab_type": "code",
        "outputId": "900bc8a7-9b8d-40d9-d41b-503412f2f8dc",
        "colab": {
          "base_uri": "https://localhost:8080/",
          "height": 119
        }
      },
      "source": [
        "arr=np.random.randn(3,5)\n",
        "arr[0]=values\n",
        "print(arr)\n",
        "arr[:,arr[0].argsort()]"
      ],
      "execution_count": 0,
      "outputs": [
        {
          "output_type": "stream",
          "text": [
            "[[ 5.          0.          1.          3.          2.        ]\n",
            " [ 0.42762388 -0.05725734  1.25360129  0.11135755 -0.38849411]\n",
            " [ 0.1311168  -0.00706411  0.46010651 -1.57426073  1.52875264]]\n"
          ],
          "name": "stdout"
        },
        {
          "output_type": "execute_result",
          "data": {
            "text/plain": [
              "array([[ 0.        ,  1.        ,  2.        ,  3.        ,  5.        ],\n",
              "       [-0.05725734,  1.25360129, -0.38849411,  0.11135755,  0.42762388],\n",
              "       [-0.00706411,  0.46010651,  1.52875264, -1.57426073,  0.1311168 ]])"
            ]
          },
          "metadata": {
            "tags": []
          },
          "execution_count": 13
        }
      ]
    },
    {
      "cell_type": "code",
      "metadata": {
        "id": "bs9OE6P9jk25",
        "colab_type": "code",
        "outputId": "35db814f-f4eb-4e76-9942-825977ba6461",
        "colab": {
          "base_uri": "https://localhost:8080/",
          "height": 68
        }
      },
      "source": [
        "import numpy as np\n",
        "first_name = np.array(['Bob', 'Jane', 'Steve', 'Bill', 'Barbara'])\n",
        "last_name = np.array(['Jones', 'Arnold', 'Arnold', 'Jones', 'Walters'])\n",
        "sorter=np.lexsort((first_name,last_name))\n",
        "print(first_name[sorter])\n",
        "print(last_name[sorter])\n",
        "print(sorter)            "
      ],
      "execution_count": 0,
      "outputs": [
        {
          "output_type": "stream",
          "text": [
            "['Jane' 'Steve' 'Bill' 'Bob' 'Barbara']\n",
            "['Arnold' 'Arnold' 'Jones' 'Jones' 'Walters']\n",
            "[1 2 3 0 4]\n"
          ],
          "name": "stdout"
        }
      ]
    },
    {
      "cell_type": "code",
      "metadata": {
        "id": "BlyarLED9fRJ",
        "colab_type": "code",
        "outputId": "83405449-1b6c-456b-90b1-0e9ebb427b0c",
        "colab": {
          "base_uri": "https://localhost:8080/",
          "height": 34
        }
      },
      "source": [
        "zipped=zip(last_name[sorter],first_name[sorter])\n",
        "dict(zipped)"
      ],
      "execution_count": 0,
      "outputs": [
        {
          "output_type": "execute_result",
          "data": {
            "text/plain": [
              "{'Arnold': 'Steve', 'Jones': 'Bob', 'Walters': 'Barbara'}"
            ]
          },
          "metadata": {
            "tags": []
          },
          "execution_count": 5
        }
      ]
    },
    {
      "cell_type": "code",
      "metadata": {
        "id": "kGmgZCRnTzz4",
        "colab_type": "code",
        "outputId": "9abc64b5-5beb-48f9-9798-d8ce3ddbb050",
        "colab": {
          "base_uri": "https://localhost:8080/",
          "height": 34
        }
      },
      "source": [
        "import numpy as np\n",
        "values = np.array(['2:first', '2:second', '1:first', '1:second','1:third'])\n",
        "key = np.array([2, 2, 1, 1, 1])\n",
        "indexer=key.argsort(kind='mergesort')\n",
        "indexer"
      ],
      "execution_count": 0,
      "outputs": [
        {
          "output_type": "execute_result",
          "data": {
            "text/plain": [
              "array([2, 3, 4, 0, 1])"
            ]
          },
          "metadata": {
            "tags": []
          },
          "execution_count": 3
        }
      ]
    },
    {
      "cell_type": "code",
      "metadata": {
        "id": "5ySY1xXgddm6",
        "colab_type": "code",
        "outputId": "fb017aa0-4dbf-42f8-bb3e-5fb92eabad03",
        "colab": {
          "base_uri": "https://localhost:8080/",
          "height": 51
        }
      },
      "source": [
        "values.take(indexer)"
      ],
      "execution_count": 0,
      "outputs": [
        {
          "output_type": "execute_result",
          "data": {
            "text/plain": [
              "array(['1:first', '1:second', '1:third', '2:first', '2:second'],\n",
              "      dtype='<U8')"
            ]
          },
          "metadata": {
            "tags": []
          },
          "execution_count": 4
        }
      ]
    },
    {
      "cell_type": "code",
      "metadata": {
        "id": "JDwQnv-1opTh",
        "colab_type": "code",
        "outputId": "f57956d4-5178-4f2f-b38b-05f1ca34349e",
        "colab": {
          "base_uri": "https://localhost:8080/",
          "height": 85
        }
      },
      "source": [
        "np.random.seed(12345)\n",
        "arr = np.random.randn(20)\n",
        "arr"
      ],
      "execution_count": 0,
      "outputs": [
        {
          "output_type": "execute_result",
          "data": {
            "text/plain": [
              "array([-0.20470766,  0.47894334, -0.51943872, -0.5557303 ,  1.96578057,\n",
              "        1.39340583,  0.09290788,  0.28174615,  0.76902257,  1.24643474,\n",
              "        1.00718936, -1.29622111,  0.27499163,  0.22891288,  1.35291684,\n",
              "        0.88642934, -2.00163731, -0.37184254,  1.66902531, -0.43856974])"
            ]
          },
          "metadata": {
            "tags": []
          },
          "execution_count": 5
        }
      ]
    },
    {
      "cell_type": "code",
      "metadata": {
        "id": "awA-T9j_ov8u",
        "colab_type": "code",
        "outputId": "2a338d86-c2c3-497a-9d83-b126defdb2ac",
        "colab": {
          "base_uri": "https://localhost:8080/",
          "height": 85
        }
      },
      "source": [
        "np.partition(arr,3)"
      ],
      "execution_count": 0,
      "outputs": [
        {
          "output_type": "execute_result",
          "data": {
            "text/plain": [
              "array([-2.00163731, -1.29622111, -0.5557303 , -0.51943872, -0.37184254,\n",
              "       -0.43856974, -0.20470766,  0.28174615,  0.76902257,  0.47894334,\n",
              "        1.00718936,  0.09290788,  0.27499163,  0.22891288,  1.35291684,\n",
              "        0.88642934,  1.39340583,  1.96578057,  1.66902531,  1.24643474])"
            ]
          },
          "metadata": {
            "tags": []
          },
          "execution_count": 6
        }
      ]
    },
    {
      "cell_type": "code",
      "metadata": {
        "id": "cSb54Dpro4hg",
        "colab_type": "code",
        "outputId": "b45ded9c-2881-4312-c03b-bc32642a6f17",
        "colab": {
          "base_uri": "https://localhost:8080/",
          "height": 51
        }
      },
      "source": [
        "indices = np.argpartition(arr, 3)\n",
        "indices"
      ],
      "execution_count": 0,
      "outputs": [
        {
          "output_type": "execute_result",
          "data": {
            "text/plain": [
              "array([16, 11,  3,  2, 17, 19,  0,  7,  8,  1, 10,  6, 12, 13, 14, 15,  5,\n",
              "        4, 18,  9])"
            ]
          },
          "metadata": {
            "tags": []
          },
          "execution_count": 7
        }
      ]
    },
    {
      "cell_type": "code",
      "metadata": {
        "id": "RKyn39Mao8u9",
        "colab_type": "code",
        "outputId": "18fdf63a-2967-4886-85b1-7be71770ef33",
        "colab": {
          "base_uri": "https://localhost:8080/",
          "height": 85
        }
      },
      "source": [
        "arr.take(indices)"
      ],
      "execution_count": 0,
      "outputs": [
        {
          "output_type": "execute_result",
          "data": {
            "text/plain": [
              "array([-2.00163731, -1.29622111, -0.5557303 , -0.51943872, -0.37184254,\n",
              "       -0.43856974, -0.20470766,  0.28174615,  0.76902257,  0.47894334,\n",
              "        1.00718936,  0.09290788,  0.27499163,  0.22891288,  1.35291684,\n",
              "        0.88642934,  1.39340583,  1.96578057,  1.66902531,  1.24643474])"
            ]
          },
          "metadata": {
            "tags": []
          },
          "execution_count": 9
        }
      ]
    },
    {
      "cell_type": "code",
      "metadata": {
        "id": "LgevG641sFgr",
        "colab_type": "code",
        "outputId": "5bbbedbe-39d9-4640-ad33-6126f5e7781e",
        "colab": {
          "base_uri": "https://localhost:8080/",
          "height": 34
        }
      },
      "source": [
        "import numpy as np\n",
        "arr = np.array([0, 1, 7, 12, 15])\n",
        "arr.searchsorted(9)"
      ],
      "execution_count": 0,
      "outputs": [
        {
          "output_type": "execute_result",
          "data": {
            "text/plain": [
              "3"
            ]
          },
          "metadata": {
            "tags": []
          },
          "execution_count": 2
        }
      ]
    },
    {
      "cell_type": "code",
      "metadata": {
        "id": "tRvNVvxdsrAI",
        "colab_type": "code",
        "outputId": "5c2b7c19-a630-48f4-866b-e518a3438146",
        "colab": {
          "base_uri": "https://localhost:8080/",
          "height": 34
        }
      },
      "source": [
        "arr.searchsorted([0, 8, 11, 16])"
      ],
      "execution_count": 0,
      "outputs": [
        {
          "output_type": "execute_result",
          "data": {
            "text/plain": [
              "array([0, 3, 3, 5])"
            ]
          },
          "metadata": {
            "tags": []
          },
          "execution_count": 3
        }
      ]
    },
    {
      "cell_type": "code",
      "metadata": {
        "id": "5fNnf2OTs54a",
        "colab_type": "code",
        "outputId": "93d55e90-cff2-4dbb-e810-0c88400fbad5",
        "colab": {
          "base_uri": "https://localhost:8080/",
          "height": 34
        }
      },
      "source": [
        "arr = np.array([0, 0, 0, 1, 1, 1, 1])\n",
        "arr.searchsorted([0, 1])"
      ],
      "execution_count": 0,
      "outputs": [
        {
          "output_type": "execute_result",
          "data": {
            "text/plain": [
              "array([0, 3])"
            ]
          },
          "metadata": {
            "tags": []
          },
          "execution_count": 4
        }
      ]
    },
    {
      "cell_type": "code",
      "metadata": {
        "id": "-q9zVp7CtBvR",
        "colab_type": "code",
        "outputId": "d93b62f8-2de0-48fd-d594-5fd9ff7e2f95",
        "colab": {
          "base_uri": "https://localhost:8080/",
          "height": 34
        }
      },
      "source": [
        "arr.searchsorted([0,1],side='right')"
      ],
      "execution_count": 0,
      "outputs": [
        {
          "output_type": "execute_result",
          "data": {
            "text/plain": [
              "array([3, 7])"
            ]
          },
          "metadata": {
            "tags": []
          },
          "execution_count": 5
        }
      ]
    },
    {
      "cell_type": "code",
      "metadata": {
        "id": "psydbOen1duV",
        "colab_type": "code",
        "outputId": "4a091fab-9c70-424f-e168-11f15b267a01",
        "colab": {
          "base_uri": "https://localhost:8080/",
          "height": 119
        }
      },
      "source": [
        "data=np.floor(np.random.uniform(0,10000,size=50))\n",
        "bins=np.array([0,100,1000,5000,10000])\n",
        "data"
      ],
      "execution_count": 0,
      "outputs": [
        {
          "output_type": "execute_result",
          "data": {
            "text/plain": [
              "array([7759., 3317., 9198., 7057.,  904., 4404., 8733., 7656., 2620.,\n",
              "       5428., 5003., 8923., 1278., 2733., 6065., 4597., 1888., 9552.,\n",
              "       5060., 5053., 3562., 4652., 6683., 6353., 3844.,  417., 1789.,\n",
              "       4542., 7180., 9888., 7939., 6233.,  354., 2971., 1865., 7748.,\n",
              "       8796., 9348., 4390., 7281., 2656., 4631., 9614.,  837., 4256.,\n",
              "       6076., 1430., 1047., 9767., 4003.])"
            ]
          },
          "metadata": {
            "tags": []
          },
          "execution_count": 6
        }
      ]
    },
    {
      "cell_type": "code",
      "metadata": {
        "id": "VXVPdPHW4AZe",
        "colab_type": "code",
        "outputId": "8e048b9a-3dc6-4fe7-cf26-07e7424d05bf",
        "colab": {
          "base_uri": "https://localhost:8080/",
          "height": 68
        }
      },
      "source": [
        "labels=bins.searchsorted(data)\n",
        "labels"
      ],
      "execution_count": 0,
      "outputs": [
        {
          "output_type": "execute_result",
          "data": {
            "text/plain": [
              "array([4, 3, 4, 4, 2, 3, 4, 4, 3, 4, 4, 4, 3, 3, 4, 3, 3, 4, 4, 4, 3, 3,\n",
              "       4, 4, 3, 2, 3, 3, 4, 4, 4, 4, 2, 3, 3, 4, 4, 4, 3, 4, 3, 3, 4, 2,\n",
              "       3, 4, 3, 3, 4, 3])"
            ]
          },
          "metadata": {
            "tags": []
          },
          "execution_count": 7
        }
      ]
    },
    {
      "cell_type": "code",
      "metadata": {
        "id": "DKodzk_n43zz",
        "colab_type": "code",
        "outputId": "410d21f7-9355-4a03-e75b-9368e6d286fe",
        "colab": {
          "base_uri": "https://localhost:8080/",
          "height": 85
        }
      },
      "source": [
        "import pandas as pd\n",
        "pd.Series(data).groupby(labels).mean()"
      ],
      "execution_count": 0,
      "outputs": [
        {
          "output_type": "execute_result",
          "data": {
            "text/plain": [
              "2     628.00000\n",
              "3    3165.47619\n",
              "4    7535.72000\n",
              "dtype: float64"
            ]
          },
          "metadata": {
            "tags": []
          },
          "execution_count": 9
        }
      ]
    },
    {
      "cell_type": "code",
      "metadata": {
        "id": "UwbogMzrwdmj",
        "colab_type": "code",
        "colab": {}
      },
      "source": [
        "import numpy as np\n",
        "def distance_mean(x,y):\n",
        "  nx=len(x)\n",
        "  result=0.0\n",
        "  count=0\n",
        "  for i in range(nx):\n",
        "    result+=x[i]-y[i]\n",
        "    count+=1\n",
        "  return result/count "
      ],
      "execution_count": 0,
      "outputs": []
    },
    {
      "cell_type": "code",
      "metadata": {
        "id": "uGn7uXFE-yR0",
        "colab_type": "code",
        "colab": {
          "base_uri": "https://localhost:8080/",
          "height": 51
        },
        "outputId": "7cf6413d-856d-4da3-91e0-da7eb2365a8c"
      },
      "source": [
        "x=np.random.randn(10000000)\n",
        "y=np.random.randn(10000000)\n",
        "%timeit distance_mean(x,y)\n",
        "%timeit (x-y).mean()"
      ],
      "execution_count": 2,
      "outputs": [
        {
          "output_type": "stream",
          "text": [
            "1 loop, best of 3: 3.52 s per loop\n",
            "10 loops, best of 3: 40.8 ms per loop\n"
          ],
          "name": "stdout"
        }
      ]
    },
    {
      "cell_type": "code",
      "metadata": {
        "id": "tE1kXvcCA0hZ",
        "colab_type": "code",
        "colab": {}
      },
      "source": [
        "import numba as nb\n",
        "numba_dis_mea=nb.jit(distance_mean)\n",
        "#or \n",
        "@nb.jit\n",
        "def distance_mean(x,y):\n",
        "  nx=len(x)\n",
        "  result=0.0\n",
        "  count=0\n",
        "  for i in range(nx):\n",
        "    result+=x[i]-y[i]\n",
        "    count+=1\n",
        "  return result/count "
      ],
      "execution_count": 0,
      "outputs": []
    },
    {
      "cell_type": "code",
      "metadata": {
        "id": "lZtpuo12BG27",
        "colab_type": "code",
        "colab": {
          "base_uri": "https://localhost:8080/",
          "height": 51
        },
        "outputId": "cc035f7c-af88-4bbd-d747-9b337826e3e0"
      },
      "source": [
        "%timeit numba_dis_mea(x,y)"
      ],
      "execution_count": 4,
      "outputs": [
        {
          "output_type": "stream",
          "text": [
            "The slowest run took 11.54 times longer than the fastest. This could mean that an intermediate result is being cached.\n",
            "1 loop, best of 3: 21 ms per loop\n"
          ],
          "name": "stdout"
        }
      ]
    },
    {
      "cell_type": "code",
      "metadata": {
        "id": "Jn3I0mSMCPs_",
        "colab_type": "code",
        "colab": {}
      },
      "source": [
        "from numba import float64, njit\n",
        "@njit(float64(float64[:], float64[:]))\n",
        "def mean_distance(x, y):\n",
        "  return (x - y).mean()"
      ],
      "execution_count": 0,
      "outputs": []
    },
    {
      "cell_type": "code",
      "metadata": {
        "id": "bXqg6yrcFWED",
        "colab_type": "code",
        "colab": {}
      },
      "source": [
        "from numba import vectorize\n",
        "@vectorize\n",
        "def nb_add(x, y):\n",
        "  return x + y"
      ],
      "execution_count": 0,
      "outputs": []
    },
    {
      "cell_type": "code",
      "metadata": {
        "id": "GeXsx0PTFbuh",
        "colab_type": "code",
        "colab": {
          "base_uri": "https://localhost:8080/",
          "height": 34
        },
        "outputId": "312f1ae9-eacd-448d-91e1-1f04034697d7"
      },
      "source": [
        "x = np.arange(10)\n",
        "nb_add(x, x)"
      ],
      "execution_count": 8,
      "outputs": [
        {
          "output_type": "execute_result",
          "data": {
            "text/plain": [
              "array([ 0,  2,  4,  6,  8, 10, 12, 14, 16, 18])"
            ]
          },
          "metadata": {
            "tags": []
          },
          "execution_count": 8
        }
      ]
    },
    {
      "cell_type": "code",
      "metadata": {
        "id": "Moqoht5eFi2-",
        "colab_type": "code",
        "colab": {
          "base_uri": "https://localhost:8080/",
          "height": 34
        },
        "outputId": "40c10913-c1f2-4976-bf55-fc495422d5ad"
      },
      "source": [
        "nb_add.accumulate(x,0)"
      ],
      "execution_count": 9,
      "outputs": [
        {
          "output_type": "execute_result",
          "data": {
            "text/plain": [
              "array([ 0,  1,  3,  6, 10, 15, 21, 28, 36, 45])"
            ]
          },
          "metadata": {
            "tags": []
          },
          "execution_count": 9
        }
      ]
    },
    {
      "cell_type": "code",
      "metadata": {
        "id": "Hd0p01TI8Jns",
        "colab_type": "code",
        "colab": {
          "base_uri": "https://localhost:8080/",
          "height": 136
        },
        "outputId": "1a0650a6-5035-43e2-e8e8-8fd413ec9803"
      },
      "source": [
        "import numpy as np\n",
        "mmap=np.memmap('mymmap',dtype='float64',mode='w+', shape=(10000,10000))\n",
        "mmap"
      ],
      "execution_count": 6,
      "outputs": [
        {
          "output_type": "execute_result",
          "data": {
            "text/plain": [
              "memmap([[0., 0., 0., ..., 0., 0., 0.],\n",
              "        [0., 0., 0., ..., 0., 0., 0.],\n",
              "        [0., 0., 0., ..., 0., 0., 0.],\n",
              "        ...,\n",
              "        [0., 0., 0., ..., 0., 0., 0.],\n",
              "        [0., 0., 0., ..., 0., 0., 0.],\n",
              "        [0., 0., 0., ..., 0., 0., 0.]])"
            ]
          },
          "metadata": {
            "tags": []
          },
          "execution_count": 6
        }
      ]
    },
    {
      "cell_type": "code",
      "metadata": {
        "id": "1uyryHPH-1mM",
        "colab_type": "code",
        "colab": {}
      },
      "source": [
        "section=mmap[:5]"
      ],
      "execution_count": 0,
      "outputs": []
    },
    {
      "cell_type": "code",
      "metadata": {
        "id": "VyNgMQyoAVHw",
        "colab_type": "code",
        "colab": {
          "base_uri": "https://localhost:8080/",
          "height": 238
        },
        "outputId": "36f1df9d-a46f-46af-df5d-f7080457006f"
      },
      "source": [
        "section[:]=np.random.randn(5,10000)\n",
        "mmap.flush()\n",
        "mmap"
      ],
      "execution_count": 8,
      "outputs": [
        {
          "output_type": "execute_result",
          "data": {
            "text/plain": [
              "memmap([[ 1.49997892,  0.72236864,  1.36252913, ...,  0.98506436,\n",
              "          0.74321931,  1.62416554],\n",
              "        [ 1.19152393,  0.62198505,  0.03801837, ..., -0.33039916,\n",
              "         -0.02893641, -0.78470689],\n",
              "        [-1.38610372, -0.88873551,  1.17319108, ..., -1.24519992,\n",
              "          1.22091157, -0.48919582],\n",
              "        ...,\n",
              "        [ 0.        ,  0.        ,  0.        , ...,  0.        ,\n",
              "          0.        ,  0.        ],\n",
              "        [ 0.        ,  0.        ,  0.        , ...,  0.        ,\n",
              "          0.        ,  0.        ],\n",
              "        [ 0.        ,  0.        ,  0.        , ...,  0.        ,\n",
              "          0.        ,  0.        ]])"
            ]
          },
          "metadata": {
            "tags": []
          },
          "execution_count": 8
        }
      ]
    },
    {
      "cell_type": "code",
      "metadata": {
        "id": "37WFYXN7Ay8p",
        "colab_type": "code",
        "colab": {}
      },
      "source": [
        "del mmap"
      ],
      "execution_count": 0,
      "outputs": []
    },
    {
      "cell_type": "code",
      "metadata": {
        "id": "thUc4j4kDMQd",
        "colab_type": "code",
        "colab": {
          "base_uri": "https://localhost:8080/",
          "height": 238
        },
        "outputId": "65c36b88-0dae-42d5-b230-8045935652a2"
      },
      "source": [
        "mmap = np.memmap('mymmap', dtype='float64', shape=(10000, 10000))\n",
        "mmap"
      ],
      "execution_count": 10,
      "outputs": [
        {
          "output_type": "execute_result",
          "data": {
            "text/plain": [
              "memmap([[ 1.49997892,  0.72236864,  1.36252913, ...,  0.98506436,\n",
              "          0.74321931,  1.62416554],\n",
              "        [ 1.19152393,  0.62198505,  0.03801837, ..., -0.33039916,\n",
              "         -0.02893641, -0.78470689],\n",
              "        [-1.38610372, -0.88873551,  1.17319108, ..., -1.24519992,\n",
              "          1.22091157, -0.48919582],\n",
              "        ...,\n",
              "        [ 0.        ,  0.        ,  0.        , ...,  0.        ,\n",
              "          0.        ,  0.        ],\n",
              "        [ 0.        ,  0.        ,  0.        , ...,  0.        ,\n",
              "          0.        ,  0.        ],\n",
              "        [ 0.        ,  0.        ,  0.        , ...,  0.        ,\n",
              "          0.        ,  0.        ]])"
            ]
          },
          "metadata": {
            "tags": []
          },
          "execution_count": 10
        }
      ]
    },
    {
      "cell_type": "code",
      "metadata": {
        "id": "igEYprd4QeL7",
        "colab_type": "code",
        "colab": {
          "base_uri": "https://localhost:8080/",
          "height": 136
        },
        "outputId": "955bf1f6-e5b4-44a4-c6c4-58829e1bc461"
      },
      "source": [
        "arr_c=np.ones((1000,1000),order='C')\n",
        "arr_f=np.ones((1000,1000),order='F')\n",
        "arr_c.flags"
      ],
      "execution_count": 11,
      "outputs": [
        {
          "output_type": "execute_result",
          "data": {
            "text/plain": [
              "  C_CONTIGUOUS : True\n",
              "  F_CONTIGUOUS : False\n",
              "  OWNDATA : True\n",
              "  WRITEABLE : True\n",
              "  ALIGNED : True\n",
              "  WRITEBACKIFCOPY : False\n",
              "  UPDATEIFCOPY : False"
            ]
          },
          "metadata": {
            "tags": []
          },
          "execution_count": 11
        }
      ]
    },
    {
      "cell_type": "code",
      "metadata": {
        "id": "k-fZF7g6R8Jo",
        "colab_type": "code",
        "colab": {
          "base_uri": "https://localhost:8080/",
          "height": 136
        },
        "outputId": "0e6207f3-bd94-484f-c831-6b0d76043d61"
      },
      "source": [
        "arr_f.flags"
      ],
      "execution_count": 12,
      "outputs": [
        {
          "output_type": "execute_result",
          "data": {
            "text/plain": [
              "  C_CONTIGUOUS : False\n",
              "  F_CONTIGUOUS : True\n",
              "  OWNDATA : True\n",
              "  WRITEABLE : True\n",
              "  ALIGNED : True\n",
              "  WRITEBACKIFCOPY : False\n",
              "  UPDATEIFCOPY : False"
            ]
          },
          "metadata": {
            "tags": []
          },
          "execution_count": 12
        }
      ]
    },
    {
      "cell_type": "code",
      "metadata": {
        "id": "qwgmeZq6SCze",
        "colab_type": "code",
        "colab": {
          "base_uri": "https://localhost:8080/",
          "height": 34
        },
        "outputId": "29502328-2340-4aa0-f4d7-4ef5554edebe"
      },
      "source": [
        "arr_f.flags.f_contiguous"
      ],
      "execution_count": 13,
      "outputs": [
        {
          "output_type": "execute_result",
          "data": {
            "text/plain": [
              "True"
            ]
          },
          "metadata": {
            "tags": []
          },
          "execution_count": 13
        }
      ]
    },
    {
      "cell_type": "code",
      "metadata": {
        "id": "U8GQz-mekYfv",
        "colab_type": "code",
        "colab": {
          "base_uri": "https://localhost:8080/",
          "height": 68
        },
        "outputId": "c7758053-1c9c-4175-8af4-c93dc11275e5"
      },
      "source": [
        "%timeit arr_c.sum(1)\n",
        "%timeit arr_f.sum(1)"
      ],
      "execution_count": 14,
      "outputs": [
        {
          "output_type": "stream",
          "text": [
            "The slowest run took 5.19 times longer than the fastest. This could mean that an intermediate result is being cached.\n",
            "1000 loops, best of 3: 466 µs per loop\n",
            "1000 loops, best of 3: 577 µs per loop\n"
          ],
          "name": "stdout"
        }
      ]
    },
    {
      "cell_type": "code",
      "metadata": {
        "id": "Yujm0FD3koG2",
        "colab_type": "code",
        "colab": {
          "base_uri": "https://localhost:8080/",
          "height": 136
        },
        "outputId": "b492c658-1be5-454e-8745-8f769359b7fc"
      },
      "source": [
        "arr_f.copy('C').flags"
      ],
      "execution_count": 15,
      "outputs": [
        {
          "output_type": "execute_result",
          "data": {
            "text/plain": [
              "  C_CONTIGUOUS : True\n",
              "  F_CONTIGUOUS : False\n",
              "  OWNDATA : True\n",
              "  WRITEABLE : True\n",
              "  ALIGNED : True\n",
              "  WRITEBACKIFCOPY : False\n",
              "  UPDATEIFCOPY : False"
            ]
          },
          "metadata": {
            "tags": []
          },
          "execution_count": 15
        }
      ]
    },
    {
      "cell_type": "code",
      "metadata": {
        "id": "ubuoDqOtlfMU",
        "colab_type": "code",
        "colab": {
          "base_uri": "https://localhost:8080/",
          "height": 34
        },
        "outputId": "f0481c98-eb22-4262-eeec-791af281f871"
      },
      "source": [
        "arr_c[:50].flags.contiguous"
      ],
      "execution_count": 17,
      "outputs": [
        {
          "output_type": "execute_result",
          "data": {
            "text/plain": [
              "True"
            ]
          },
          "metadata": {
            "tags": []
          },
          "execution_count": 17
        }
      ]
    },
    {
      "cell_type": "code",
      "metadata": {
        "id": "TjJ3v_dvl3as",
        "colab_type": "code",
        "colab": {
          "base_uri": "https://localhost:8080/",
          "height": 136
        },
        "outputId": "d8122961-c49d-43bb-c0e1-f6cea71526fb"
      },
      "source": [
        "arr_c[:, :50].flags"
      ],
      "execution_count": 18,
      "outputs": [
        {
          "output_type": "execute_result",
          "data": {
            "text/plain": [
              "  C_CONTIGUOUS : False\n",
              "  F_CONTIGUOUS : False\n",
              "  OWNDATA : False\n",
              "  WRITEABLE : True\n",
              "  ALIGNED : True\n",
              "  WRITEBACKIFCOPY : False\n",
              "  UPDATEIFCOPY : False"
            ]
          },
          "metadata": {
            "tags": []
          },
          "execution_count": 18
        }
      ]
    }
  ]
}